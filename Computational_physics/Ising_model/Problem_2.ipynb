{
 "cells": [
  {
   "cell_type": "code",
   "execution_count": 150,
   "id": "46c6ec45",
   "metadata": {},
   "outputs": [],
   "source": [
    "using Pkg\n",
    "# Pkg.add(\"SpecialFunctions\")"
   ]
  },
  {
   "cell_type": "code",
   "execution_count": 1,
   "id": "2846ffed",
   "metadata": {},
   "outputs": [
    {
     "name": "stdout",
     "output_type": "stream",
     "text": [
      "machine epsilon, Float16: 0.000977\n",
      "machine epsilon, Float32: 1.1920929e-7\n",
      "machine epsilon, Float64: 2.220446049250313e-16\n",
      "6.104e-5\n",
      "1.1754944e-38\n",
      "2.2250738585072014e-308\n",
      "6.55e4\n",
      "3.4028235e38\n",
      "1.7976931348623157e308\n"
     ]
    }
   ],
   "source": [
    "println(\"machine epsilon, Float16: \", eps(Float16))\n",
    "println(\"machine epsilon, Float32: \", eps(Float32))\n",
    "println(\"machine epsilon, Float64: \", eps(Float64))\n",
    "\n",
    "println(floatmin(Float16))\n",
    "println(floatmin(Float32))\n",
    "println(floatmin(Float64))\n",
    "\n",
    "println(floatmax(Float16))\n",
    "println(floatmax(Float32))\n",
    "println(floatmax(Float64))\n"
   ]
  },
  {
   "cell_type": "markdown",
   "id": "6bdca4b9",
   "metadata": {},
   "source": [
    "a)"
   ]
  },
  {
   "cell_type": "code",
   "execution_count": 2,
   "id": "efdd5030",
   "metadata": {},
   "outputs": [
    {
     "data": {
      "text/plain": [
       "1.0"
      ]
     },
     "metadata": {},
     "output_type": "display_data"
    }
   ],
   "source": [
    "x = 1e8\n",
    "y = 1.0"
   ]
  },
  {
   "cell_type": "code",
   "execution_count": 3,
   "id": "95713710",
   "metadata": {},
   "outputs": [
    {
     "name": "stdout",
     "output_type": "stream",
     "text": [
      "Type of x: Float64\n",
      "Type of y: Float64\n",
      "z_64: 1.0\n",
      "Type of z_64: Float64\n"
     ]
    }
   ],
   "source": [
    "x_64 = parse(Float64, string(x))\n",
    "y_64 = parse(Float64, string(y))\n",
    "println(\"Type of x: \", typeof(x_64))\n",
    "println(\"Type of y: \", typeof(y_64))\n",
    "\n",
    "z_64 = x_64 + y_64 - x_64\n",
    "println(\"z_64: \", z_64)\n",
    "println(\"Type of z_64: \", typeof(z_64))"
   ]
  },
  {
   "cell_type": "code",
   "execution_count": 4,
   "id": "0f8fc432",
   "metadata": {},
   "outputs": [
    {
     "name": "stdout",
     "output_type": "stream",
     "text": [
      "Type of x: Float32\n",
      "Type of y: Float32\n",
      "z_32: 0.0\n",
      "Type of z_32: Float32\n"
     ]
    }
   ],
   "source": [
    "x_32 = parse(Float32, string(x))\n",
    "y_32 = parse(Float32, string(y))\n",
    "println(\"Type of x: \", typeof(x_32))\n",
    "println(\"Type of y: \", typeof(y_32))\n",
    "\n",
    "z_32 = x_32  + y_32 - x_32\n",
    "println(\"z_32: \", z_32)\n",
    "println(\"Type of z_32: \", typeof(z_32))"
   ]
  },
  {
   "cell_type": "code",
   "execution_count": 199,
   "id": "6ac9b14b",
   "metadata": {},
   "outputs": [
    {
     "name": "stdout",
     "output_type": "stream",
     "text": [
      "Type of x: Float16\n",
      "Type of y: Float16\n",
      "z_16: NaN\n",
      "Type of z_16: Float16\n"
     ]
    }
   ],
   "source": [
    "x_16 = parse(Float16, string(x))\n",
    "y_16 = parse(Float16, string(y))\n",
    "println(\"Type of x: \", typeof(x_16))\n",
    "println(\"Type of y: \", typeof(y_16))\n",
    "\n",
    "z_16 = x_16 + y_16 - x_16\n",
    "println(\"z_16: \", z_16)\n",
    "println(\"Type of z_16: \", typeof(z_16))"
   ]
  },
  {
   "cell_type": "code",
   "execution_count": 201,
   "id": "4c226ac8",
   "metadata": {},
   "outputs": [
    {
     "name": "stdout",
     "output_type": "stream",
     "text": [
      "Inf\n",
      "1.0e8\n",
      "1.00000001e8\n",
      "1.00000001e+08\n"
     ]
    }
   ],
   "source": [
    "println(Float16(x + y))\n",
    "println(Float32(x + y))\n",
    "println(Float64(x + y))\n",
    "println(BigFloat(x + y))"
   ]
  },
  {
   "cell_type": "markdown",
   "id": "480b61fc",
   "metadata": {},
   "source": [
    "b)\n"
   ]
  },
  {
   "cell_type": "code",
   "execution_count": 11,
   "id": "0988895f",
   "metadata": {},
   "outputs": [
    {
     "name": "stdout",
     "output_type": "stream",
     "text": [
      "a == b: true\n",
      "a: 0.3\n",
      "b: 0.3\n"
     ]
    }
   ],
   "source": [
    "a = Float16(0.1 + 0.2)\n",
    "b = Float16(0.3)\n",
    "println(\"a == b: \", a == b)\n",
    "println(\"a: \", a)\n",
    "println(\"b: \", b)\n"
   ]
  },
  {
   "cell_type": "code",
   "execution_count": 12,
   "id": "bfeb133a",
   "metadata": {},
   "outputs": [
    {
     "name": "stdout",
     "output_type": "stream",
     "text": [
      "a == b: true\n",
      "a: 0.3\n",
      "b: 0.3\n"
     ]
    }
   ],
   "source": [
    "a = Float32(0.1 + 0.2)\n",
    "b = Float32(0.3)\n",
    "println(\"a == b: \", a == b)\n",
    "println(\"a: \", a)\n",
    "println(\"b: \", b)"
   ]
  },
  {
   "cell_type": "markdown",
   "id": "a5ce9a03",
   "metadata": {},
   "source": [
    "Precision error less than $\\epsilon_0$"
   ]
  },
  {
   "cell_type": "code",
   "execution_count": 13,
   "id": "3cec865c",
   "metadata": {},
   "outputs": [
    {
     "name": "stdout",
     "output_type": "stream",
     "text": [
      "a == b: false\n",
      "a: 0.30000000000000004\n",
      "b: 0.3\n"
     ]
    }
   ],
   "source": [
    "a = Float64(0.1 + 0.2)\n",
    "b = Float64(0.3)\n",
    "println(\"a == b: \", a == b)\n",
    "println(\"a: \", a)\n",
    "println(\"b: \", b)"
   ]
  },
  {
   "cell_type": "code",
   "execution_count": null,
   "id": "4288007c",
   "metadata": {},
   "outputs": [
    {
     "data": {
      "text/plain": [
       "true"
      ]
     },
     "metadata": {},
     "output_type": "display_data"
    }
   ],
   "source": [
    "a ≈ b"
   ]
  },
  {
   "cell_type": "code",
   "execution_count": 87,
   "id": "828e058c",
   "metadata": {},
   "outputs": [
    {
     "data": {
      "text/plain": [
       "true"
      ]
     },
     "metadata": {},
     "output_type": "display_data"
    }
   ],
   "source": [
    "a_rounded = round(a, digits=10)\n",
    "b_rounded = round(b, digits=10)\n",
    "a_rounded == b_rounded"
   ]
  },
  {
   "cell_type": "markdown",
   "id": "f0d027a7",
   "metadata": {},
   "source": [
    "Take aways: Use Float64 and use \\approx or a toleranse when checking equaliy"
   ]
  },
  {
   "cell_type": "markdown",
   "id": "1708253a",
   "metadata": {},
   "source": [
    "c)"
   ]
  },
  {
   "cell_type": "code",
   "execution_count": 93,
   "id": "9437dec1",
   "metadata": {},
   "outputs": [
    {
     "name": "stdout",
     "output_type": "stream",
     "text": [
      "x, before: 1.0\n",
      "y, before: 1.0000000001\n",
      "x, after:  1.0\n",
      "y. after:  1.0000000001\n",
      "x == y: false\n",
      "x ≈ y: true\n"
     ]
    }
   ],
   "source": [
    "x = 1.0\n",
    "y = 1.0 + 1e6*1e-16\n",
    "println(\"x, before: \", x)\n",
    "println(\"y, before: \", y)\n",
    "for i in 1:1e6\n",
    "    x += 1e-16\n",
    "end\n",
    "println(\"x, after:  \", x)\n",
    "println(\"y. after:  \", y)\n",
    "println(\"x == y: \", x == y)\n",
    "println(\"x ≈ y: \", x ≈ y)"
   ]
  },
  {
   "cell_type": "code",
   "execution_count": null,
   "id": "38a02c46",
   "metadata": {},
   "outputs": [
    {
     "ename": "OverflowError",
     "evalue": "OverflowError: 170 is too large to look up in the table; consider using `factorial(big(170))` instead",
     "output_type": "error",
     "traceback": [
      "OverflowError: 170 is too large to look up in the table; consider using `factorial(big(170))` instead\n",
      "\n",
      "Stacktrace:\n",
      " [1] factorial_lookup\n",
      "   @ .\\combinatorics.jl:19 [inlined]\n",
      " [2] factorial(n::Int64)\n",
      "   @ Base .\\combinatorics.jl:27\n",
      " [3] top-level scope\n",
      "   @ c:\\Users\\jonas\\Documents\\Codespace\\TFY4235\\Numerical_Physics\\Exam_Ising_model\\jl_notebook_cell_df34fa98e69747e1a8f8a730347b8e2f_X25sZmlsZQ==.jl:1"
     ]
    }
   ],
   "source": [
    "factorial(170)\n",
    "# factorial(171.0)"
   ]
  },
  {
   "cell_type": "code",
   "execution_count": 15,
   "id": "d3acbb59",
   "metadata": {},
   "outputs": [
    {
     "data": {
      "text/plain": [
       "7257415615307998967396728211129263114716991681296451376543577798900561843401706157852350749242617459511490991237838520776666022565442753025328900773207510902400430280058295603966612599658257104398558294257568966313439612262571094946806711205568880457193340212661452800000000000000000000000000000000000000000"
      ]
     },
     "metadata": {},
     "output_type": "display_data"
    }
   ],
   "source": [
    "factorial(big(170))"
   ]
  },
  {
   "cell_type": "code",
   "execution_count": 123,
   "id": "0277c070",
   "metadata": {},
   "outputs": [
    {
     "name": "stdout",
     "output_type": "stream",
     "text": [
      "7.257415615308882e306\n",
      "711.71472580229\n",
      "1.241018070217647400868323521295509587345969993914144613746056293466134689295688e+309\n"
     ]
    }
   ],
   "source": [
    "using SpecialFunctions\n",
    "println(exp(logfactorial(170)))\n",
    "println(logfactorial(171))\n",
    "println(exp(BigFloat(logfactorial(171))))"
   ]
  },
  {
   "cell_type": "markdown",
   "id": "b62fce77",
   "metadata": {},
   "source": [
    "e)\n"
   ]
  },
  {
   "cell_type": "code",
   "execution_count": 215,
   "id": "89e5d78d",
   "metadata": {},
   "outputs": [
    {
     "data": {
      "text/plain": [
       "1.0"
      ]
     },
     "metadata": {},
     "output_type": "display_data"
    }
   ],
   "source": [
    "a = 1.0000000000010\n",
    "b = 1.0"
   ]
  },
  {
   "cell_type": "code",
   "execution_count": 216,
   "id": "4da9d370",
   "metadata": {},
   "outputs": [
    {
     "name": "stdout",
     "output_type": "stream",
     "text": [
      "sqrt(a) 1.0000000000005\n",
      "sqrt(b) 1.0\n",
      "Naive: 5.000444502911705e-13\n",
      "Round up: 5.000444502911705e-13\n",
      "Round up: 5.0e-13\n"
     ]
    }
   ],
   "source": [
    "println(\"sqrt(a) \", sqrt(a))\n",
    "println(\"sqrt(b) \", sqrt(b))\n",
    "println(\"Naive: \", sqrt(a) - sqrt(b))\n",
    "println(\"Round up: \", (sqrt(round(a, digits=13)) - sqrt(round(b, digits=13))))\n",
    "println(\"Round up: \", round(sqrt(a) - sqrt(b), digits=13))"
   ]
  },
  {
   "cell_type": "code",
   "execution_count": 217,
   "id": "432851a9",
   "metadata": {},
   "outputs": [
    {
     "data": {
      "text/plain": [
       "5.000444502910455e-13"
      ]
     },
     "metadata": {},
     "output_type": "display_data"
    }
   ],
   "source": [
    "(a-b) / (sqrt(a) + sqrt(b))"
   ]
  }
 ],
 "metadata": {
  "kernelspec": {
   "display_name": "Julia 1.11.2",
   "language": "julia",
   "name": "julia-1.11"
  },
  "language_info": {
   "file_extension": ".jl",
   "mimetype": "application/julia",
   "name": "julia",
   "version": "1.11.2"
  }
 },
 "nbformat": 4,
 "nbformat_minor": 5
}
