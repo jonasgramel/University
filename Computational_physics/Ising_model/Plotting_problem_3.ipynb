{
 "cells": [
  {
   "cell_type": "code",
   "execution_count": 1,
   "id": "4511e9b5",
   "metadata": {},
   "outputs": [],
   "source": [
    "using Pkg\n",
    "# Pkg.add(\"Plots\")\n",
    "# Pkg.add(\"ProgressMeter\")\n",
    "# Pkg.add(\"Statistics\")\n",
    "# Pkg.add(\"DataFrames\")\n",
    "# Pkg.add(\"CSV\")\n",
    "# Pkg.add(\"GLM)\n",
    "# Pkg.add(\"DelimitedFiles\")\n",
    "# Pkg.add(\"LaTeXStrings\")\n",
    "# Pkg.add(\"StatsBase\")"
   ]
  },
  {
   "cell_type": "code",
   "execution_count": 2,
   "id": "6c8c5e6a",
   "metadata": {},
   "outputs": [],
   "source": [
    "using Plots\n",
    "using ProgressMeter\n",
    "using Statistics\n",
    "using DataFrames\n",
    "using CSV\n",
    "using GLM\n",
    "using DelimitedFiles\n",
    "using LaTeXStrings\n",
    "using StatsBase"
   ]
  },
  {
   "cell_type": "markdown",
   "id": "5abbbc0c",
   "metadata": {},
   "source": [
    "Problem 3.1.1"
   ]
  },
  {
   "cell_type": "code",
   "execution_count": 3,
   "id": "425fdb4b",
   "metadata": {},
   "outputs": [
    {
     "data": {
      "text/html": [
       "<div><div style = \"float: left;\"><span>16010001×6 DataFrame</span></div><div style = \"float: right;\"><span style = \"font-style: italic;\">16009976 rows omitted</span></div><div style = \"clear: both;\"></div></div><div class = \"data-frame\" style = \"overflow-x: scroll;\"><table class = \"data-frame\" style = \"margin-bottom: 6px;\"><thead><tr class = \"header\"><th class = \"rowNumber\" style = \"font-weight: bold; text-align: right;\">Row</th><th style = \"text-align: left;\">E_T21</th><th style = \"text-align: left;\">E_T23</th><th style = \"text-align: left;\">E_T25</th><th style = \"text-align: left;\">M_T21</th><th style = \"text-align: left;\">M_T23</th><th style = \"text-align: left;\">M_T25</th></tr><tr class = \"subheader headerLastRow\"><th class = \"rowNumber\" style = \"font-weight: bold; text-align: right;\"></th><th title = \"Float64\" style = \"text-align: left;\">Float64</th><th title = \"Float64\" style = \"text-align: left;\">Float64</th><th title = \"Float64\" style = \"text-align: left;\">Float64</th><th title = \"Float64\" style = \"text-align: left;\">Float64</th><th title = \"Float64\" style = \"text-align: left;\">Float64</th><th title = \"Float64\" style = \"text-align: left;\">Float64</th></tr></thead><tbody><tr><td class = \"rowNumber\" style = \"font-weight: bold; text-align: right;\">1</td><td style = \"text-align: right;\">-44.0</td><td style = \"text-align: right;\">52.0</td><td style = \"text-align: right;\">12.0</td><td style = \"text-align: right;\">-0.01875</td><td style = \"text-align: right;\">-0.06375</td><td style = \"text-align: right;\">-0.025</td></tr><tr><td class = \"rowNumber\" style = \"font-weight: bold; text-align: right;\">2</td><td style = \"text-align: right;\">-44.0</td><td style = \"text-align: right;\">52.0</td><td style = \"text-align: right;\">12.0</td><td style = \"text-align: right;\">-0.01875</td><td style = \"text-align: right;\">-0.06375</td><td style = \"text-align: right;\">-0.025</td></tr><tr><td class = \"rowNumber\" style = \"font-weight: bold; text-align: right;\">3</td><td style = \"text-align: right;\">-44.0</td><td style = \"text-align: right;\">52.0</td><td style = \"text-align: right;\">12.0</td><td style = \"text-align: right;\">-0.01875</td><td style = \"text-align: right;\">-0.0625</td><td style = \"text-align: right;\">-0.025</td></tr><tr><td class = \"rowNumber\" style = \"font-weight: bold; text-align: right;\">4</td><td style = \"text-align: right;\">-40.0</td><td style = \"text-align: right;\">52.0</td><td style = \"text-align: right;\">12.0</td><td style = \"text-align: right;\">-0.0175</td><td style = \"text-align: right;\">-0.0625</td><td style = \"text-align: right;\">-0.02625</td></tr><tr><td class = \"rowNumber\" style = \"font-weight: bold; text-align: right;\">5</td><td style = \"text-align: right;\">-44.0</td><td style = \"text-align: right;\">52.0</td><td style = \"text-align: right;\">8.0</td><td style = \"text-align: right;\">-0.01625</td><td style = \"text-align: right;\">-0.06375</td><td style = \"text-align: right;\">-0.0275</td></tr><tr><td class = \"rowNumber\" style = \"font-weight: bold; text-align: right;\">6</td><td style = \"text-align: right;\">-44.0</td><td style = \"text-align: right;\">52.0</td><td style = \"text-align: right;\">8.0</td><td style = \"text-align: right;\">-0.015</td><td style = \"text-align: right;\">-0.065</td><td style = \"text-align: right;\">-0.02875</td></tr><tr><td class = \"rowNumber\" style = \"font-weight: bold; text-align: right;\">7</td><td style = \"text-align: right;\">-44.0</td><td style = \"text-align: right;\">44.0</td><td style = \"text-align: right;\">8.0</td><td style = \"text-align: right;\">-0.015</td><td style = \"text-align: right;\">-0.06625</td><td style = \"text-align: right;\">-0.02875</td></tr><tr><td class = \"rowNumber\" style = \"font-weight: bold; text-align: right;\">8</td><td style = \"text-align: right;\">-48.0</td><td style = \"text-align: right;\">40.0</td><td style = \"text-align: right;\">8.0</td><td style = \"text-align: right;\">-0.01625</td><td style = \"text-align: right;\">-0.0675</td><td style = \"text-align: right;\">-0.0275</td></tr><tr><td class = \"rowNumber\" style = \"font-weight: bold; text-align: right;\">9</td><td style = \"text-align: right;\">-48.0</td><td style = \"text-align: right;\">40.0</td><td style = \"text-align: right;\">8.0</td><td style = \"text-align: right;\">-0.015</td><td style = \"text-align: right;\">-0.0675</td><td style = \"text-align: right;\">-0.02875</td></tr><tr><td class = \"rowNumber\" style = \"font-weight: bold; text-align: right;\">10</td><td style = \"text-align: right;\">-48.0</td><td style = \"text-align: right;\">36.0</td><td style = \"text-align: right;\">8.0</td><td style = \"text-align: right;\">-0.01625</td><td style = \"text-align: right;\">-0.06875</td><td style = \"text-align: right;\">-0.03</td></tr><tr><td class = \"rowNumber\" style = \"font-weight: bold; text-align: right;\">11</td><td style = \"text-align: right;\">-48.0</td><td style = \"text-align: right;\">36.0</td><td style = \"text-align: right;\">8.0</td><td style = \"text-align: right;\">-0.01625</td><td style = \"text-align: right;\">-0.0675</td><td style = \"text-align: right;\">-0.03125</td></tr><tr><td class = \"rowNumber\" style = \"font-weight: bold; text-align: right;\">12</td><td style = \"text-align: right;\">-48.0</td><td style = \"text-align: right;\">36.0</td><td style = \"text-align: right;\">8.0</td><td style = \"text-align: right;\">-0.01625</td><td style = \"text-align: right;\">-0.06625</td><td style = \"text-align: right;\">-0.0325</td></tr><tr><td class = \"rowNumber\" style = \"font-weight: bold; text-align: right;\">13</td><td style = \"text-align: right;\">-56.0</td><td style = \"text-align: right;\">36.0</td><td style = \"text-align: right;\">8.0</td><td style = \"text-align: right;\">-0.0175</td><td style = \"text-align: right;\">-0.0675</td><td style = \"text-align: right;\">-0.03375</td></tr><tr><td style = \"text-align: right;\">&vellip;</td><td style = \"text-align: right;\">&vellip;</td><td style = \"text-align: right;\">&vellip;</td><td style = \"text-align: right;\">&vellip;</td><td style = \"text-align: right;\">&vellip;</td><td style = \"text-align: right;\">&vellip;</td><td style = \"text-align: right;\">&vellip;</td></tr><tr><td class = \"rowNumber\" style = \"font-weight: bold; text-align: right;\">16009990</td><td style = \"text-align: right;\">-2712.0</td><td style = \"text-align: right;\">-2144.0</td><td style = \"text-align: right;\">-1668.0</td><td style = \"text-align: right;\">0.9025</td><td style = \"text-align: right;\">0.6625</td><td style = \"text-align: right;\">0.29625</td></tr><tr><td class = \"rowNumber\" style = \"font-weight: bold; text-align: right;\">16009991</td><td style = \"text-align: right;\">-2712.0</td><td style = \"text-align: right;\">-2144.0</td><td style = \"text-align: right;\">-1668.0</td><td style = \"text-align: right;\">0.9025</td><td style = \"text-align: right;\">0.6625</td><td style = \"text-align: right;\">0.29625</td></tr><tr><td class = \"rowNumber\" style = \"font-weight: bold; text-align: right;\">16009992</td><td style = \"text-align: right;\">-2712.0</td><td style = \"text-align: right;\">-2144.0</td><td style = \"text-align: right;\">-1668.0</td><td style = \"text-align: right;\">0.9025</td><td style = \"text-align: right;\">0.6625</td><td style = \"text-align: right;\">0.295</td></tr><tr><td class = \"rowNumber\" style = \"font-weight: bold; text-align: right;\">16009993</td><td style = \"text-align: right;\">-2704.0</td><td style = \"text-align: right;\">-2148.0</td><td style = \"text-align: right;\">-1668.0</td><td style = \"text-align: right;\">0.90125</td><td style = \"text-align: right;\">0.66375</td><td style = \"text-align: right;\">0.295</td></tr><tr><td class = \"rowNumber\" style = \"font-weight: bold; text-align: right;\">16009994</td><td style = \"text-align: right;\">-2704.0</td><td style = \"text-align: right;\">-2148.0</td><td style = \"text-align: right;\">-1668.0</td><td style = \"text-align: right;\">0.90125</td><td style = \"text-align: right;\">0.66375</td><td style = \"text-align: right;\">0.295</td></tr><tr><td class = \"rowNumber\" style = \"font-weight: bold; text-align: right;\">16009995</td><td style = \"text-align: right;\">-2704.0</td><td style = \"text-align: right;\">-2148.0</td><td style = \"text-align: right;\">-1668.0</td><td style = \"text-align: right;\">0.90125</td><td style = \"text-align: right;\">0.66375</td><td style = \"text-align: right;\">0.295</td></tr><tr><td class = \"rowNumber\" style = \"font-weight: bold; text-align: right;\">16009996</td><td style = \"text-align: right;\">-2704.0</td><td style = \"text-align: right;\">-2148.0</td><td style = \"text-align: right;\">-1664.0</td><td style = \"text-align: right;\">0.90125</td><td style = \"text-align: right;\">0.66375</td><td style = \"text-align: right;\">0.29375</td></tr><tr><td class = \"rowNumber\" style = \"font-weight: bold; text-align: right;\">16009997</td><td style = \"text-align: right;\">-2704.0</td><td style = \"text-align: right;\">-2148.0</td><td style = \"text-align: right;\">-1664.0</td><td style = \"text-align: right;\">0.90125</td><td style = \"text-align: right;\">0.66375</td><td style = \"text-align: right;\">0.29375</td></tr><tr><td class = \"rowNumber\" style = \"font-weight: bold; text-align: right;\">16009998</td><td style = \"text-align: right;\">-2704.0</td><td style = \"text-align: right;\">-2148.0</td><td style = \"text-align: right;\">-1664.0</td><td style = \"text-align: right;\">0.90125</td><td style = \"text-align: right;\">0.66375</td><td style = \"text-align: right;\">0.29375</td></tr><tr><td class = \"rowNumber\" style = \"font-weight: bold; text-align: right;\">16009999</td><td style = \"text-align: right;\">-2704.0</td><td style = \"text-align: right;\">-2148.0</td><td style = \"text-align: right;\">-1664.0</td><td style = \"text-align: right;\">0.90125</td><td style = \"text-align: right;\">0.66375</td><td style = \"text-align: right;\">0.29375</td></tr><tr><td class = \"rowNumber\" style = \"font-weight: bold; text-align: right;\">16010000</td><td style = \"text-align: right;\">-2704.0</td><td style = \"text-align: right;\">-2148.0</td><td style = \"text-align: right;\">-1664.0</td><td style = \"text-align: right;\">0.90125</td><td style = \"text-align: right;\">0.66375</td><td style = \"text-align: right;\">0.29375</td></tr><tr><td class = \"rowNumber\" style = \"font-weight: bold; text-align: right;\">16010001</td><td style = \"text-align: right;\">-2704.0</td><td style = \"text-align: right;\">-2148.0</td><td style = \"text-align: right;\">-1664.0</td><td style = \"text-align: right;\">0.90125</td><td style = \"text-align: right;\">0.66375</td><td style = \"text-align: right;\">0.29375</td></tr></tbody></table></div>"
      ],
      "text/latex": [
       "\\begin{tabular}{r|cccccc}\n",
       "\t& E\\_T21 & E\\_T23 & E\\_T25 & M\\_T21 & M\\_T23 & M\\_T25\\\\\n",
       "\t\\hline\n",
       "\t& Float64 & Float64 & Float64 & Float64 & Float64 & Float64\\\\\n",
       "\t\\hline\n",
       "\t1 & -44.0 & 52.0 & 12.0 & -0.01875 & -0.06375 & -0.025 \\\\\n",
       "\t2 & -44.0 & 52.0 & 12.0 & -0.01875 & -0.06375 & -0.025 \\\\\n",
       "\t3 & -44.0 & 52.0 & 12.0 & -0.01875 & -0.0625 & -0.025 \\\\\n",
       "\t4 & -40.0 & 52.0 & 12.0 & -0.0175 & -0.0625 & -0.02625 \\\\\n",
       "\t5 & -44.0 & 52.0 & 8.0 & -0.01625 & -0.06375 & -0.0275 \\\\\n",
       "\t6 & -44.0 & 52.0 & 8.0 & -0.015 & -0.065 & -0.02875 \\\\\n",
       "\t7 & -44.0 & 44.0 & 8.0 & -0.015 & -0.06625 & -0.02875 \\\\\n",
       "\t8 & -48.0 & 40.0 & 8.0 & -0.01625 & -0.0675 & -0.0275 \\\\\n",
       "\t9 & -48.0 & 40.0 & 8.0 & -0.015 & -0.0675 & -0.02875 \\\\\n",
       "\t10 & -48.0 & 36.0 & 8.0 & -0.01625 & -0.06875 & -0.03 \\\\\n",
       "\t11 & -48.0 & 36.0 & 8.0 & -0.01625 & -0.0675 & -0.03125 \\\\\n",
       "\t12 & -48.0 & 36.0 & 8.0 & -0.01625 & -0.06625 & -0.0325 \\\\\n",
       "\t13 & -56.0 & 36.0 & 8.0 & -0.0175 & -0.0675 & -0.03375 \\\\\n",
       "\t14 & -52.0 & 40.0 & 8.0 & -0.01875 & -0.06625 & -0.03375 \\\\\n",
       "\t15 & -52.0 & 40.0 & 0.0 & -0.02 & -0.06625 & -0.035 \\\\\n",
       "\t16 & -48.0 & 36.0 & 0.0 & -0.01875 & -0.065 & -0.03375 \\\\\n",
       "\t17 & -48.0 & 32.0 & 0.0 & -0.0175 & -0.06375 & -0.03375 \\\\\n",
       "\t18 & -48.0 & 28.0 & -8.0 & -0.0175 & -0.0625 & -0.035 \\\\\n",
       "\t19 & -48.0 & 24.0 & -12.0 & -0.0175 & -0.06375 & -0.03625 \\\\\n",
       "\t20 & -52.0 & 24.0 & -12.0 & -0.01875 & -0.06375 & -0.035 \\\\\n",
       "\t21 & -56.0 & 24.0 & -12.0 & -0.0175 & -0.06375 & -0.03375 \\\\\n",
       "\t22 & -52.0 & 24.0 & -16.0 & -0.01625 & -0.065 & -0.0325 \\\\\n",
       "\t23 & -56.0 & 24.0 & -16.0 & -0.015 & -0.06625 & -0.03375 \\\\\n",
       "\t24 & -60.0 & 24.0 & -16.0 & -0.01375 & -0.06625 & -0.03375 \\\\\n",
       "\t$\\dots$ & $\\dots$ & $\\dots$ & $\\dots$ & $\\dots$ & $\\dots$ & $\\dots$ \\\\\n",
       "\\end{tabular}\n"
      ],
      "text/plain": [
       "\u001b[1m16010001×6 DataFrame\u001b[0m\n",
       "\u001b[1m      Row \u001b[0m│\u001b[1m E_T21   \u001b[0m\u001b[1m E_T23   \u001b[0m\u001b[1m E_T25   \u001b[0m\u001b[1m M_T21    \u001b[0m\u001b[1m M_T23    \u001b[0m\u001b[1m M_T25    \u001b[0m\n",
       "          │\u001b[90m Float64 \u001b[0m\u001b[90m Float64 \u001b[0m\u001b[90m Float64 \u001b[0m\u001b[90m Float64  \u001b[0m\u001b[90m Float64  \u001b[0m\u001b[90m Float64  \u001b[0m\n",
       "──────────┼─────────────────────────────────────────────────────────\n",
       "        1 │   -44.0     52.0     12.0  -0.01875  -0.06375  -0.025\n",
       "        2 │   -44.0     52.0     12.0  -0.01875  -0.06375  -0.025\n",
       "        3 │   -44.0     52.0     12.0  -0.01875  -0.0625   -0.025\n",
       "        4 │   -40.0     52.0     12.0  -0.0175   -0.0625   -0.02625\n",
       "        5 │   -44.0     52.0      8.0  -0.01625  -0.06375  -0.0275\n",
       "        6 │   -44.0     52.0      8.0  -0.015    -0.065    -0.02875\n",
       "        7 │   -44.0     44.0      8.0  -0.015    -0.06625  -0.02875\n",
       "        8 │   -48.0     40.0      8.0  -0.01625  -0.0675   -0.0275\n",
       "    ⋮     │    ⋮        ⋮        ⋮        ⋮         ⋮         ⋮\n",
       " 16009995 │ -2704.0  -2148.0  -1668.0   0.90125   0.66375   0.295\n",
       " 16009996 │ -2704.0  -2148.0  -1664.0   0.90125   0.66375   0.29375\n",
       " 16009997 │ -2704.0  -2148.0  -1664.0   0.90125   0.66375   0.29375\n",
       " 16009998 │ -2704.0  -2148.0  -1664.0   0.90125   0.66375   0.29375\n",
       " 16009999 │ -2704.0  -2148.0  -1664.0   0.90125   0.66375   0.29375\n",
       " 16010000 │ -2704.0  -2148.0  -1664.0   0.90125   0.66375   0.29375\n",
       " 16010001 │ -2704.0  -2148.0  -1664.0   0.90125   0.66375   0.29375\n",
       "\u001b[36m                                               16009986 rows omitted\u001b[0m"
      ]
     },
     "metadata": {},
     "output_type": "display_data"
    }
   ],
   "source": [
    "df_3_1_1 = CSV.read(\"DataFrames/H_zero/p_zero/Problem_3_1_1.csv\", DataFrame)"
   ]
  },
  {
   "cell_type": "code",
   "execution_count": 4,
   "id": "877eed34",
   "metadata": {},
   "outputs": [],
   "source": [
    "# df_3_1_1_E = plot(df_3_1_1.E_T21, label=\"E_T21\", xlabel=\"Steps\", ylabel=\"Energy\",legend=:topright, grid=true, lw=5, fontsize=20)\n",
    "# plot!(df_3_1_1_E, df_3_1_1.E_T23, label=\"E_T23\", lw=5)\n",
    "# plot!(df_3_1_1_E, df_3_1_1.E_T25, label=\"E_T25\", lw=5)\n",
    "# savefig(df_3_1_1_E, \"figures/Problem_3_1_1_E.svg\")\n"
   ]
  },
  {
   "cell_type": "code",
   "execution_count": 19,
   "id": "44fcbe86",
   "metadata": {},
   "outputs": [
    {
     "data": {
      "text/plain": [
       "3202000-element Vector{Float64}:\n",
       "  0.9998908523617538\n",
       "  0.9997816017341201\n",
       "  0.9996722796575992\n",
       "  0.9995629705190029\n",
       "  0.9994537565813387\n",
       "  0.99934464505363\n",
       "  0.9992357169757676\n",
       "  0.9991266215401504\n",
       "  0.9990174043840685\n",
       "  0.9989082638263433\n",
       "  ⋮\n",
       " -3.955819042334721e-6\n",
       " -3.5613700062847726e-6\n",
       " -3.125660964084869e-6\n",
       " -2.6899519218849653e-6\n",
       " -2.2542428796850614e-6\n",
       " -1.8115175682436638e-6\n",
       " -1.3281759343241925e-6\n",
       " -8.854506228827951e-7\n",
       " -4.4272531144139753e-7"
      ]
     },
     "metadata": {},
     "output_type": "display_data"
    }
   ],
   "source": [
    "cut_off_1 = round(Int, 0.4 * size(df_3_1_1, 1))\n",
    "cut_off_2 = round(Int, 0.2 * size(df_3_1_1, 1))\n",
    "C_M = autocor(df_3_1_1.M_T21[end - cut_off_1:end-cut_off_2], collect(1:length(df_3_1_1.M_T21[end - cut_off:end])-1))"
   ]
  },
  {
   "cell_type": "code",
   "execution_count": 20,
   "id": "eb1dcb8a",
   "metadata": {},
   "outputs": [
    {
     "data": {
      "text/plain": [
       "\"c:\\\\Users\\\\jonas\\\\Documents\\\\Codespace\\\\TFY4235\\\\Numerical_Physics\\\\Exam_Ising_model\\\\figures\\\\Problem_3_1_1_CM_04_02.png\""
      ]
     },
     "metadata": {},
     "output_type": "display_data"
    }
   ],
   "source": [
    "plot(C_M, label=\"C_M\", title=\"Autocorrelation of Magnetization\", xlabel=\"t\", ylabel=\"C_M(t)\", legend=:topright, lw=2, color=:blue)\n",
    "savefig(\"figures/Problem_3_1_1_CM_04_02.png\")"
   ]
  },
  {
   "cell_type": "code",
   "execution_count": 7,
   "id": "b099091f",
   "metadata": {},
   "outputs": [],
   "source": [
    "# p_3_1_1 = plot(df_3_1_1.E_T21, label=\"T=2.1\", xlabel=\"Steps\", ylabel=\"Energy\")\n",
    "# plot!(df_3_1_1.E_T23, label=\"T=2.3\")\n",
    "# plot!(df_3_1_1.E_T25, label=\"T=2.5\")\n",
    "# savefig(\"Problem_3_1_1.svg\", p_3_1_1)"
   ]
  }
 ],
 "metadata": {
  "kernelspec": {
   "display_name": "Julia 1.11.2",
   "language": "julia",
   "name": "julia-1.11"
  },
  "language_info": {
   "file_extension": ".jl",
   "mimetype": "application/julia",
   "name": "julia",
   "version": "1.11.2"
  }
 },
 "nbformat": 4,
 "nbformat_minor": 5
}
