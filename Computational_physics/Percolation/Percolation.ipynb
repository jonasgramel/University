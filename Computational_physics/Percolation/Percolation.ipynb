{
 "cells": [
  {
   "cell_type": "code",
   "execution_count": 1,
   "metadata": {},
   "outputs": [],
   "source": [
    "using Pkg\n",
    "# Pkg.add(\"Random\")\n",
    "# Pkg.add(\"Plots\")\n",
    "# Pkg.add(\"LaTeXStrings\")\n",
    "# Pkg.add(\"Statistics\")\n",
    "# Pkg.add(\"CSV\")\n",
    "# Pkg.add(\"DataFrames\")\n",
    "# Pkg.add(\"LoopVectorization\")\n",
    "# Pkg.add(\"ThreadsX\")\n",
    "# Pkg.add(\"GLM\")\n",
    "# Pkg.add(\"SparseArrays)\n",
    "# Pkg.add(\"SpecialFunctions\")\n",
    "# Pkg.add(\"JLD2\")"
   ]
  },
  {
   "cell_type": "code",
   "execution_count": 3,
   "metadata": {},
   "outputs": [],
   "source": [
    "using Random\n",
    "using Plots\n",
    "using LaTeXStrings\n",
    "using Statistics\n",
    "using CSV\n",
    "using DataFrames\n",
    "using Base.Threads       # For multi-threading\n",
    "using LoopVectorization  # For increased performance\n",
    "using GLM\n",
    "using SparseArrays\n",
    "# using SpecialFunctions\n",
    "using JLD2"
   ]
  },
  {
   "cell_type": "code",
   "execution_count": null,
   "metadata": {},
   "outputs": [],
   "source": [
    "function get_root_node(i::Int, network)\n",
    "    if network[i] < 0  # Check if i is the root node\n",
    "        return i\n",
    "    else\n",
    "        # Path compression: set parent directly to root for efficiency\n",
    "        network[i] = get_root_node(network[i], network)\n",
    "        return network[i]\n",
    "    end\n",
    "end\n",
    "\n",
    "function activate_bond(k, network, lattice_matrix, cluster_dict, greatest_cluster_ref, avg_s)\n",
    "    i = lattice_matrix[k, 1]  # Node 1\n",
    "    j = lattice_matrix[k, 2]  # Node 2\n",
    "\n",
    "    root_i = get_root_node(i, network)\n",
    "    root_j = get_root_node(j, network)\n",
    "\n",
    "    if root_i != root_j\n",
    "        # Ensure the larger cluster remains the root\n",
    "        if abs(network[root_i]) < abs(network[root_j])\n",
    "            root_i, root_j = root_j, root_i  # Swap to make root_i the larger cluster\n",
    "        end\n",
    "\n",
    "        avg_s = avg_s - network[root_i]^2 - network[root_j]^2 + (network[root_i] + network[root_j])^2  # New size of the merged cluster\n",
    "        # Merge root_j into root_i\n",
    "        network[root_i] -= abs(network[root_j])  # Update size of the merged cluster\n",
    "\n",
    "        # Update all nodes in cluster_j to point to root_i\n",
    "        if haskey(cluster_dict, root_j)\n",
    "            for node in cluster_dict[root_j]\n",
    "                network[node] = root_i  # Update parent\n",
    "            end\n",
    "            # Merge the node lists\n",
    "            cluster_dict[root_i] = vcat(cluster_dict[root_i], cluster_dict[root_j])\n",
    "            delete!(cluster_dict, root_j)  # Remove the old cluster entry\n",
    "        end\n",
    "\n",
    "        # Update the greatest cluster reference if necessary\n",
    "        if abs(network[root_i]) > abs(network[greatest_cluster_ref[]])\n",
    "            greatest_cluster_ref[] = root_i\n",
    "        end\n",
    "                \n",
    "    end\n",
    "    return avg_s\n",
    "end\n",
    "\n",
    "function lattice_loader(file_name::String)\n",
    "    if !isfile(file_name)\n",
    "        error(\"File $file_name does not exist\")\n",
    "    end\n",
    "    lattice = []\n",
    "    open(file_name, \"r\") do file_name\n",
    "        for line in eachline(file_name)\n",
    "            push!(lattice, parse(Int, line))\n",
    "        end\n",
    "    end\n",
    "    lattice_matrix = reshape(lattice, 2, :)'\n",
    "end\n",
    "\n",
    "function shuffle_bonds(lattice_matrix, rng)\n",
    "    M = size(lattice_matrix, 1)\n",
    "    for i in 2:M  \n",
    "        r = rand(rng, i:M) \n",
    "        lattice_matrix[[i-1, r], :] = lattice_matrix[[r, i-1], :]\n",
    "    end\n",
    "    return lattice_matrix\n",
    "end\n"
   ]
  },
  {
   "cell_type": "code",
   "execution_count": null,
   "metadata": {},
   "outputs": [],
   "source": [
    "# const log_fact_dict = Dict{Int, Float64}()  # Store log factorials for memoization\n",
    "# const binom_coeff = Dict{Int, Float64}()  # Store binomial coefficients for memoization\n",
    "# const log_fact_lock = ReentrantLock()\n",
    "# const binom_lock = ReentrantLock()\n",
    "\n",
    "# function log_factorial(n::Int)\n",
    "#     if n < 0\n",
    "#         throw(ArgumentError(\"n must be non-negative\"))\n",
    "#     elseif haskey(log_fact_dict, n)\n",
    "#         return log_fact_dict[n]\n",
    "#     else\n",
    "#         result = sum(log.(1:n))\n",
    "        \n",
    "#         lock(log_fact_lock) do\n",
    "#             log_fact_dict[n] = result\n",
    "#         end \n",
    "#         return result\n",
    "#     end\n",
    "# end\n",
    "\n",
    "# function logbinom(n::Int, k::Int)\n",
    "#     if k < 0 || k > n\n",
    "#         return -Inf   # Invalid coeff\n",
    "#     end\n",
    "#     return log_factorial(n) - log_factorial(k) - log_factorial(n-k)\n",
    "# end\n",
    "\n",
    "# function precompute_log_factorials(max_n::Int)\n",
    "#     @threads for i in 0:max_n\n",
    "#         log_factorial(i)\n",
    "#     end\n",
    "# end\n",
    "\n",
    "# function compute_binom_coeffs(M::Int)\n",
    "#     for n in 1:M\n",
    "#         result = logbinom(M, n)\n",
    "        \n",
    "#         # Thread-safe dictionary update\n",
    "#         lock(binom_lock) do\n",
    "#             binom_coeff[n] = result\n",
    "#         end\n",
    "#     end\n",
    "# end\n",
    "\n",
    "function binom_coeff_row(m::Int)\n",
    "    row = Vector{BigInt}(undef, m+1)\n",
    "    row[1] = BigInt(1)  # C(0, 0) = 1\n",
    "    for n in 1:m\n",
    "        row[n+1] = row[n] * (m - n + 1) ÷ n\n",
    "    end\n",
    "    return row\n",
    "end\n",
    "\n",
    "function save_binomial_jld2(filename::String, ms::Vector{Int})\n",
    "    JLD2.jldopen(filename, \"w\") do file  # Open the file in write mode\n",
    "        file[\"ms\"] = ms  # Save the list of M values\n",
    "        for m in ms\n",
    "            row = binom_coeff_row(m)\n",
    "            file[\"row_$m\"] = row  # Save each row under a unique key\n",
    "        end\n",
    "    end\n",
    "end\n",
    "\n",
    "function load_binomial_row(filename::String, m::Int)\n",
    "    return JLD2.load(filename, \"row_$m\")\n",
    "end"
   ]
  },
  {
   "cell_type": "code",
   "execution_count": null,
   "metadata": {},
   "outputs": [],
   "source": [
    "# Main function\n",
    "\n",
    "function percolater(lattice_matrix, N, M)\n",
    "    avg_s_val = N                    # Initial value for avgerage_s (sum of the size squared for all clusters)\n",
    "    network = fill(Int(-1), N)       # Initialize network with all nodes as root nodes\n",
    "    shuffle_bonds(lattice_matrix, rng)    # Shuffle bonds\n",
    "    print(lattice_matrix)\n",
    "    # prepare cluster dictionary (dict with root node indeces as keys and list of nodes in cluster as values)\n",
    "    cluster_dict = Dict{Int, Vector{Int}}()\n",
    "    for i in 1:N\n",
    "        cluster_dict[i] = [i]\n",
    "    end\n",
    "\n",
    "    # Pointer for saving values from loop of activate_bonds\n",
    "    greatest_cluster_ref = Ref(1)\n",
    "    k_max = Ref(1)\n",
    "\n",
    "    # Arrays to save quantities of interest\n",
    "    P_inf = zeros(M)\n",
    "    avg_s = ones(M)*N\n",
    "\n",
    "    # Iterating over all bonds\n",
    "    for k in 1:M \n",
    "        \n",
    "        # Activating bonds\n",
    "        avg_s_val = activate_bond(k, network, lattice_matrix, cluster_dict, greatest_cluster_ref, avg_s_val)\n",
    "        P_inf[k] = abs(network[greatest_cluster_ref[]]) / N\n",
    "        avg_s[k] = avg_s_val\n",
    "        \n",
    "        # Save the biggest cluster evently ten times evenly to plot\n",
    "        T = M/10\n",
    "        if k%(T) == 0\n",
    "            greatest_cluster = greatest_cluster_ref[]\n",
    "            \n",
    "            # println(\"greatest: \", greatest_cluster)\n",
    "            cluster_nodes = cluster_dict[greatest_cluster]\n",
    "            push!(pictures, cluster_nodes)\n",
    "\n",
    "        end\n",
    "\n",
    "        # Cut off if all nodes are in the same cluster\n",
    "        if abs(network[greatest_cluster_ref[]]) == N\n",
    "            k_max[] = k    # Cut off, when all sites are in the same cluster\n",
    "            println(k_max[])\n",
    "            break\n",
    "        end\n",
    "    end \n",
    "\n",
    "    # Fill elements after the cut off with the last value, since no change will occur\n",
    "    P_inf[k_max[]+1:end] .= P_inf[k_max[]]    # Cut off rest of the array\n",
    "    avg_s[k_max[]+1:end] .= avg_s[k_max[]]    # Cut off rest of the array\n",
    "    \n",
    "    average_cluster_size = (avg_s .- (N*P_inf).^2) ./ (N*(1 .- P_inf))    # <s>\n",
    "\n",
    "    indicies_to_change = findall(P_inf .> 0.9999)      # Avoid <s>->\\infty when P_inf = 1\n",
    "    average_cluster_size[ indicies_to_change] .= 0  \n",
    "\n",
    "    return P_inf, average_cluster_size\n",
    "end"
   ]
  },
  {
   "cell_type": "code",
   "execution_count": null,
   "metadata": {},
   "outputs": [],
   "source": [
    "# Generating lattice\n",
    "\n",
    "# Parameters\n",
    "L = 100  # Number of nodes in one dimension\n",
    "N = L^2  # Number of nodes\n",
    "type = \"square\"\n",
    "\n",
    "# Function for dynamical file name registration\n",
    "function format_with_underscores(n::Int)\n",
    "    s = string(n)\n",
    "    reversed_chunks = reverse.(Iterators.partition(reverse(s), 3))\n",
    "    return join(reverse(reversed_chunks), '_')\n",
    "end\n",
    "\n",
    "N_str = format_with_underscores(N) * \"_$type\"\n",
    "file_name = \"lattice_$N_str.txt\"\n",
    "println(file_name)\n",
    "\n",
    "# Load lattice and reshape into matrix\n",
    "lattice_matrix = lattice_loader(file_name)\n",
    "\n",
    "M = size(lattice_matrix)[1]  # Number of bonds"
   ]
  },
  {
   "cell_type": "code",
   "execution_count": null,
   "metadata": {},
   "outputs": [],
   "source": [
    "# RNG generator\n",
    "\n",
    "seed = 123\n",
    "rng = Xoshiro(seed) # sjekk om denne er bra) \n",
    "# rng = MersenneTwister(seed)"
   ]
  },
  {
   "cell_type": "code",
   "execution_count": null,
   "metadata": {},
   "outputs": [],
   "source": [
    "# Calculate the binomial coefficients\n",
    "\n",
    "precompute_log_factorials(M)\n",
    "compute_binom_coeffs(M)\n",
    "\n",
    "println(length(binom_coeff))"
   ]
  },
  {
   "cell_type": "code",
   "execution_count": null,
   "metadata": {},
   "outputs": [],
   "source": [
    "# Main\n",
    "\n",
    "num_it = 100   # Number of iterations of the percolater for averaging\n",
    "\n",
    "pictures = []  # Array for saving plots of the biggest cluster\n",
    "\n",
    "P_arr = zeros(num_it, M)                # Array for saving P_inf    \n",
    "average_cluster_size = zeros(num_it, M) # Array for saving <s>\n",
    "\n",
    "\n",
    "# Multiple iterations of the percolater\n",
    "for l in 1:num_it\n",
    "    \n",
    "    P_inf, avg_s = percolater(lattice_matrix, N, M)\n",
    "    P_arr[l, :] = P_inf\n",
    "    average_cluster_size[l, :] = avg_s   \n",
    "\n",
    "end\n"
   ]
  },
  {
   "cell_type": "markdown",
   "metadata": {},
   "source": [
    "## Plotting pictures"
   ]
  },
  {
   "cell_type": "code",
   "execution_count": null,
   "metadata": {},
   "outputs": [],
   "source": [
    "function to_coords(i::Int, L::Int)\n",
    "    \"\"\"\n",
    "    i (int): Index of node\n",
    "    L (int): Number of nodes in each row\n",
    "    \"\"\"\n",
    "    y = i%L\n",
    "    if y == 0\n",
    "        y = L\n",
    "    end\n",
    "   \n",
    "    x = div(i, L) +1\n",
    "    if i % L == 0\n",
    "       x = div(i, L)\n",
    "    end\n",
    "    return [x, y]\n",
    "end\n",
    "\n",
    "## NBNBNB byttet om pga julia kolonnestyr"
   ]
  },
  {
   "cell_type": "code",
   "execution_count": null,
   "metadata": {},
   "outputs": [],
   "source": [
    "function plot_picture(cluster, L)\n",
    "    \"\"\"\n",
    "    cluster (array): List of nodes in cluster\n",
    "    L (int): Number of nodes in each row\n",
    "    \"\"\"\n",
    "    grid = zeros(Int, L, L)\n",
    "    for node in cluster\n",
    "        coords = to_coords(node, L)\n",
    "        grid[coords[1], coords[2]] = 1\n",
    "    end\n",
    "    grid = reverse(grid, dims=1)\n",
    "    return grid\n",
    "end"
   ]
  },
  {
   "cell_type": "code",
   "execution_count": null,
   "metadata": {},
   "outputs": [],
   "source": [
    "heatmaps = []\n",
    "for i in 1:9\n",
    "    grid = plot_picture(pictures[i], L)\n",
    "    p_values = i/10\n",
    "    push!(heatmaps, heatmap(grid, title=\"p=$p_values\"))\n",
    "end\n",
    "\n",
    "# Arrange the heatmaps in a 3x3 grid\n",
    "plot(heatmaps..., layout=(3,3), size=(800, 500))"
   ]
  },
  {
   "cell_type": "code",
   "execution_count": null,
   "metadata": {},
   "outputs": [],
   "source": [
    "P_avg = mean(P_arr, dims=1)\n",
    "P_2_avg = mean(P_arr.^2, dims=1)\n",
    "\n",
    "chi = N*sqrt.(P_2_avg .- P_avg.^2)\n",
    "p = (1:M) / M   # probability of activating a node, with cut-off\n",
    "\n",
    "plot(p, P_avg', xlabel=\"p\", xticks=(0:0.1:1.0), ylabel=L\"\\langle P_\\infty\\rangle\", title=L\"Giant component, $P_\\infty$\", label=\"N=$N\", legend=:topleft)\n",
    "# plot!(p, chi, xlabel=\"p\", ylabel=\"χ\", title=\"Susceptibility\", label=L\"\\chi\", legend=:topleft)"
   ]
  },
  {
   "cell_type": "code",
   "execution_count": null,
   "metadata": {},
   "outputs": [],
   "source": [
    "plot(p, chi', xlabel=\"p\", xticks=(0:0.1:1.0), ylabel=L\"\\chi\", title=L\"Susceptibility, $\\chi$\", label=\"N=$N\", legend=:topleft)\n"
   ]
  },
  {
   "cell_type": "code",
   "execution_count": null,
   "metadata": {},
   "outputs": [],
   "source": [
    "average_cluster_size_avg = mean(average_cluster_size, dims=1)\n",
    "\n",
    "plot(p, average_cluster_size_avg', xlabel=\"p\", xticks=(0:0.1:1.0), ylabel=L\"\\langle s \\rangle\", title=L\"Average cluster size, $\\langle s \\rangle$\", label=\"N=$N\", legend=:topleft)\n"
   ]
  },
  {
   "cell_type": "code",
   "execution_count": null,
   "metadata": {},
   "outputs": [],
   "source": [
    "Threads.nthreads()"
   ]
  },
  {
   "cell_type": "code",
   "execution_count": null,
   "metadata": {},
   "outputs": [],
   "source": [
    "# Convolution\n",
    "num_it_q = 10_000\n",
    "q = range(0.0, 1.0, length=num_it_q)\n",
    "\n",
    "P_conv = zeros(length(q))\n",
    "P_2_conv = zeros(length(q))\n",
    "average_cluster_size_conv = zeros(length(q))\n",
    "\n",
    "log_q = log.(q)\n",
    "log1_q = log1p.(-q)\n",
    "\n",
    "binom_coeff_array = [binom_coeff[n] for n in 1:M]  # Convert Dict to Array\n",
    "\n",
    "for i in 1:length(q)\n",
    "    # P_conv[i] = 0.0\n",
    "    # average_cluster_size_conv[i] = N\n",
    "    # for n in 1:M\n",
    "    #     log_P = binom_coeff[n] + n*log(q[i]) + (M-n)*log1p(- q[i]) + log(P_avg[1, n]) #log1p for better stability when 1-q[i]->1\n",
    "    #     log_P_2 = binom_coeff[n] + n*log(q[i]) + (M-n)*log1p(- q[i]) + log(P_2_avg[1, n])\n",
    "    #     log_s = binom_coeff[n] + n*log(q[i]) + (M-n)*log1p(- q[i]) + log(average_cluster_size_avg[1, n])\n",
    "\n",
    "    #     P_conv[i] += exp(log_P)\n",
    "    #     P_2_conv[i] += exp(log_P_2)\n",
    "    #     average_cluster_size_conv[i] += exp(log_s)\n",
    "    # end\n",
    "    P_conv[i] = sum(exp.(binom_coeff_array[1:M] .+ (1:M) .* log_q[i] .+ (M .- (1:M)) .* log1_q[i] .+ log.(P_avg[1, 1:M])))\n",
    "    P_2_conv[i] = sum(exp.(binom_coeff_array[1:M] .+ (1:M) .* log_q[i] .+ (M .- (1:M)) .* log1_q[i] .+ log.(P_2_avg[1, 1:M])))\n",
    "    average_cluster_size_conv[i] = sum(exp.(binom_coeff_array[1:M] .+ (1:M) .* log_q[i] .+ (M .- (1:M)) .* log1_q[i] .+ log.(average_cluster_size_avg[1, 1:M])))\n",
    "\n",
    "end"
   ]
  },
  {
   "cell_type": "code",
   "execution_count": null,
   "metadata": {},
   "outputs": [],
   "source": [
    "plot(q,P_conv, xlabel=\"q\", xticks=(0:0.1:1.0), ylabel=L\"\\langle P_\\infty\\rangle\", title=L\"Giant component, $P_\\infty$\", label=\"N=$N\", legend=:topleft)\n"
   ]
  },
  {
   "cell_type": "code",
   "execution_count": null,
   "metadata": {},
   "outputs": [],
   "source": [
    "# display(average_cluster_size_conv)\n",
    "plot(q, average_cluster_size_conv, xlabel=\"q\", xticks=(0:0.1:1.0), ylabel=L\"\\langle s \\rangle\", title=L\"average_cluster_size, $\\langle s \\rangle$\", label=\"N=$N\", legend=:topleft)\n"
   ]
  },
  {
   "cell_type": "code",
   "execution_count": null,
   "metadata": {},
   "outputs": [],
   "source": [
    "argument = P_2_conv .- P_conv.^2\n",
    "argument[findall(argument .< 0)] .= 0      # Avoid all zero values\n",
    "\n",
    "chi_conv = N*sqrt.(argument)\n",
    "\n",
    "df = DataFrame(q=q, P=P_conv, chi=chi_conv, average_cluster_size=average_cluster_size_conv)\n",
    "N_str = format_with_underscores(N)\n",
    "q_str = format_with_underscores(num_it_q)\n",
    "CSV.write(\"N$(N_str)_q$(q_str)_$(type).csv\", df)"
   ]
  },
  {
   "cell_type": "code",
   "execution_count": null,
   "metadata": {},
   "outputs": [],
   "source": [
    "plot(q, chi_conv, xlabel=\"q\", xticks=(0:0.1:1.0), ylabel=L\"\\langle s \\rangle\", title=L\"Susceptibility, $\\chi$\", label=\"N=$N\", legend=:topleft)\n"
   ]
  },
  {
   "cell_type": "markdown",
   "metadata": {},
   "source": [
    "## Data analysis\n",
    "\n",
    "### Square lattice"
   ]
  },
  {
   "cell_type": "code",
   "execution_count": 4,
   "metadata": {},
   "outputs": [
    {
     "data": {
      "text/html": [
       "<div><div style = \"float: left;\"><span>10000×4 DataFrame</span></div><div style = \"float: right;\"><span style = \"font-style: italic;\">9975 rows omitted</span></div><div style = \"clear: both;\"></div></div><div class = \"data-frame\" style = \"overflow-x: scroll;\"><table class = \"data-frame\" style = \"margin-bottom: 6px;\"><thead><tr class = \"header\"><th class = \"rowNumber\" style = \"font-weight: bold; text-align: right;\">Row</th><th style = \"text-align: left;\">q</th><th style = \"text-align: left;\">P</th><th style = \"text-align: left;\">chi</th><th style = \"text-align: left;\">average_cluster_size</th></tr><tr class = \"subheader headerLastRow\"><th class = \"rowNumber\" style = \"font-weight: bold; text-align: right;\"></th><th title = \"Float64\" style = \"text-align: left;\">Float64</th><th title = \"Float64\" style = \"text-align: left;\">Float64</th><th title = \"Float64\" style = \"text-align: left;\">Float64</th><th title = \"Float64\" style = \"text-align: left;\">Float64</th></tr></thead><tbody><tr><td class = \"rowNumber\" style = \"font-weight: bold; text-align: right;\">1</td><td style = \"text-align: right;\">0.0</td><td style = \"text-align: right;\">4.00001e-12</td><td style = \"text-align: right;\">0.00282843</td><td style = \"text-align: right;\">1.0</td></tr><tr><td class = \"rowNumber\" style = \"font-weight: bold; text-align: right;\">2</td><td style = \"text-align: right;\">0.00010001</td><td style = \"text-align: right;\">2.07787e-6</td><td style = \"text-align: right;\">0.267918</td><td style = \"text-align: right;\">1.0004</td></tr><tr><td class = \"rowNumber\" style = \"font-weight: bold; text-align: right;\">3</td><td style = \"text-align: right;\">0.00020002</td><td style = \"text-align: right;\">2.23632e-6</td><td style = \"text-align: right;\">0.424792</td><td style = \"text-align: right;\">1.0008</td></tr><tr><td class = \"rowNumber\" style = \"font-weight: bold; text-align: right;\">4</td><td style = \"text-align: right;\">0.00030003</td><td style = \"text-align: right;\">2.43965e-6</td><td style = \"text-align: right;\">0.49632</td><td style = \"text-align: right;\">1.0012</td></tr><tr><td class = \"rowNumber\" style = \"font-weight: bold; text-align: right;\">5</td><td style = \"text-align: right;\">0.00040004</td><td style = \"text-align: right;\">2.59991e-6</td><td style = \"text-align: right;\">0.489892</td><td style = \"text-align: right;\">1.0016</td></tr><tr><td class = \"rowNumber\" style = \"font-weight: bold; text-align: right;\">6</td><td style = \"text-align: right;\">0.00050005</td><td style = \"text-align: right;\">2.79946e-6</td><td style = \"text-align: right;\">0.400374</td><td style = \"text-align: right;\">1.002</td></tr><tr><td class = \"rowNumber\" style = \"font-weight: bold; text-align: right;\">7</td><td style = \"text-align: right;\">0.00060006</td><td style = \"text-align: right;\">2.9019e-6</td><td style = \"text-align: right;\">0.297414</td><td style = \"text-align: right;\">1.0024</td></tr><tr><td class = \"rowNumber\" style = \"font-weight: bold; text-align: right;\">8</td><td style = \"text-align: right;\">0.00070007</td><td style = \"text-align: right;\">2.95831e-6</td><td style = \"text-align: right;\">0.199812</td><td style = \"text-align: right;\">1.0028</td></tr><tr><td class = \"rowNumber\" style = \"font-weight: bold; text-align: right;\">9</td><td style = \"text-align: right;\">0.00080008</td><td style = \"text-align: right;\">2.99898e-6</td><td style = \"text-align: right;\">0.0315194</td><td style = \"text-align: right;\">1.00321</td></tr><tr><td class = \"rowNumber\" style = \"font-weight: bold; text-align: right;\">10</td><td style = \"text-align: right;\">0.00090009</td><td style = \"text-align: right;\">3.00001e-6</td><td style = \"text-align: right;\">0.0</td><td style = \"text-align: right;\">1.00361</td></tr><tr><td class = \"rowNumber\" style = \"font-weight: bold; text-align: right;\">11</td><td style = \"text-align: right;\">0.0010001</td><td style = \"text-align: right;\">3.00003e-6</td><td style = \"text-align: right;\">0.0</td><td style = \"text-align: right;\">1.00401</td></tr><tr><td class = \"rowNumber\" style = \"font-weight: bold; text-align: right;\">12</td><td style = \"text-align: right;\">0.00110011</td><td style = \"text-align: right;\">3.01198e-6</td><td style = \"text-align: right;\">0.108553</td><td style = \"text-align: right;\">1.00441</td></tr><tr><td class = \"rowNumber\" style = \"font-weight: bold; text-align: right;\">13</td><td style = \"text-align: right;\">0.00120012</td><td style = \"text-align: right;\">3.02001e-6</td><td style = \"text-align: right;\">0.139864</td><td style = \"text-align: right;\">1.00482</td></tr><tr><td style = \"text-align: right;\">&vellip;</td><td style = \"text-align: right;\">&vellip;</td><td style = \"text-align: right;\">&vellip;</td><td style = \"text-align: right;\">&vellip;</td><td style = \"text-align: right;\">&vellip;</td></tr><tr><td class = \"rowNumber\" style = \"font-weight: bold; text-align: right;\">9989</td><td style = \"text-align: right;\">0.9989</td><td style = \"text-align: right;\">1.0</td><td style = \"text-align: right;\">0.0</td><td style = \"text-align: right;\">0.0</td></tr><tr><td class = \"rowNumber\" style = \"font-weight: bold; text-align: right;\">9990</td><td style = \"text-align: right;\">0.999</td><td style = \"text-align: right;\">1.0</td><td style = \"text-align: right;\">0.0</td><td style = \"text-align: right;\">0.0</td></tr><tr><td class = \"rowNumber\" style = \"font-weight: bold; text-align: right;\">9991</td><td style = \"text-align: right;\">0.9991</td><td style = \"text-align: right;\">1.0</td><td style = \"text-align: right;\">0.0</td><td style = \"text-align: right;\">0.0</td></tr><tr><td class = \"rowNumber\" style = \"font-weight: bold; text-align: right;\">9992</td><td style = \"text-align: right;\">0.9992</td><td style = \"text-align: right;\">1.0</td><td style = \"text-align: right;\">0.0</td><td style = \"text-align: right;\">0.0</td></tr><tr><td class = \"rowNumber\" style = \"font-weight: bold; text-align: right;\">9993</td><td style = \"text-align: right;\">0.9993</td><td style = \"text-align: right;\">1.0</td><td style = \"text-align: right;\">0.0</td><td style = \"text-align: right;\">0.0</td></tr><tr><td class = \"rowNumber\" style = \"font-weight: bold; text-align: right;\">9994</td><td style = \"text-align: right;\">0.9994</td><td style = \"text-align: right;\">1.0</td><td style = \"text-align: right;\">0.0</td><td style = \"text-align: right;\">0.0</td></tr><tr><td class = \"rowNumber\" style = \"font-weight: bold; text-align: right;\">9995</td><td style = \"text-align: right;\">0.9995</td><td style = \"text-align: right;\">1.0</td><td style = \"text-align: right;\">0.0</td><td style = \"text-align: right;\">0.0</td></tr><tr><td class = \"rowNumber\" style = \"font-weight: bold; text-align: right;\">9996</td><td style = \"text-align: right;\">0.9996</td><td style = \"text-align: right;\">1.0</td><td style = \"text-align: right;\">0.0</td><td style = \"text-align: right;\">0.0</td></tr><tr><td class = \"rowNumber\" style = \"font-weight: bold; text-align: right;\">9997</td><td style = \"text-align: right;\">0.9997</td><td style = \"text-align: right;\">1.0</td><td style = \"text-align: right;\">0.0</td><td style = \"text-align: right;\">0.0</td></tr><tr><td class = \"rowNumber\" style = \"font-weight: bold; text-align: right;\">9998</td><td style = \"text-align: right;\">0.9998</td><td style = \"text-align: right;\">1.0</td><td style = \"text-align: right;\">0.0</td><td style = \"text-align: right;\">0.0</td></tr><tr><td class = \"rowNumber\" style = \"font-weight: bold; text-align: right;\">9999</td><td style = \"text-align: right;\">0.9999</td><td style = \"text-align: right;\">1.0</td><td style = \"text-align: right;\">0.0</td><td style = \"text-align: right;\">0.0</td></tr><tr><td class = \"rowNumber\" style = \"font-weight: bold; text-align: right;\">10000</td><td style = \"text-align: right;\">1.0</td><td style = \"text-align: right;\">1.0</td><td style = \"text-align: right;\">0.0</td><td style = \"text-align: right;\">0.0</td></tr></tbody></table></div>"
      ],
      "text/latex": [
       "\\begin{tabular}{r|cccc}\n",
       "\t& q & P & chi & average\\_cluster\\_size\\\\\n",
       "\t\\hline\n",
       "\t& Float64 & Float64 & Float64 & Float64\\\\\n",
       "\t\\hline\n",
       "\t1 & 0.0 & 4.00001e-12 & 0.00282843 & 1.0 \\\\\n",
       "\t2 & 0.00010001 & 2.07787e-6 & 0.267918 & 1.0004 \\\\\n",
       "\t3 & 0.00020002 & 2.23632e-6 & 0.424792 & 1.0008 \\\\\n",
       "\t4 & 0.00030003 & 2.43965e-6 & 0.49632 & 1.0012 \\\\\n",
       "\t5 & 0.00040004 & 2.59991e-6 & 0.489892 & 1.0016 \\\\\n",
       "\t6 & 0.00050005 & 2.79946e-6 & 0.400374 & 1.002 \\\\\n",
       "\t7 & 0.00060006 & 2.9019e-6 & 0.297414 & 1.0024 \\\\\n",
       "\t8 & 0.00070007 & 2.95831e-6 & 0.199812 & 1.0028 \\\\\n",
       "\t9 & 0.00080008 & 2.99898e-6 & 0.0315194 & 1.00321 \\\\\n",
       "\t10 & 0.00090009 & 3.00001e-6 & 0.0 & 1.00361 \\\\\n",
       "\t11 & 0.0010001 & 3.00003e-6 & 0.0 & 1.00401 \\\\\n",
       "\t12 & 0.00110011 & 3.01198e-6 & 0.108553 & 1.00441 \\\\\n",
       "\t13 & 0.00120012 & 3.02001e-6 & 0.139864 & 1.00482 \\\\\n",
       "\t14 & 0.00130013 & 3.02056e-6 & 0.141746 & 1.00522 \\\\\n",
       "\t15 & 0.00140014 & 3.04217e-6 & 0.200866 & 1.00562 \\\\\n",
       "\t16 & 0.00150015 & 3.07078e-6 & 0.256369 & 1.00603 \\\\\n",
       "\t17 & 0.00160016 & 3.10716e-6 & 0.309237 & 1.00643 \\\\\n",
       "\t18 & 0.00170017 & 3.12086e-6 & 0.325888 & 1.00683 \\\\\n",
       "\t19 & 0.00180018 & 3.15555e-6 & 0.362358 & 1.00724 \\\\\n",
       "\t20 & 0.00190019 & 3.18789e-6 & 0.390559 & 1.00764 \\\\\n",
       "\t21 & 0.0020002 & 3.19416e-6 & 0.395489 & 1.00805 \\\\\n",
       "\t22 & 0.00210021 & 3.23151e-6 & 0.421742 & 1.00845 \\\\\n",
       "\t23 & 0.00220022 & 3.26327e-6 & 0.440354 & 1.00886 \\\\\n",
       "\t24 & 0.00230023 & 3.27989e-6 & 0.448891 & 1.00926 \\\\\n",
       "\t$\\dots$ & $\\dots$ & $\\dots$ & $\\dots$ & $\\dots$ \\\\\n",
       "\\end{tabular}\n"
      ],
      "text/plain": [
       "\u001b[1m10000×4 DataFrame\u001b[0m\n",
       "\u001b[1m   Row \u001b[0m│\u001b[1m q          \u001b[0m\u001b[1m P           \u001b[0m\u001b[1m chi        \u001b[0m\u001b[1m average_cluster_size \u001b[0m\n",
       "       │\u001b[90m Float64    \u001b[0m\u001b[90m Float64     \u001b[0m\u001b[90m Float64    \u001b[0m\u001b[90m Float64              \u001b[0m\n",
       "───────┼───────────────────────────────────────────────────────────\n",
       "     1 │ 0.0         4.00001e-12  0.00282843               1.0\n",
       "     2 │ 0.00010001  2.07787e-6   0.267918                 1.0004\n",
       "     3 │ 0.00020002  2.23632e-6   0.424792                 1.0008\n",
       "     4 │ 0.00030003  2.43965e-6   0.49632                  1.0012\n",
       "     5 │ 0.00040004  2.59991e-6   0.489892                 1.0016\n",
       "     6 │ 0.00050005  2.79946e-6   0.400374                 1.002\n",
       "     7 │ 0.00060006  2.9019e-6    0.297414                 1.0024\n",
       "     8 │ 0.00070007  2.95831e-6   0.199812                 1.0028\n",
       "   ⋮   │     ⋮            ⋮           ⋮                ⋮\n",
       "  9994 │ 0.9994      1.0          0.0                      0.0\n",
       "  9995 │ 0.9995      1.0          0.0                      0.0\n",
       "  9996 │ 0.9996      1.0          0.0                      0.0\n",
       "  9997 │ 0.9997      1.0          0.0                      0.0\n",
       "  9998 │ 0.9998      1.0          0.0                      0.0\n",
       "  9999 │ 0.9999      1.0          0.0                      0.0\n",
       " 10000 │ 1.0         1.0          0.0                      0.0\n",
       "\u001b[36m                                                  9985 rows omitted\u001b[0m"
      ]
     },
     "metadata": {},
     "output_type": "display_data"
    }
   ],
   "source": [
    "df_10_000_square = CSV.read(\"DataFrames/N10_000_q10_000_square.csv\", DataFrame)\n",
    "df_40_000_square = CSV.read(\"DataFrames/N40_000_q10_000_square.csv\", DataFrame)\n",
    "df_90_000_square = CSV.read(\"DataFrames/N90_000_q10_000_square.csv\", DataFrame)\n",
    "df_160_000_square = CSV.read(\"DataFrames/N160_000_q10_000_square.csv\", DataFrame)\n",
    "df_250_000_square = CSV.read(\"DataFrames/N250_000_q10_000_square.csv\", DataFrame)\n",
    "df_360_000_square = CSV.read(\"DataFrames/N360_000_q10_000_square.csv\", DataFrame)\n",
    "df_490_000_square = CSV.read(\"DataFrames/N490_000_q10_000_square.csv\", DataFrame)\n",
    "df_640_000_square = CSV.read(\"DataFrames/N640_000_q10_000_square.csv\", DataFrame)\n",
    "df_810_000_square = CSV.read(\"DataFrames/N810_000_q10_000_square.csv\", DataFrame)\n",
    "df_1_000_000_square = CSV.read(\"DataFrames/N1_000_000_q10_000_square.csv\", DataFrame)"
   ]
  },
  {
   "cell_type": "code",
   "execution_count": 5,
   "metadata": {},
   "outputs": [
    {
     "data": {
      "text/plain": [
       "\"c:\\\\Users\\\\jonas\\\\Documents\\\\Codespace\\\\TFY4235\\\\Numerical_Physics\\\\Project_Percolation\\\\figures\\\\FSS_P_q_square.svg\""
      ]
     },
     "metadata": {},
     "output_type": "display_data"
    }
   ],
   "source": [
    "FSS_P_q_square = plot(df_10_000_square.q[4000:6000], df_10_000_square.P[4000:6000], xlabel=\"q\", xticks=(0:0.02:1.0), ylabel=L\"\\langle P_\\infty\\rangle\", label=\"N=10_000\", legend=:topleft)\n",
    "plot!(FSS_P_q_square, df_40_000_square.q[4000:6000], df_40_000_square.P[4000:6000], xlabel=\"q\", xticks=(0:0.02:1.0), ylabel=L\"\\langle P_\\infty\\rangle\", label=\"N=40_000\", legend=:topleft)\n",
    "plot!(FSS_P_q_square,df_90_000_square.q[4000:6000], df_90_000_square.P[4000:6000], xlabel=\"q\", xticks=(0:0.02:1.0), ylabel=L\"\\langle P_\\infty\\rangle\", label=\"N=90_000\", legend=:topleft)\n",
    "plot!(FSS_P_q_square,df_160_000_square.q[4000:6000], df_160_000_square.P[4000:6000], xlabel=\"q\", xticks=(0:0.02:1.0), ylabel=L\"\\langle P_\\infty\\rangle\", label=\"N=160_000\", legend=:topleft)\n",
    "plot!(FSS_P_q_square,df_250_000_square.q[4000:6000], df_250_000_square.P[4000:6000], xlabel=\"q\", xticks=(0:0.02:1.0), ylabel=L\"\\langle P_\\infty\\rangle\", label=\"N=250_000\", legend=:topleft)\n",
    "plot!(FSS_P_q_square,df_360_000_square.q[4000:6000], df_360_000_square.P[4000:6000], xlabel=\"q\", xticks=(0:0.02:1.0), ylabel=L\"\\langle P_\\infty\\rangle\", label=\"N=360_000\", legend=:topleft)\n",
    "plot!(FSS_P_q_square,df_490_000_square.q[4000:6000], df_490_000_square.P[4000:6000], xlabel=\"q\", xticks=(0:0.02:1.0), ylabel=L\"\\langle P_\\infty\\rangle\", label=\"N=490_000\", legend=:topleft)\n",
    "plot!(FSS_P_q_square,df_640_000_square.q[4000:6000], df_640_000_square.P[4000:6000], xlabel=\"q\", xticks=(0:0.02:1.0), ylabel=L\"\\langle P_\\infty\\rangle\", label=\"N=640_000\", legend=:topleft)\n",
    "plot!(FSS_P_q_square,df_810_000_square.q[4000:6000], df_810_000_square.P[4000:6000], xlabel=\"q\", xticks=(0:0.02:1.0), ylabel=L\"\\langle P_\\infty\\rangle\", label=\"N=810_000\", legend=:topleft)\n",
    "plot!(FSS_P_q_square,df_1_000_000_square.q[4000:6000], df_1_000_000_square.P[4000:6000], xlabel=\"q\", xticks=(0:0.02:1.0), ylabel=L\"\\langle P_\\infty\\rangle\", label=\"N=1_000_000\", legend=:topleft)\n",
    "savefig(FSS_P_q_square, \"figures/FSS_P_q_square.svg\")"
   ]
  },
  {
   "cell_type": "code",
   "execution_count": 6,
   "metadata": {},
   "outputs": [
    {
     "data": {
      "text/plain": [
       "\"c:\\\\Users\\\\jonas\\\\Documents\\\\Codespace\\\\TFY4235\\\\Numerical_Physics\\\\Project_Percolation\\\\figures\\\\FFS_P_R2_square.svg\""
      ]
     },
     "metadata": {},
     "output_type": "display_data"
    }
   ],
   "source": [
    "# FSS \n",
    "\n",
    "ksi = round.(Int, sqrt.([10_000, 40_000, 90_000, 160_000, 250_000, 360_000, 490_000, 640_000, 810_000, 1_000_000]))\n",
    "\n",
    "df_P_square = DataFrame(q = df_10_000_square.q)  # Initialize with q values (common for all N)\n",
    "df_P_square[!, \"P_ksi_$(ksi[1])\"] = df_10_000_square.P\n",
    "df_P_square[!, \"P_ksi_$(ksi[2])\"] = df_40_000_square.P\n",
    "df_P_square[!, \"P_ksi_$(ksi[3])\"] = df_90_000_square.P\n",
    "df_P_square[!, \"P_ksi_$(ksi[4])\"] = df_160_000_square.P\n",
    "df_P_square[!, \"P_ksi_$(ksi[5])\"] = df_250_000_square.P\n",
    "df_P_square[!, \"P_ksi_$(ksi[6])\"] = df_360_000_square.P\n",
    "df_P_square[!, \"P_ksi_$(ksi[7])\"] = df_490_000_square.P\n",
    "df_P_square[!, \"P_ksi_$(ksi[8])\"] = df_640_000_square.P\n",
    "df_P_square[!, \"P_ksi_$(ksi[9])\"] = df_810_000_square.P\n",
    "df_P_square[!, \"P_ksi_$(ksi[10])\"] = df_1_000_000_square.P\n",
    "\n",
    "\n",
    "# df_P_square = df_P_square[2:end-1, :]  # Remove NaN in the first and last row\n",
    "# plt = plot(; xscale=:log10, yscale=:log10, xlabel=\"q\", ylabel=L\"\\langle P_\\infty\\rangle\", title=L\"Giant component, $P_\\infty$\")\n",
    "\n",
    "function line_fitter(df, ksi)\n",
    "    r2_arr = zeros(size(df,1))\n",
    "    model_arr = []\n",
    "    slope_arr = []\n",
    "\n",
    "    for i in 1:size(df, 1)\n",
    "        data_row = Vector(df[i, 2:end])    # Exclude q\n",
    "        df_row = DataFrame(log_ksi=log.(ksi), log_param=log.(data_row))\n",
    "        model = lm(@formula(log_param ~ log_ksi), df_row)\n",
    "        r2_arr[i] = r2(model)\n",
    "\n",
    "        push!(model_arr, model)\n",
    "        push!(slope_arr, coef(model)[2])\n",
    "    end\n",
    "    return r2_arr, model_arr, slope_arr\n",
    "end\n",
    "\n",
    "r2_arr_P_square, model_arr_P_square, slope_arr_P_square = line_fitter(df_P_square, ksi)\n",
    "\n",
    "FFS_P_R2_square = plot(df_P_square.q, r2_arr_P_square, xlabel=\"q\", xticks=0:0.1:1, yticks=0:0.1:1, ylabel=L\"$R^2$-coefficient\", color=:green, legend=false)\n",
    "savefig(FFS_P_R2_square, \"figures/FFS_P_R2_square.svg\")"
   ]
  },
  {
   "cell_type": "code",
   "execution_count": 7,
   "metadata": {},
   "outputs": [
    {
     "name": "stdout",
     "output_type": "stream",
     "text": [
      "5012\n"
     ]
    },
    {
     "data": {
      "text/plain": [
       "\"c:\\\\Users\\\\jonas\\\\Documents\\\\Codespace\\\\TFY4235\\\\Numerical_Physics\\\\Project_Percolation\\\\figures\\\\FFS_P_R2_square_zoomed.svg\""
      ]
     },
     "metadata": {},
     "output_type": "display_data"
    }
   ],
   "source": [
    "i_start = 4900\n",
    "i_end = 5100\n",
    "# dr2_arr = diff(r2_arr_P_square)\n",
    "# println(model_arr_P[])\n",
    "# println(argmin(r2_arr_P_square[5000:5100]))\n",
    "# println(slope_arr_P[5000+argmax(r2_arr_P_square[5050:5100])])\n",
    "best_index_P_square = i_start+argmax(r2_arr_P_square[i_start:i_end]) - 1 # -1 since argmax finds from 4900, so no need for double counting\n",
    "println(best_index_P_square)\n",
    "# p_inset = plot(df_P_square.q[i_start:i_end], r2_arr_P_square[i_start:i_end], framestyle=:box)\n",
    "\n",
    "# plot!(ones(i_end - i_start)*best_index, , DataFrame(log_ksi=log.(ksi))))\n",
    "\n",
    "FFS_P_R2_square_zoomed = plot(df_P_square.q[i_start:i_end], r2_arr_P_square[i_start:i_end], xlabel=\"q\",xticks=0.4:0.002:0.6, yticks=0:0.1:1, ylabel=L\"$R^2$-coefficient\", color=:green, label=L\"Square: $R^2$\")\n",
    "# plot!(ones(i_end - i_start)*df_P_square.q[best_index], 0:0.01:1, linestyle=:dash, color=:black, label=\"Best fit\")\n",
    "vline!(FFS_P_R2_square_zoomed, [df_P_square.q[best_index_P_square]], color=:red, linestyle=:dash, label=L\"$p_c$\")\n",
    "savefig(FFS_P_R2_square_zoomed, \"figures/FFS_P_R2_square_zoomed.svg\")"
   ]
  },
  {
   "cell_type": "code",
   "execution_count": 8,
   "metadata": {},
   "outputs": [
    {
     "name": "stdout",
     "output_type": "stream",
     "text": [
      "p_c: 0.5011501150115012\n"
     ]
    }
   ],
   "source": [
    "p_c = df_P_square.q[best_index_P_square]\n",
    "println(\"p_c: \", p_c)"
   ]
  },
  {
   "cell_type": "code",
   "execution_count": 9,
   "metadata": {},
   "outputs": [
    {
     "data": {
      "text/plain": [
       "\"c:\\\\Users\\\\jonas\\\\Documents\\\\Codespace\\\\TFY4235\\\\Numerical_Physics\\\\Project_Percolation\\\\figures\\\\FSS_s_square.svg\""
      ]
     },
     "metadata": {},
     "output_type": "display_data"
    }
   ],
   "source": [
    "FSS_s_square = plot(df_10_000_square.q[4500:5300], df_10_000_square.average_cluster_size[4500:5300], xlabel=\"q\", xticks=(0:0.01:1.0), ylabel=L\"\\langle s\\rangle\", label=\"N=10_000\", legend=:topright)\n",
    "plot!(FSS_s_square, df_40_000_square.q[4500:5300], df_40_000_square.average_cluster_size[4500:5300], xlabel=\"q\", xticks=(0:0.01:1.0), ylabel=L\"\\langle s\\rangle\", label=\"N=40_000\")\n",
    "plot!(FSS_s_square,df_90_000_square.q[4500:5300], df_90_000_square.average_cluster_size[4500:5300], xlabel=\"q\", xticks=(0:0.01:1.0), ylabel=L\"\\langle s\\rangle\", label=\"N=90_000\")\n",
    "plot!(FSS_s_square,df_160_000_square.q[4500:5300], df_160_000_square.average_cluster_size[4500:5300], xlabel=\"q\", xticks=(0:0.01:1.0), ylabel=L\"\\langle s\\rangle\", label=\"N=160_000\")\n",
    "plot!(FSS_s_square,df_250_000_square.q[4500:5300], df_250_000_square.average_cluster_size[4500:5300], xlabel=\"q\", xticks=(0:0.01:1.0), ylabel=L\"\\langle s\\rangle\", label=\"N=250_000\")\n",
    "plot!(FSS_s_square,df_360_000_square.q[4500:5300], df_360_000_square.average_cluster_size[4500:5300], xlabel=\"q\", xticks=(0:0.01:1.0), ylabel=L\"\\langle s\\rangle\", label=\"N=360_000\")\n",
    "plot!(FSS_s_square,df_490_000_square.q[4500:5300], df_490_000_square.average_cluster_size[4500:5300], xlabel=\"q\", xticks=(0:0.01:1.0), ylabel=L\"\\langle s\\rangle\", label=\"N=490_000\")\n",
    "plot!(FSS_s_square,df_640_000_square.q[4500:5300], df_640_000_square.average_cluster_size[4500:5300], xlabel=\"q\", xticks=(0:0.01:1.0), ylabel=L\"\\langle s\\rangle\", label=\"N=640_000\")\n",
    "plot!(FSS_s_square,df_810_000_square.q[4500:5300], df_810_000_square.average_cluster_size[4500:5300], xlabel=\"q\", xticks=(0:0.01:1.0), ylabel=L\"\\langle s\\rangle\", label=\"N=810_000\")\n",
    "plot!(FSS_s_square,df_1_000_000_square.q[4500:5300], df_1_000_000_square.average_cluster_size[4500:5300], xlabel=\"q\", xticks=(0:0.01:1.0), ylabel=L\"\\langle s\\rangle\", label=\"N=1_000_000\")\n",
    "savefig(FSS_s_square, \"figures/FSS_s_square.svg\")"
   ]
  },
  {
   "cell_type": "code",
   "execution_count": 10,
   "metadata": {},
   "outputs": [
    {
     "data": {
      "text/html": [
       "<div><div style = \"float: left;\"><span>10×2 DataFrame</span></div><div style = \"clear: both;\"></div></div><div class = \"data-frame\" style = \"overflow-x: scroll;\"><table class = \"data-frame\" style = \"margin-bottom: 6px;\"><thead><tr class = \"header\"><th class = \"rowNumber\" style = \"font-weight: bold; text-align: right;\">Row</th><th style = \"text-align: left;\">ksi</th><th style = \"text-align: left;\">max_s</th></tr><tr class = \"subheader headerLastRow\"><th class = \"rowNumber\" style = \"font-weight: bold; text-align: right;\"></th><th title = \"Int64\" style = \"text-align: left;\">Int64</th><th title = \"Float64\" style = \"text-align: left;\">Float64</th></tr></thead><tbody><tr><td class = \"rowNumber\" style = \"font-weight: bold; text-align: right;\">1</td><td style = \"text-align: right;\">100</td><td style = \"text-align: right;\">313.659</td></tr><tr><td class = \"rowNumber\" style = \"font-weight: bold; text-align: right;\">2</td><td style = \"text-align: right;\">200</td><td style = \"text-align: right;\">1098.77</td></tr><tr><td class = \"rowNumber\" style = \"font-weight: bold; text-align: right;\">3</td><td style = \"text-align: right;\">300</td><td style = \"text-align: right;\">2116.72</td></tr><tr><td class = \"rowNumber\" style = \"font-weight: bold; text-align: right;\">4</td><td style = \"text-align: right;\">400</td><td style = \"text-align: right;\">3878.62</td></tr><tr><td class = \"rowNumber\" style = \"font-weight: bold; text-align: right;\">5</td><td style = \"text-align: right;\">500</td><td style = \"text-align: right;\">5652.23</td></tr><tr><td class = \"rowNumber\" style = \"font-weight: bold; text-align: right;\">6</td><td style = \"text-align: right;\">600</td><td style = \"text-align: right;\">7777.93</td></tr><tr><td class = \"rowNumber\" style = \"font-weight: bold; text-align: right;\">7</td><td style = \"text-align: right;\">700</td><td style = \"text-align: right;\">9095.26</td></tr><tr><td class = \"rowNumber\" style = \"font-weight: bold; text-align: right;\">8</td><td style = \"text-align: right;\">800</td><td style = \"text-align: right;\">12148.6</td></tr><tr><td class = \"rowNumber\" style = \"font-weight: bold; text-align: right;\">9</td><td style = \"text-align: right;\">900</td><td style = \"text-align: right;\">16239.0</td></tr><tr><td class = \"rowNumber\" style = \"font-weight: bold; text-align: right;\">10</td><td style = \"text-align: right;\">1000</td><td style = \"text-align: right;\">18768.6</td></tr></tbody></table></div>"
      ],
      "text/latex": [
       "\\begin{tabular}{r|cc}\n",
       "\t& ksi & max\\_s\\\\\n",
       "\t\\hline\n",
       "\t& Int64 & Float64\\\\\n",
       "\t\\hline\n",
       "\t1 & 100 & 313.659 \\\\\n",
       "\t2 & 200 & 1098.77 \\\\\n",
       "\t3 & 300 & 2116.72 \\\\\n",
       "\t4 & 400 & 3878.62 \\\\\n",
       "\t5 & 500 & 5652.23 \\\\\n",
       "\t6 & 600 & 7777.93 \\\\\n",
       "\t7 & 700 & 9095.26 \\\\\n",
       "\t8 & 800 & 12148.6 \\\\\n",
       "\t9 & 900 & 16239.0 \\\\\n",
       "\t10 & 1000 & 18768.6 \\\\\n",
       "\\end{tabular}\n"
      ],
      "text/plain": [
       "\u001b[1m10×2 DataFrame\u001b[0m\n",
       "\u001b[1m Row \u001b[0m│\u001b[1m ksi   \u001b[0m\u001b[1m max_s     \u001b[0m\n",
       "     │\u001b[90m Int64 \u001b[0m\u001b[90m Float64   \u001b[0m\n",
       "─────┼──────────────────\n",
       "   1 │   100    313.659\n",
       "   2 │   200   1098.77\n",
       "   3 │   300   2116.72\n",
       "   4 │   400   3878.62\n",
       "   5 │   500   5652.23\n",
       "   6 │   600   7777.93\n",
       "   7 │   700   9095.26\n",
       "   8 │   800  12148.6\n",
       "   9 │   900  16239.0\n",
       "  10 │  1000  18768.6"
      ]
     },
     "metadata": {},
     "output_type": "display_data"
    },
    {
     "name": "stdout",
     "output_type": "stream",
     "text": [
      "[313.6590895803622, 1098.7739955355112, 2116.719978626081, 3878.617139043189, 5652.225946649163, 7777.930309010547, 9095.260175408823, 12148.57309045354, 16238.958036079488, 18768.586404553847]\n"
     ]
    }
   ],
   "source": [
    "# FSS - average cluster \n",
    "\n",
    "df_s_square = DataFrame(q = df_10_000_square.q)  # Initialize with q values (common for all N)\n",
    "df_s_square[!, \"s_ksi_$(ksi[1])\"] = df_10_000_square.average_cluster_size\n",
    "df_s_square[!, \"s_ksi_$(ksi[2])\"] = df_40_000_square.average_cluster_size\n",
    "df_s_square[!, \"s_ksi_$(ksi[3])\"] = df_90_000_square.average_cluster_size\n",
    "df_s_square[!, \"s_ksi_$(ksi[4])\"] = df_160_000_square.average_cluster_size\n",
    "df_s_square[!, \"s_ksi_$(ksi[5])\"] = df_250_000_square.average_cluster_size\n",
    "df_s_square[!, \"s_ksi_$(ksi[6])\"] = df_360_000_square.average_cluster_size\n",
    "df_s_square[!, \"s_ksi_$(ksi[7])\"] = df_490_000_square.average_cluster_size\n",
    "df_s_square[!, \"s_ksi_$(ksi[8])\"] = df_640_000_square.average_cluster_size\n",
    "df_s_square[!, \"s_ksi_$(ksi[9])\"] = df_810_000_square.average_cluster_size\n",
    "df_s_square[!, \"s_ksi_$(ksi[10])\"] = df_1_000_000_square.average_cluster_size\n",
    "\n",
    "# df_s_square = df_s_square[2:end-1, :]  # Remove NaN in the first and last row\n",
    "max_vec = zeros(length(ksi))\n",
    "for i in 1:length(ksi)\n",
    "    max_vec[i] = maximum(df_s_square[!, \"s_ksi_$(ksi[i])\"])\n",
    "end\n",
    "println(max_vec)\n",
    "df_sm_square = DataFrame(ksi=ksi)  # Initialize with q values (common for all N)\n",
    "df_sm_square[!, \"max_s\"] = max_vec\n",
    "\n",
    "display(df_sm_square)\n",
    "# threshold = 1e-6   # Threshold all values below this to zero\n",
    "\n",
    "# df_s_square = df_s_square[2:end-1, :]  # Remove NaN in the first row\n",
    "# for col in names(df_s_square)\n",
    "#     df_s_square[!, col] = map(x -> x < threshold ? 0 : x, df_s_square[!, col])\n",
    "# end\n",
    "\n",
    "# r2_arr_s_square, model_arr_s_square, slope_arr_s_square = line_fitter(df_sm_square, ksi)"
   ]
  },
  {
   "cell_type": "code",
   "execution_count": 11,
   "metadata": {},
   "outputs": [
    {
     "data": {
      "text/plain": [
       "StatsModels.TableRegressionModel{LinearModel{GLM.LmResp{Vector{Float64}}, GLM.DensePredChol{Float64, LinearAlgebra.CholeskyPivoted{Float64, Matrix{Float64}, Vector{Int64}}}}, Matrix{Float64}}\n",
       "\n",
       ":(log(max_s)) ~ 1 + :(log(ksi))\n",
       "\n",
       "Coefficients:\n",
       "─────────────────────────────────────────────────────────────────────────\n",
       "                Coef.  Std. Error       t  Pr(>|t|)  Lower 95%  Upper 95%\n",
       "─────────────────────────────────────────────────────────────────────────\n",
       "(Intercept)  -2.39909   0.132842   -18.06    <1e-07   -2.70542   -2.09275\n",
       "log(ksi)      1.77115   0.0215827   82.06    <1e-12    1.72138    1.82092\n",
       "─────────────────────────────────────────────────────────────────────────"
      ]
     },
     "metadata": {},
     "output_type": "display_data"
    },
    {
     "name": "stdout",
     "output_type": "stream",
     "text": [
      "0.9988134791616269\n"
     ]
    }
   ],
   "source": [
    "model_sm_square = lm(@formula(log(max_s) ~ log(ksi)), df_sm_square)\n",
    "println(r2(model_sm_square))\n",
    "display(model_sm_square)"
   ]
  },
  {
   "cell_type": "code",
   "execution_count": 12,
   "metadata": {},
   "outputs": [
    {
     "data": {
      "text/plain": [
       "\"c:\\\\Users\\\\jonas\\\\Documents\\\\Codespace\\\\TFY4235\\\\Numerical_Physics\\\\Project_Percolation\\\\figures\\\\FSS_sm_square.svg\""
      ]
     },
     "metadata": {},
     "output_type": "display_data"
    }
   ],
   "source": [
    "FSS_sm_square = scatter(log.(df_sm_square.ksi), log.(df_sm_square.max_s), xlabel=L\"log(\\xi)\", ylabel=L\"log(max(\\langle s \\rangle))\", color=:green, label=L\"Square: $max(\\langle s \\rangle))$ \", legend=:topleft)\n",
    "plot!(FSS_sm_square , log.(df_sm_square.ksi), predict(model_sm_square), color=:red, label=\"Best fit\")\n",
    "annotate!(FSS_sm_square, 4.9, 9.1, text(\"R^2: $(round(r2(model_sm_square),digits=4))\",8))\n",
    "savefig(FSS_sm_square, \"figures/FSS_sm_square.svg\")"
   ]
  },
  {
   "cell_type": "code",
   "execution_count": 335,
   "metadata": {},
   "outputs": [],
   "source": [
    "# i_start = 5000\n",
    "# i_end = 6000\n",
    "# best_index_s_square = i_start+argmax(r2_arr_s_square[i_start:i_end])\n",
    "# println(i_start+argmax(r2_arr_s_square[i_start:i_end]))\n",
    "# plot(df_s_square.q[i_start:i_end], r2_arr_s_square[i_start:i_end], xlabel=\"q\", xticks=0.4:0.002:0.6, ylabel=L\"$R^2$-coefficient\", color=:green, label=L\"$R^2$\", legend=:topright)\n",
    "# vline!([df_s_square.q[best_index_s_square]], color=:red, linestyle=:dash, label=L\"$p_c$\")\n",
    "# display(model_arr_s_square[best_index_s_square])"
   ]
  },
  {
   "cell_type": "code",
   "execution_count": 13,
   "metadata": {},
   "outputs": [
    {
     "data": {
      "text/plain": [
       "\"c:\\\\Users\\\\jonas\\\\Documents\\\\Codespace\\\\TFY4235\\\\Numerical_Physics\\\\Project_Percolation\\\\figures\\\\FSS_chi_square.svg\""
      ]
     },
     "metadata": {},
     "output_type": "display_data"
    }
   ],
   "source": [
    "# Chi\n",
    "FSS_chi_square = plot(df_10_000_square.q[4500:5500], df_10_000_square.chi[4500:5500], xlabel=\"q\", xticks=(0:0.01:1.0), ylabel=L\"\\chi\", label=\"N=10_000\", legend=:topright)\n",
    "plot!(FSS_chi_square, df_40_000_square.q[4500:5500], df_40_000_square.chi[4500:5500], xlabel=\"q\", xticks=(0:0.01:1.0), ylabel=L\"\\chi\", label=\"N=40_000\")\n",
    "plot!(FSS_chi_square,df_90_000_square.q[4500:5500], df_90_000_square.chi[4500:5500], xlabel=\"q\", xticks=(0:0.01:1.0), ylabel=L\"\\chi\", label=\"N=90_000\")\n",
    "plot!(FSS_chi_square,df_160_000_square.q[4500:5500], df_160_000_square.chi[4500:5500], xlabel=\"q\", xticks=(0:0.01:1.0), ylabel=L\"\\chi\", label=\"N=160_000\")\n",
    "plot!(FSS_chi_square,df_250_000_square.q[4500:5500], df_250_000_square.chi[4500:5500], xlabel=\"q\", xticks=(0:0.01:1.0), ylabel=L\"\\chi\", label=\"N=250_000\")\n",
    "plot!(FSS_chi_square,df_360_000_square.q[4500:5500], df_360_000_square.chi[4500:5500], xlabel=\"q\", xticks=(0:0.01:1.0), ylabel=L\"\\chi\", label=\"N=360_000\")\n",
    "plot!(FSS_chi_square,df_490_000_square.q[4500:5500], df_490_000_square.chi[4500:5500], xlabel=\"q\", xticks=(0:0.01:1.0), ylabel=L\"\\chi\", label=\"N=490_000\")\n",
    "plot!(FSS_chi_square,df_640_000_square.q[4500:5500], df_640_000_square.chi[4500:5500], xlabel=\"q\", xticks=(0:0.01:1.0), ylabel=L\"\\chi\", label=\"N=640_000\")\n",
    "plot!(FSS_chi_square,df_810_000_square.q[4500:5500], df_810_000_square.chi[4500:5500], xlabel=\"q\", xticks=(0:0.01:1.0), ylabel=L\"\\chi\", label=\"N=810_000\")\n",
    "plot!(FSS_chi_square,df_1_000_000_square.q[4500:5500], df_1_000_000_square.chi[4500:5500], xlabel=\"q\", xticks=(0:0.01:1.0), ylabel=L\"\\chi\", label=\"N=1_000_000\")\n",
    "savefig(FSS_chi_square, \"figures/FSS_chi_square.svg\")"
   ]
  },
  {
   "cell_type": "code",
   "execution_count": 14,
   "metadata": {},
   "outputs": [
    {
     "data": {
      "text/html": [
       "<div><div style = \"float: left;\"><span>10×2 DataFrame</span></div><div style = \"clear: both;\"></div></div><div class = \"data-frame\" style = \"overflow-x: scroll;\"><table class = \"data-frame\" style = \"margin-bottom: 6px;\"><thead><tr class = \"header\"><th class = \"rowNumber\" style = \"font-weight: bold; text-align: right;\">Row</th><th style = \"text-align: left;\">ksi</th><th style = \"text-align: left;\">q_max</th></tr><tr class = \"subheader headerLastRow\"><th class = \"rowNumber\" style = \"font-weight: bold; text-align: right;\"></th><th title = \"Int64\" style = \"text-align: left;\">Int64</th><th title = \"Float64\" style = \"text-align: left;\">Float64</th></tr></thead><tbody><tr><td class = \"rowNumber\" style = \"font-weight: bold; text-align: right;\">1</td><td style = \"text-align: right;\">100</td><td style = \"text-align: right;\">0.0185019</td></tr><tr><td class = \"rowNumber\" style = \"font-weight: bold; text-align: right;\">2</td><td style = \"text-align: right;\">200</td><td style = \"text-align: right;\">0.010401</td></tr><tr><td class = \"rowNumber\" style = \"font-weight: bold; text-align: right;\">3</td><td style = \"text-align: right;\">300</td><td style = \"text-align: right;\">0.00880088</td></tr><tr><td class = \"rowNumber\" style = \"font-weight: bold; text-align: right;\">4</td><td style = \"text-align: right;\">400</td><td style = \"text-align: right;\">0.00730073</td></tr><tr><td class = \"rowNumber\" style = \"font-weight: bold; text-align: right;\">5</td><td style = \"text-align: right;\">500</td><td style = \"text-align: right;\">0.00460046</td></tr><tr><td class = \"rowNumber\" style = \"font-weight: bold; text-align: right;\">6</td><td style = \"text-align: right;\">600</td><td style = \"text-align: right;\">0.0050005</td></tr><tr><td class = \"rowNumber\" style = \"font-weight: bold; text-align: right;\">7</td><td style = \"text-align: right;\">700</td><td style = \"text-align: right;\">0.00490049</td></tr><tr><td class = \"rowNumber\" style = \"font-weight: bold; text-align: right;\">8</td><td style = \"text-align: right;\">800</td><td style = \"text-align: right;\">0.00450045</td></tr><tr><td class = \"rowNumber\" style = \"font-weight: bold; text-align: right;\">9</td><td style = \"text-align: right;\">900</td><td style = \"text-align: right;\">0.00420042</td></tr><tr><td class = \"rowNumber\" style = \"font-weight: bold; text-align: right;\">10</td><td style = \"text-align: right;\">1000</td><td style = \"text-align: right;\">0.00370037</td></tr></tbody></table></div>"
      ],
      "text/latex": [
       "\\begin{tabular}{r|cc}\n",
       "\t& ksi & q\\_max\\\\\n",
       "\t\\hline\n",
       "\t& Int64 & Float64\\\\\n",
       "\t\\hline\n",
       "\t1 & 100 & 0.0185019 \\\\\n",
       "\t2 & 200 & 0.010401 \\\\\n",
       "\t3 & 300 & 0.00880088 \\\\\n",
       "\t4 & 400 & 0.00730073 \\\\\n",
       "\t5 & 500 & 0.00460046 \\\\\n",
       "\t6 & 600 & 0.0050005 \\\\\n",
       "\t7 & 700 & 0.00490049 \\\\\n",
       "\t8 & 800 & 0.00450045 \\\\\n",
       "\t9 & 900 & 0.00420042 \\\\\n",
       "\t10 & 1000 & 0.00370037 \\\\\n",
       "\\end{tabular}\n"
      ],
      "text/plain": [
       "\u001b[1m10×2 DataFrame\u001b[0m\n",
       "\u001b[1m Row \u001b[0m│\u001b[1m ksi   \u001b[0m\u001b[1m q_max      \u001b[0m\n",
       "     │\u001b[90m Int64 \u001b[0m\u001b[90m Float64    \u001b[0m\n",
       "─────┼───────────────────\n",
       "   1 │   100  0.0185019\n",
       "   2 │   200  0.010401\n",
       "   3 │   300  0.00880088\n",
       "   4 │   400  0.00730073\n",
       "   5 │   500  0.00460046\n",
       "   6 │   600  0.0050005\n",
       "   7 │   700  0.00490049\n",
       "   8 │   800  0.00450045\n",
       "   9 │   900  0.00420042\n",
       "  10 │  1000  0.00370037"
      ]
     },
     "metadata": {},
     "output_type": "display_data"
    },
    {
     "name": "stdout",
     "output_type": "stream",
     "text": [
      "[0.48264826482648265, 0.49074907490749076, 0.49234923492349236, 0.49384938493849384, 0.4965496549654965, 0.4961496149614962, 0.49624962496249625, 0.49664966496649665, 0.4969496949694969, 0.49744974497449745]\n"
     ]
    }
   ],
   "source": [
    "## FSS - ksi\n",
    "q_max = zeros(length(ksi))\n",
    "for i in 1:length(ksi)\n",
    "    q_max[i] = df_s_square.q[argmax(df_s_square[!, \"s_ksi_$(ksi[i])\"])]\n",
    "end\n",
    "println(q_max)\n",
    "\n",
    "\n",
    "df_max_square = DataFrame(ksi=ksi)  # Initialize with q values (common for all N)\n",
    "df_max_square[!, \"q_max\"] = abs.(q_max.- p_c)\n",
    "display(df_max_square)\n",
    "# r2_arr_max_square, model_arr_max_square, slope_arr_max_square = line_fitter(df_max_square, ksi)\n"
   ]
  },
  {
   "cell_type": "code",
   "execution_count": 15,
   "metadata": {},
   "outputs": [
    {
     "name": "stdout",
     "output_type": "stream",
     "text": [
      "0.9640632533926495\n"
     ]
    },
    {
     "data": {
      "text/plain": [
       "StatsModels.TableRegressionModel{LinearModel{GLM.LmResp{Vector{Float64}}, GLM.DensePredChol{Float64, LinearAlgebra.CholeskyPivoted{Float64, Matrix{Float64}, Vector{Int64}}}}, Matrix{Float64}}\n",
       "\n",
       ":(log(q_max)) ~ 1 + :(log(ksi))\n",
       "\n",
       "Coefficients:\n",
       "──────────────────────────────────────────────────────────────────────────\n",
       "                 Coef.  Std. Error       t  Pr(>|t|)  Lower 95%  Upper 95%\n",
       "──────────────────────────────────────────────────────────────────────────\n",
       "(Intercept)  -0.907883   0.285818    -3.18    0.0131  -1.56698   -0.248786\n",
       "log(ksi)     -0.68028    0.0464365  -14.65    <1e-06  -0.787363  -0.573197\n",
       "──────────────────────────────────────────────────────────────────────────"
      ]
     },
     "metadata": {},
     "output_type": "display_data"
    }
   ],
   "source": [
    "model_max_square = lm(@formula(log(q_max) ~ log(ksi) ), df_max_square)\n",
    "println(r2(model_max_square))\n",
    "display(model_max_square)"
   ]
  },
  {
   "cell_type": "code",
   "execution_count": 16,
   "metadata": {},
   "outputs": [
    {
     "data": {
      "text/plain": [
       "\"c:\\\\Users\\\\jonas\\\\Documents\\\\Codespace\\\\TFY4235\\\\Numerical_Physics\\\\Project_Percolation\\\\figures\\\\FSS_max_square.svg\""
      ]
     },
     "metadata": {},
     "output_type": "display_data"
    }
   ],
   "source": [
    "FSS_max_square = scatter(log.(ksi), log.(df_max_square.q_max), xlabel=L\"log(\\xi)\", ylabel=L\"log(\\left|q_{max}-p_c\\right|)\",color=:green, label=\"Square: q_max\",legend=:topright)\n",
    "plot!(FSS_max_square, log.(ksi), predict(model_max_square), color=:red, label=\"Best fit\")\n",
    "annotate!(FSS_max_square, 6.5, -4.25, text(\"R^2: $(round(r2(model_max_square),digits=4))\",8))\n",
    "savefig(FSS_max_square, \"figures/FSS_max_square.svg\")"
   ]
  },
  {
   "cell_type": "code",
   "execution_count": 340,
   "metadata": {},
   "outputs": [],
   "source": [
    "# i_start = 4500\n",
    "# i_end = 5100\n",
    "\n",
    "# best_index_max_square = i_start+argmax(r2_arr_max_square[i_start:i_end])\n",
    "# println(best_index_max_square)\n",
    "\n",
    "# plot(df_max_square.q[i_start:i_end], r2_arr_max_square[i_start:i_end], xlabel=\"q\", xticks=0:0.01:1, ylabel=L\"$R^2$-coefficient\", color=:green, legend=false)\n",
    "# vline!([df_max_square.q[best_index_max_square]], color=:red, linestyle=:dash, label=L\"$p_c$\")"
   ]
  },
  {
   "cell_type": "code",
   "execution_count": 341,
   "metadata": {},
   "outputs": [],
   "source": [
    "# println(model_arr_max_square[best_index_max_square])\n",
    "# println(model_arr_max_square[5018])"
   ]
  },
  {
   "cell_type": "code",
   "execution_count": 342,
   "metadata": {},
   "outputs": [],
   "source": [
    "# println(\"Best index, P: \", best_index_P_square)\n",
    "# println(\"Best index, s: \", best_index_s_square)\n",
    "# println(\"Best index, max: \", best_index_max_square)"
   ]
  },
  {
   "cell_type": "code",
   "execution_count": 17,
   "metadata": {},
   "outputs": [
    {
     "name": "stdout",
     "output_type": "stream",
     "text": [
      "-0.07911976056792722 -0.060872672338460464 1.7213764022251195 1.820915788245178 -0.7873629900324879 -0.5731974718370301\n"
     ]
    }
   ],
   "source": [
    "# Upper and lower bounds\n",
    "\n",
    "lower_P_square = coeftable(model_arr_P_square[best_index_P_square]).cols[5][2]\n",
    "upper_P_square = coeftable(model_arr_P_square[best_index_P_square]).cols[6][2]\n",
    "\n",
    "lower_s_square = coeftable(model_sm_square).cols[5][2]\n",
    "upper_s_square = coeftable(model_sm_square).cols[6][2]\n",
    "\n",
    "lower_max_square = coeftable(model_max_square).cols[5][2]\n",
    "upper_max_square = coeftable(model_max_square).cols[6][2]\n",
    "\n",
    "println(lower_P_square, \" \", upper_P_square, \" \", lower_s_square, \" \", upper_s_square, \" \", lower_max_square, \" \", upper_max_square)"
   ]
  },
  {
   "cell_type": "code",
   "execution_count": 18,
   "metadata": {},
   "outputs": [
    {
     "name": "stdout",
     "output_type": "stream",
     "text": [
      "Numerical: nu = 1.4699824491826268, gamma = 2.60355367493401, beta = 0.10289320969538317\n",
      "Analytical: nu = 1.3333333333333333, gamma = 2.388888888888889, beta = 0.1388888888888889\n"
     ]
    }
   ],
   "source": [
    "nu_square = - 1 / coef(model_max_square)[2]\n",
    "gamma_square = nu_square*coef(model_sm_square)[2]\n",
    "beta_square = -nu_square*slope_arr_P_square[best_index_P_square]\n",
    "println(\"Numerical: nu = $(nu_square), gamma = $(gamma_square), beta = $(beta_square)\")\n",
    "println(\"Analytical: nu = $(4/3), gamma = $(43/18), beta = $(5/36)\")"
   ]
  },
  {
   "cell_type": "code",
   "execution_count": 19,
   "metadata": {},
   "outputs": [
    {
     "name": "stdout",
     "output_type": "stream",
     "text": [
      "nu in [1.2700622364263507, 1.7445994602787034]\n",
      "gamma in [2.1862551631415807, 3.1767687013855075]\n",
      "beta in [0.07731208236743356, 0.13803229158418606]\n"
     ]
    }
   ],
   "source": [
    "nu_upper_square = - 1 / upper_max_square\n",
    "nu_lower_square = - 1 / lower_max_square\n",
    "\n",
    "gamma_upper_square = nu_upper_square*upper_s_square\n",
    "gamma_lower_square = nu_lower_square*lower_s_square\n",
    "\n",
    "beta_upper_square = -nu_upper_square*lower_P_square\n",
    "beta_lower_square = -nu_lower_square*upper_P_square\n",
    "\n",
    "println(\"nu in [$(nu_lower_square), $(nu_upper_square)]\")\n",
    "println(\"gamma in [$(gamma_lower_square), $(gamma_upper_square)]\")\n",
    "println(\"beta in [$(beta_lower_square), $(beta_upper_square)]\")"
   ]
  },
  {
   "cell_type": "markdown",
   "metadata": {},
   "source": [
    "### Triangular lattice"
   ]
  },
  {
   "cell_type": "code",
   "execution_count": 20,
   "metadata": {},
   "outputs": [
    {
     "data": {
      "text/html": [
       "<div><div style = \"float: left;\"><span>10000×4 DataFrame</span></div><div style = \"float: right;\"><span style = \"font-style: italic;\">9975 rows omitted</span></div><div style = \"clear: both;\"></div></div><div class = \"data-frame\" style = \"overflow-x: scroll;\"><table class = \"data-frame\" style = \"margin-bottom: 6px;\"><thead><tr class = \"header\"><th class = \"rowNumber\" style = \"font-weight: bold; text-align: right;\">Row</th><th style = \"text-align: left;\">q</th><th style = \"text-align: left;\">P</th><th style = \"text-align: left;\">chi</th><th style = \"text-align: left;\">average_cluster_size</th></tr><tr class = \"subheader headerLastRow\"><th class = \"rowNumber\" style = \"font-weight: bold; text-align: right;\"></th><th title = \"Float64\" style = \"text-align: left;\">Float64</th><th title = \"Float64\" style = \"text-align: left;\">Float64</th><th title = \"Float64\" style = \"text-align: left;\">Float64</th><th title = \"Float64\" style = \"text-align: left;\">Float64</th></tr></thead><tbody><tr><td class = \"rowNumber\" style = \"font-weight: bold; text-align: right;\">1</td><td style = \"text-align: right;\">0.0</td><td style = \"text-align: right;\">6.00003e-12</td><td style = \"text-align: right;\">0.0034641</td><td style = \"text-align: right;\">1.00001</td></tr><tr><td class = \"rowNumber\" style = \"font-weight: bold; text-align: right;\">2</td><td style = \"text-align: right;\">0.00010001</td><td style = \"text-align: right;\">2.11476e-6</td><td style = \"text-align: right;\">0.318672</td><td style = \"text-align: right;\">1.0006</td></tr><tr><td class = \"rowNumber\" style = \"font-weight: bold; text-align: right;\">3</td><td style = \"text-align: right;\">0.00020002</td><td style = \"text-align: right;\">2.43699e-6</td><td style = \"text-align: right;\">0.495977</td><td style = \"text-align: right;\">1.0012</td></tr><tr><td class = \"rowNumber\" style = \"font-weight: bold; text-align: right;\">4</td><td style = \"text-align: right;\">0.00030003</td><td style = \"text-align: right;\">2.74803e-6</td><td style = \"text-align: right;\">0.434105</td><td style = \"text-align: right;\">1.0018</td></tr><tr><td class = \"rowNumber\" style = \"font-weight: bold; text-align: right;\">5</td><td style = \"text-align: right;\">0.00040004</td><td style = \"text-align: right;\">2.9602e-6</td><td style = \"text-align: right;\">0.241209</td><td style = \"text-align: right;\">1.0024</td></tr><tr><td class = \"rowNumber\" style = \"font-weight: bold; text-align: right;\">6</td><td style = \"text-align: right;\">0.00050005</td><td style = \"text-align: right;\">3.00372e-6</td><td style = \"text-align: right;\">0.127404</td><td style = \"text-align: right;\">1.00301</td></tr><tr><td class = \"rowNumber\" style = \"font-weight: bold; text-align: right;\">7</td><td style = \"text-align: right;\">0.00060006</td><td style = \"text-align: right;\">3.0298e-6</td><td style = \"text-align: right;\">0.169831</td><td style = \"text-align: right;\">1.00361</td></tr><tr><td class = \"rowNumber\" style = \"font-weight: bold; text-align: right;\">8</td><td style = \"text-align: right;\">0.00070007</td><td style = \"text-align: right;\">3.05388e-6</td><td style = \"text-align: right;\">0.225621</td><td style = \"text-align: right;\">1.00421</td></tr><tr><td class = \"rowNumber\" style = \"font-weight: bold; text-align: right;\">9</td><td style = \"text-align: right;\">0.00080008</td><td style = \"text-align: right;\">3.07687e-6</td><td style = \"text-align: right;\">0.26625</td><td style = \"text-align: right;\">1.00482</td></tr><tr><td class = \"rowNumber\" style = \"font-weight: bold; text-align: right;\">10</td><td style = \"text-align: right;\">0.00090009</td><td style = \"text-align: right;\">3.1046e-6</td><td style = \"text-align: right;\">0.305916</td><td style = \"text-align: right;\">1.00542</td></tr><tr><td class = \"rowNumber\" style = \"font-weight: bold; text-align: right;\">11</td><td style = \"text-align: right;\">0.0010001</td><td style = \"text-align: right;\">3.11002e-6</td><td style = \"text-align: right;\">0.312798</td><td style = \"text-align: right;\">1.00603</td></tr><tr><td class = \"rowNumber\" style = \"font-weight: bold; text-align: right;\">12</td><td style = \"text-align: right;\">0.00110011</td><td style = \"text-align: right;\">3.12148e-6</td><td style = \"text-align: right;\">0.326569</td><td style = \"text-align: right;\">1.00664</td></tr><tr><td class = \"rowNumber\" style = \"font-weight: bold; text-align: right;\">13</td><td style = \"text-align: right;\">0.00120012</td><td style = \"text-align: right;\">3.14086e-6</td><td style = \"text-align: right;\">0.347776</td><td style = \"text-align: right;\">1.00724</td></tr><tr><td style = \"text-align: right;\">&vellip;</td><td style = \"text-align: right;\">&vellip;</td><td style = \"text-align: right;\">&vellip;</td><td style = \"text-align: right;\">&vellip;</td><td style = \"text-align: right;\">&vellip;</td></tr><tr><td class = \"rowNumber\" style = \"font-weight: bold; text-align: right;\">9989</td><td style = \"text-align: right;\">0.9989</td><td style = \"text-align: right;\">1.00001</td><td style = \"text-align: right;\">0.0</td><td style = \"text-align: right;\">0.0</td></tr><tr><td class = \"rowNumber\" style = \"font-weight: bold; text-align: right;\">9990</td><td style = \"text-align: right;\">0.999</td><td style = \"text-align: right;\">1.00001</td><td style = \"text-align: right;\">0.0</td><td style = \"text-align: right;\">0.0</td></tr><tr><td class = \"rowNumber\" style = \"font-weight: bold; text-align: right;\">9991</td><td style = \"text-align: right;\">0.9991</td><td style = \"text-align: right;\">1.00001</td><td style = \"text-align: right;\">0.0</td><td style = \"text-align: right;\">0.0</td></tr><tr><td class = \"rowNumber\" style = \"font-weight: bold; text-align: right;\">9992</td><td style = \"text-align: right;\">0.9992</td><td style = \"text-align: right;\">1.00001</td><td style = \"text-align: right;\">0.0</td><td style = \"text-align: right;\">0.0</td></tr><tr><td class = \"rowNumber\" style = \"font-weight: bold; text-align: right;\">9993</td><td style = \"text-align: right;\">0.9993</td><td style = \"text-align: right;\">1.00001</td><td style = \"text-align: right;\">0.0</td><td style = \"text-align: right;\">0.0</td></tr><tr><td class = \"rowNumber\" style = \"font-weight: bold; text-align: right;\">9994</td><td style = \"text-align: right;\">0.9994</td><td style = \"text-align: right;\">1.00001</td><td style = \"text-align: right;\">0.0</td><td style = \"text-align: right;\">0.0</td></tr><tr><td class = \"rowNumber\" style = \"font-weight: bold; text-align: right;\">9995</td><td style = \"text-align: right;\">0.9995</td><td style = \"text-align: right;\">1.00001</td><td style = \"text-align: right;\">0.0</td><td style = \"text-align: right;\">0.0</td></tr><tr><td class = \"rowNumber\" style = \"font-weight: bold; text-align: right;\">9996</td><td style = \"text-align: right;\">0.9996</td><td style = \"text-align: right;\">1.00001</td><td style = \"text-align: right;\">0.0</td><td style = \"text-align: right;\">0.0</td></tr><tr><td class = \"rowNumber\" style = \"font-weight: bold; text-align: right;\">9997</td><td style = \"text-align: right;\">0.9997</td><td style = \"text-align: right;\">1.00001</td><td style = \"text-align: right;\">0.0</td><td style = \"text-align: right;\">0.0</td></tr><tr><td class = \"rowNumber\" style = \"font-weight: bold; text-align: right;\">9998</td><td style = \"text-align: right;\">0.9998</td><td style = \"text-align: right;\">1.00001</td><td style = \"text-align: right;\">0.0</td><td style = \"text-align: right;\">0.0</td></tr><tr><td class = \"rowNumber\" style = \"font-weight: bold; text-align: right;\">9999</td><td style = \"text-align: right;\">0.9999</td><td style = \"text-align: right;\">1.00001</td><td style = \"text-align: right;\">0.0</td><td style = \"text-align: right;\">0.0</td></tr><tr><td class = \"rowNumber\" style = \"font-weight: bold; text-align: right;\">10000</td><td style = \"text-align: right;\">1.0</td><td style = \"text-align: right;\">1.00001</td><td style = \"text-align: right;\">0.0</td><td style = \"text-align: right;\">0.0</td></tr></tbody></table></div>"
      ],
      "text/latex": [
       "\\begin{tabular}{r|cccc}\n",
       "\t& q & P & chi & average\\_cluster\\_size\\\\\n",
       "\t\\hline\n",
       "\t& Float64 & Float64 & Float64 & Float64\\\\\n",
       "\t\\hline\n",
       "\t1 & 0.0 & 6.00003e-12 & 0.0034641 & 1.00001 \\\\\n",
       "\t2 & 0.00010001 & 2.11476e-6 & 0.318672 & 1.0006 \\\\\n",
       "\t3 & 0.00020002 & 2.43699e-6 & 0.495977 & 1.0012 \\\\\n",
       "\t4 & 0.00030003 & 2.74803e-6 & 0.434105 & 1.0018 \\\\\n",
       "\t5 & 0.00040004 & 2.9602e-6 & 0.241209 & 1.0024 \\\\\n",
       "\t6 & 0.00050005 & 3.00372e-6 & 0.127404 & 1.00301 \\\\\n",
       "\t7 & 0.00060006 & 3.0298e-6 & 0.169831 & 1.00361 \\\\\n",
       "\t8 & 0.00070007 & 3.05388e-6 & 0.225621 & 1.00421 \\\\\n",
       "\t9 & 0.00080008 & 3.07687e-6 & 0.26625 & 1.00482 \\\\\n",
       "\t10 & 0.00090009 & 3.1046e-6 & 0.305916 & 1.00542 \\\\\n",
       "\t11 & 0.0010001 & 3.11002e-6 & 0.312798 & 1.00603 \\\\\n",
       "\t12 & 0.00110011 & 3.12148e-6 & 0.326569 & 1.00664 \\\\\n",
       "\t13 & 0.00120012 & 3.14086e-6 & 0.347776 & 1.00724 \\\\\n",
       "\t14 & 0.00130013 & 3.15652e-6 & 0.363249 & 1.00785 \\\\\n",
       "\t15 & 0.00140014 & 3.18123e-6 & 0.385118 & 1.00846 \\\\\n",
       "\t16 & 0.00150015 & 3.20007e-6 & 0.399959 & 1.00907 \\\\\n",
       "\t17 & 0.00160016 & 3.25401e-6 & 0.435221 & 1.00968 \\\\\n",
       "\t18 & 0.00170017 & 3.31523e-6 & 0.464529 & 1.01029 \\\\\n",
       "\t19 & 0.00180018 & 3.41617e-6 & 0.49285 & 1.0109 \\\\\n",
       "\t20 & 0.00190019 & 3.50119e-6 & 0.499927 & 1.01151 \\\\\n",
       "\t21 & 0.0020002 & 3.53979e-6 & 0.498342 & 1.01212 \\\\\n",
       "\t22 & 0.00210021 & 3.58164e-6 & 0.49323 & 1.01273 \\\\\n",
       "\t23 & 0.00220022 & 3.63899e-6 & 0.494794 & 1.01335 \\\\\n",
       "\t24 & 0.00230023 & 3.70061e-6 & 0.479254 & 1.01396 \\\\\n",
       "\t$\\dots$ & $\\dots$ & $\\dots$ & $\\dots$ & $\\dots$ \\\\\n",
       "\\end{tabular}\n"
      ],
      "text/plain": [
       "\u001b[1m10000×4 DataFrame\u001b[0m\n",
       "\u001b[1m   Row \u001b[0m│\u001b[1m q          \u001b[0m\u001b[1m P           \u001b[0m\u001b[1m chi       \u001b[0m\u001b[1m average_cluster_size \u001b[0m\n",
       "       │\u001b[90m Float64    \u001b[0m\u001b[90m Float64     \u001b[0m\u001b[90m Float64   \u001b[0m\u001b[90m Float64              \u001b[0m\n",
       "───────┼──────────────────────────────────────────────────────────\n",
       "     1 │ 0.0         6.00003e-12  0.0034641               1.00001\n",
       "     2 │ 0.00010001  2.11476e-6   0.318672                1.0006\n",
       "     3 │ 0.00020002  2.43699e-6   0.495977                1.0012\n",
       "     4 │ 0.00030003  2.74803e-6   0.434105                1.0018\n",
       "     5 │ 0.00040004  2.9602e-6    0.241209                1.0024\n",
       "     6 │ 0.00050005  3.00372e-6   0.127404                1.00301\n",
       "     7 │ 0.00060006  3.0298e-6    0.169831                1.00361\n",
       "     8 │ 0.00070007  3.05388e-6   0.225621                1.00421\n",
       "   ⋮   │     ⋮            ⋮           ⋮               ⋮\n",
       "  9994 │ 0.9994      1.00001      0.0                     0.0\n",
       "  9995 │ 0.9995      1.00001      0.0                     0.0\n",
       "  9996 │ 0.9996      1.00001      0.0                     0.0\n",
       "  9997 │ 0.9997      1.00001      0.0                     0.0\n",
       "  9998 │ 0.9998      1.00001      0.0                     0.0\n",
       "  9999 │ 0.9999      1.00001      0.0                     0.0\n",
       " 10000 │ 1.0         1.00001      0.0                     0.0\n",
       "\u001b[36m                                                 9985 rows omitted\u001b[0m"
      ]
     },
     "metadata": {},
     "output_type": "display_data"
    }
   ],
   "source": [
    "df_10_000_triangular = CSV.read(\"DataFrames/N10_000_q10_000_triangular.csv\", DataFrame)\n",
    "df_40_000_triangular = CSV.read(\"DataFrames/N40_000_q10_000_triangular.csv\", DataFrame)\n",
    "df_90_000_triangular = CSV.read(\"DataFrames/N90_000_q10_000_triangular.csv\", DataFrame)\n",
    "df_160_000_triangular = CSV.read(\"DataFrames/N160_000_q10_000_triangular.csv\", DataFrame)\n",
    "df_250_000_triangular = CSV.read(\"DataFrames/N250_000_q10_000_triangular.csv\", DataFrame)\n",
    "df_360_000_triangular = CSV.read(\"DataFrames/N360_000_q10_000_triangular.csv\", DataFrame)\n",
    "df_490_000_triangular = CSV.read(\"DataFrames/N490_000_q10_000_triangular.csv\", DataFrame)\n",
    "df_640_000_triangular = CSV.read(\"DataFrames/N640_000_q10_000_triangular.csv\", DataFrame)\n",
    "df_810_000_triangular = CSV.read(\"DataFrames/N810_000_q10_000_triangular.csv\", DataFrame)\n",
    "df_1_000_000_triangular = CSV.read(\"DataFrames/N1_000_000_q10_000_triangular.csv\", DataFrame)"
   ]
  },
  {
   "cell_type": "code",
   "execution_count": 21,
   "metadata": {},
   "outputs": [
    {
     "name": "stdout",
     "output_type": "stream",
     "text": [
      "0.34729635533386066\n"
     ]
    },
    {
     "data": {
      "text/plain": [
       "\"c:\\\\Users\\\\jonas\\\\Documents\\\\Codespace\\\\TFY4235\\\\Numerical_Physics\\\\Project_Percolation\\\\figures\\\\FSS_P_q_triangular.svg\""
      ]
     },
     "metadata": {},
     "output_type": "display_data"
    }
   ],
   "source": [
    "# Giant component, P_inf\n",
    "println(2*sin(pi/18))\n",
    "FSS_P_q_triangular = plot(df_10_000_triangular.q[2000:4000], df_10_000_triangular.P[2000:4000], xlabel=\"q\", xticks=(0:0.02:1.0), ylabel=L\"\\langle P_\\infty\\rangle\", label=\"N=10_000\", legend=:topleft)\n",
    "plot!(FSS_P_q_triangular,df_40_000_triangular.q[2000:4000], df_40_000_triangular.P[2000:4000], xlabel=\"q\", xticks=(0:0.02:1.0), ylabel=L\"\\langle P_\\infty\\rangle\", label=\"N=40_000\", legend=:topleft)\n",
    "plot!(FSS_P_q_triangular,df_90_000_triangular.q[2000:4000], df_90_000_triangular.P[2000:4000], xlabel=\"q\", xticks=(0:0.02:1.0), ylabel=L\"\\langle P_\\infty\\rangle\", label=\"N=90_000\", legend=:topleft)\n",
    "plot!(FSS_P_q_triangular,df_160_000_triangular.q[2000:4000], df_160_000_triangular.P[2000:4000], xlabel=\"q\", xticks=(0:0.02:1.0), ylabel=L\"\\langle P_\\infty\\rangle\", label=\"N=160_000\", legend=:topleft)\n",
    "plot!(FSS_P_q_triangular,df_250_000_triangular.q[2000:4000], df_250_000_triangular.P[2000:4000], xlabel=\"q\", xticks=(0:0.02:1.0), ylabel=L\"\\langle P_\\infty\\rangle\", label=\"N=250_000\", legend=:topleft)\n",
    "plot!(FSS_P_q_triangular,df_360_000_triangular.q[2000:4000], df_360_000_triangular.P[2000:4000], xlabel=\"q\", xticks=(0:0.02:1.0), ylabel=L\"\\langle P_\\infty\\rangle\", label=\"N=360_000\", legend=:topleft)\n",
    "plot!(FSS_P_q_triangular,df_490_000_triangular.q[2000:4000], df_490_000_triangular.P[2000:4000], xlabel=\"q\", xticks=(0:0.02:1.0), ylabel=L\"\\langle P_\\infty\\rangle\", label=\"N=490_000\", legend=:topleft)\n",
    "plot!(FSS_P_q_triangular,df_640_000_triangular.q[2000:4000], df_640_000_triangular.P[2000:4000], xlabel=\"q\", xticks=(0:0.02:1.0), ylabel=L\"\\langle P_\\infty\\rangle\", label=\"N=640_000\", legend=:topleft)\n",
    "plot!(FSS_P_q_triangular,df_810_000_triangular.q[2000:4000], df_810_000_triangular.P[2000:4000], xlabel=\"q\", xticks=(0:0.02:1.0), ylabel=L\"\\langle P_\\infty\\rangle\", label=\"N=810_000\", legend=:topleft)\n",
    "plot!(FSS_P_q_triangular,df_1_000_000_triangular.q[2000:4000], df_1_000_000_triangular.P[2000:4000], xlabel=\"q\", xticks=(0:0.02:1.0), ylabel=L\"\\langle P_\\infty\\rangle\", label=\"N=1_000_000\", legend=:topleft)\n",
    "savefig(FSS_P_q_triangular, \"figures/FSS_P_q_triangular.svg\")"
   ]
  },
  {
   "cell_type": "code",
   "execution_count": 22,
   "metadata": {},
   "outputs": [
    {
     "data": {
      "text/plain": [
       "10000-element Vector{Float64}:\n",
       " 6.00002700005401e-12\n",
       " 2.1147566121600132e-6\n",
       " 2.436986832898198e-6\n",
       " 2.748026485849321e-6\n",
       " 2.960197805369211e-6\n",
       " 3.00371866440192e-6\n",
       " 3.0298027022466327e-6\n",
       " 3.053879991741737e-6\n",
       " 3.0768700089487046e-6\n",
       " 3.1045971865694387e-6\n",
       " ⋮\n",
       " 1.0000059989626744\n",
       " 1.0000059968886639\n",
       " 1.0000059974057525\n",
       " 1.0000059970572075\n",
       " 1.0000059982310368\n",
       " 1.0000059997829867\n",
       " 1.0000059972867104\n",
       " 1.0000059997427893\n",
       " 1.0000059989373953"
      ]
     },
     "metadata": {},
     "output_type": "display_data"
    }
   ],
   "source": [
    "ksi_triangular = round.(Int, sqrt.([10_000, 40_000, 90_000, 160_000, 250_000, 360_000, 490_000, 640_000, 810_000, 1_000_000]))\n",
    "df_P_triangular = DataFrame(q = df_10_000_triangular.q)  # Initialize with q values (common for all N)\n",
    "df_P_triangular[!, \"P_ksi_$(ksi_triangular[1])\"] = df_10_000_triangular.P\n",
    "df_P_triangular[!, \"P_ksi_$(ksi_triangular[2])\"] = df_40_000_triangular.P\n",
    "df_P_triangular[!, \"P_ksi_$(ksi_triangular[3])\"] = df_90_000_triangular.P\n",
    "df_P_triangular[!, \"P_ksi_$(ksi_triangular[4])\"] = df_160_000_triangular.P\n",
    "df_P_triangular[!, \"P_ksi_$(ksi_triangular[5])\"] = df_250_000_triangular.P\n",
    "df_P_triangular[!, \"P_ksi_$(ksi_triangular[6])\"] = df_360_000_triangular.P\n",
    "df_P_triangular[!, \"P_ksi_$(ksi_triangular[7])\"] = df_490_000_triangular.P\n",
    "df_P_triangular[!, \"P_ksi_$(ksi_triangular[8])\"] = df_640_000_triangular.P\n",
    "df_P_triangular[!, \"P_ksi_$(ksi_triangular[9])\"] = df_810_000_triangular.P\n",
    "df_P_triangular[!, \"P_ksi_$(ksi_triangular[10])\"] = df_1_000_000_triangular.P\n",
    "# display(df_P_triangular)\n",
    "# df_P_triangular = df_P_triangular[2:end-1, :]  # Remove NaN in the first and last row due to NaN"
   ]
  },
  {
   "cell_type": "code",
   "execution_count": 23,
   "metadata": {},
   "outputs": [
    {
     "data": {
      "text/plain": [
       "([0.7460254714487825, 0.9999019467095361, 0.9993432119650721, 0.9990087454966049, 0.9990471227376164, 0.9994729413085717, 0.99966194021955, 0.9997303616185909, 0.9996996588327484, 0.9995681684238863  …  0.7459759963590227, 0.7460675352045405, 0.7461447248183823, 0.746086358553014, 0.7460679481054382, 0.7460393878079838, 0.7459643282438531, 0.7461244368889863, 0.7460273753350619, 0.7460379714767421], Any[StatsModels.TableRegressionModel{LinearModel{GLM.LmResp{Vector{Float64}}, GLM.DensePredChol{Float64, LinearAlgebra.CholeskyPivoted{Float64, Matrix{Float64}, Vector{Int64}}}}, Matrix{Float64}}\n",
       "\n",
       "log_param ~ 1 + log_ksi\n",
       "\n",
       "Coefficients:\n",
       "─────────────────────────────────────────────────────────────────────────────────────────\n",
       "                    Coef.  Std. Error             t  Pr(>|t|)     Lower 95%     Upper 95%\n",
       "─────────────────────────────────────────────────────────────────────────────────────────\n",
       "(Intercept)  -25.8393      2.30072e-6  -11230929.40    <1e-53  -25.8393      -25.8393\n",
       "log_ksi        1.81201e-6  3.73796e-7          4.85    0.0013    9.50039e-7    2.67399e-6\n",
       "─────────────────────────────────────────────────────────────────────────────────────────, StatsModels.TableRegressionModel{LinearModel{GLM.LmResp{Vector{Float64}}, GLM.DensePredChol{Float64, LinearAlgebra.CholeskyPivoted{Float64, Matrix{Float64}, Vector{Int64}}}}, Matrix{Float64}}\n",
       "\n",
       "log_param ~ 1 + log_ksi\n",
       "\n",
       "Coefficients:\n",
       "───────────────────────────────────────────────────────────────────────────\n",
       "                 Coef.  Std. Error        t  Pr(>|t|)  Lower 95%  Upper 95%\n",
       "───────────────────────────────────────────────────────────────────────────\n",
       "(Intercept)   0.465566   0.0422278    11.03    <1e-05   0.368188   0.562943\n",
       "log_ksi      -1.95957    0.0068607  -285.62    <1e-16  -1.97539   -1.94375\n",
       "───────────────────────────────────────────────────────────────────────────, StatsModels.TableRegressionModel{LinearModel{GLM.LmResp{Vector{Float64}}, GLM.DensePredChol{Float64, LinearAlgebra.CholeskyPivoted{Float64, Matrix{Float64}, Vector{Int64}}}}, Matrix{Float64}}\n",
       "\n",
       "log_param ~ 1 + log_ksi\n",
       "\n",
       "Coefficients:\n",
       "─────────────────────────────────────────────────────────────────────────────\n",
       "                 Coef.  Std. Error        t  Pr(>|t|)    Lower 95%  Upper 95%\n",
       "─────────────────────────────────────────────────────────────────────────────\n",
       "(Intercept)   0.241449   0.106645      2.26    0.0534  -0.00447536   0.487373\n",
       "log_ksi      -1.91162    0.0173265  -110.33    <1e-13  -1.95158     -1.87166\n",
       "─────────────────────────────────────────────────────────────────────────────, StatsModels.TableRegressionModel{LinearModel{GLM.LmResp{Vector{Float64}}, GLM.DensePredChol{Float64, LinearAlgebra.CholeskyPivoted{Float64, Matrix{Float64}, Vector{Int64}}}}, Matrix{Float64}}\n",
       "\n",
       "log_param ~ 1 + log_ksi\n",
       "\n",
       "Coefficients:\n",
       "────────────────────────────────────────────────────────────────────────────\n",
       "                   Coef.  Std. Error       t  Pr(>|t|)  Lower 95%  Upper 95%\n",
       "────────────────────────────────────────────────────────────────────────────\n",
       "(Intercept)  -0.00029304   0.127559    -0.00    0.9982  -0.294446    0.29386\n",
       "log_ksi      -1.86089      0.0207245  -89.79    <1e-12  -1.90868    -1.8131\n",
       "────────────────────────────────────────────────────────────────────────────, StatsModels.TableRegressionModel{LinearModel{GLM.LmResp{Vector{Float64}}, GLM.DensePredChol{Float64, LinearAlgebra.CholeskyPivoted{Float64, Matrix{Float64}, Vector{Int64}}}}, Matrix{Float64}}\n",
       "\n",
       "log_param ~ 1 + log_ksi\n",
       "\n",
       "Coefficients:\n",
       "──────────────────────────────────────────────────────────────────────────\n",
       "                 Coef.  Std. Error       t  Pr(>|t|)  Lower 95%  Upper 95%\n",
       "──────────────────────────────────────────────────────────────────────────\n",
       "(Intercept)  -0.170694   0.122536    -1.39    0.2011  -0.453264   0.111875\n",
       "log_ksi      -1.82329    0.0199084  -91.58    <1e-12  -1.8692    -1.77738\n",
       "──────────────────────────────────────────────────────────────────────────, StatsModels.TableRegressionModel{LinearModel{GLM.LmResp{Vector{Float64}}, GLM.DensePredChol{Float64, LinearAlgebra.CholeskyPivoted{Float64, Matrix{Float64}, Vector{Int64}}}}, Matrix{Float64}}\n",
       "\n",
       "log_param ~ 1 + log_ksi\n",
       "\n",
       "Coefficients:\n",
       "────────────────────────────────────────────────────────────────────────────\n",
       "                 Coef.  Std. Error        t  Pr(>|t|)  Lower 95%   Upper 95%\n",
       "────────────────────────────────────────────────────────────────────────────\n",
       "(Intercept)  -0.196856   0.0905582    -2.17    0.0615  -0.405684   0.0119716\n",
       "log_ksi      -1.81217    0.0147129  -123.17    <1e-13  -1.8461    -1.77824\n",
       "────────────────────────────────────────────────────────────────────────────, StatsModels.TableRegressionModel{LinearModel{GLM.LmResp{Vector{Float64}}, GLM.DensePredChol{Float64, LinearAlgebra.CholeskyPivoted{Float64, Matrix{Float64}, Vector{Int64}}}}, Matrix{Float64}}\n",
       "\n",
       "log_param ~ 1 + log_ksi\n",
       "\n",
       "Coefficients:\n",
       "────────────────────────────────────────────────────────────────────────────\n",
       "                 Coef.  Std. Error        t  Pr(>|t|)  Lower 95%   Upper 95%\n",
       "────────────────────────────────────────────────────────────────────────────\n",
       "(Intercept)  -0.150342   0.0726404    -2.07    0.0723  -0.317851   0.0171671\n",
       "log_ksi      -1.8152     0.0118018  -153.81    <1e-14  -1.84241   -1.78798\n",
       "────────────────────────────────────────────────────────────────────────────, StatsModels.TableRegressionModel{LinearModel{GLM.LmResp{Vector{Float64}}, GLM.DensePredChol{Float64, LinearAlgebra.CholeskyPivoted{Float64, Matrix{Float64}, Vector{Int64}}}}, Matrix{Float64}}\n",
       "\n",
       "log_param ~ 1 + log_ksi\n",
       "\n",
       "Coefficients:\n",
       "─────────────────────────────────────────────────────────────────────────────\n",
       "                  Coef.  Std. Error        t  Pr(>|t|)  Lower 95%   Upper 95%\n",
       "─────────────────────────────────────────────────────────────────────────────\n",
       "(Intercept)  -0.0791415   0.065152     -1.21    0.2591  -0.229382   0.0710993\n",
       "log_ksi      -1.82303     0.0105852  -172.22    <1e-14  -1.84744   -1.79862\n",
       "─────────────────────────────────────────────────────────────────────────────, StatsModels.TableRegressionModel{LinearModel{GLM.LmResp{Vector{Float64}}, GLM.DensePredChol{Float64, LinearAlgebra.CholeskyPivoted{Float64, Matrix{Float64}, Vector{Int64}}}}, Matrix{Float64}}\n",
       "\n",
       "log_param ~ 1 + log_ksi\n",
       "\n",
       "Coefficients:\n",
       "────────────────────────────────────────────────────────────────────────────\n",
       "                  Coef.  Std. Error        t  Pr(>|t|)  Lower 95%  Upper 95%\n",
       "────────────────────────────────────────────────────────────────────────────\n",
       "(Intercept)  -0.0098281   0.0690702    -0.14    0.8904  -0.169104   0.149448\n",
       "log_ksi      -1.83119     0.0112218  -163.18    <1e-14  -1.85707   -1.80531\n",
       "────────────────────────────────────────────────────────────────────────────, StatsModels.TableRegressionModel{LinearModel{GLM.LmResp{Vector{Float64}}, GLM.DensePredChol{Float64, LinearAlgebra.CholeskyPivoted{Float64, Matrix{Float64}, Vector{Int64}}}}, Matrix{Float64}}\n",
       "\n",
       "log_param ~ 1 + log_ksi\n",
       "\n",
       "Coefficients:\n",
       "────────────────────────────────────────────────────────────────────────────\n",
       "                  Coef.  Std. Error        t  Pr(>|t|)  Lower 95%  Upper 95%\n",
       "────────────────────────────────────────────────────────────────────────────\n",
       "(Intercept)   0.0638786   0.08325       0.77    0.4649  -0.128096   0.255854\n",
       "log_ksi      -1.84056     0.0135255  -136.08    <1e-14  -1.87175   -1.80937\n",
       "────────────────────────────────────────────────────────────────────────────  …  StatsModels.TableRegressionModel{LinearModel{GLM.LmResp{Vector{Float64}}, GLM.DensePredChol{Float64, LinearAlgebra.CholeskyPivoted{Float64, Matrix{Float64}, Vector{Int64}}}}, Matrix{Float64}}\n",
       "\n",
       "log_param ~ 1 + log_ksi\n",
       "\n",
       "Coefficients:\n",
       "───────────────────────────────────────────────────────────────────────────────\n",
       "                   Coef.  Std. Error      t  Pr(>|t|)    Lower 95%    Upper 95%\n",
       "───────────────────────────────────────────────────────────────────────────────\n",
       "(Intercept)  -1.24639e-5  3.06765e-6  -4.06    0.0036  -1.95379e-5  -5.38986e-6\n",
       "log_ksi       2.41572e-6  4.98399e-7   4.85    0.0013   1.26641e-6   3.56503e-6\n",
       "───────────────────────────────────────────────────────────────────────────────, StatsModels.TableRegressionModel{LinearModel{GLM.LmResp{Vector{Float64}}, GLM.DensePredChol{Float64, LinearAlgebra.CholeskyPivoted{Float64, Matrix{Float64}, Vector{Int64}}}}, Matrix{Float64}}\n",
       "\n",
       "log_param ~ 1 + log_ksi\n",
       "\n",
       "Coefficients:\n",
       "───────────────────────────────────────────────────────────────────────────────\n",
       "                   Coef.  Std. Error      t  Pr(>|t|)    Lower 95%    Upper 95%\n",
       "───────────────────────────────────────────────────────────────────────────────\n",
       "(Intercept)  -1.24632e-5  3.06676e-6  -4.06    0.0036  -1.95351e-5  -5.3912e-6\n",
       "log_ksi       2.4156e-6   4.98253e-7   4.85    0.0013   1.26663e-6   3.56457e-6\n",
       "───────────────────────────────────────────────────────────────────────────────, StatsModels.TableRegressionModel{LinearModel{GLM.LmResp{Vector{Float64}}, GLM.DensePredChol{Float64, LinearAlgebra.CholeskyPivoted{Float64, Matrix{Float64}, Vector{Int64}}}}, Matrix{Float64}}\n",
       "\n",
       "log_param ~ 1 + log_ksi\n",
       "\n",
       "Coefficients:\n",
       "───────────────────────────────────────────────────────────────────────────────\n",
       "                   Coef.  Std. Error      t  Pr(>|t|)    Lower 95%    Upper 95%\n",
       "───────────────────────────────────────────────────────────────────────────────\n",
       "(Intercept)  -1.24612e-5  3.06569e-6  -4.06    0.0036  -1.95307e-5  -5.39175e-6\n",
       "log_ksi       2.41525e-6  4.98079e-7   4.85    0.0013   1.26668e-6   3.56382e-6\n",
       "───────────────────────────────────────────────────────────────────────────────, StatsModels.TableRegressionModel{LinearModel{GLM.LmResp{Vector{Float64}}, GLM.DensePredChol{Float64, LinearAlgebra.CholeskyPivoted{Float64, Matrix{Float64}, Vector{Int64}}}}, Matrix{Float64}}\n",
       "\n",
       "log_param ~ 1 + log_ksi\n",
       "\n",
       "Coefficients:\n",
       "───────────────────────────────────────────────────────────────────────────────\n",
       "                   Coef.  Std. Error      t  Pr(>|t|)    Lower 95%    Upper 95%\n",
       "───────────────────────────────────────────────────────────────────────────────\n",
       "(Intercept)  -1.24635e-5  3.06668e-6  -4.06    0.0036  -1.95353e-5  -5.39173e-6\n",
       "log_ksi       2.41566e-6  4.9824e-7    4.85    0.0013   1.26671e-6   3.5646e-6\n",
       "───────────────────────────────────────────────────────────────────────────────, StatsModels.TableRegressionModel{LinearModel{GLM.LmResp{Vector{Float64}}, GLM.DensePredChol{Float64, LinearAlgebra.CholeskyPivoted{Float64, Matrix{Float64}, Vector{Int64}}}}, Matrix{Float64}}\n",
       "\n",
       "log_param ~ 1 + log_ksi\n",
       "\n",
       "Coefficients:\n",
       "───────────────────────────────────────────────────────────────────────────────\n",
       "                   Coef.  Std. Error      t  Pr(>|t|)    Lower 95%    Upper 95%\n",
       "───────────────────────────────────────────────────────────────────────────────\n",
       "(Intercept)  -1.24629e-5  3.06668e-6  -4.06    0.0036  -1.95347e-5  -5.39112e-6\n",
       "log_ksi       2.41554e-6  4.98241e-7   4.85    0.0013   1.2666e-6    3.56449e-6\n",
       "───────────────────────────────────────────────────────────────────────────────, StatsModels.TableRegressionModel{LinearModel{GLM.LmResp{Vector{Float64}}, GLM.DensePredChol{Float64, LinearAlgebra.CholeskyPivoted{Float64, Matrix{Float64}, Vector{Int64}}}}, Matrix{Float64}}\n",
       "\n",
       "log_param ~ 1 + log_ksi\n",
       "\n",
       "Coefficients:\n",
       "───────────────────────────────────────────────────────────────────────────────\n",
       "                   Coef.  Std. Error      t  Pr(>|t|)    Lower 95%    Upper 95%\n",
       "───────────────────────────────────────────────────────────────────────────────\n",
       "(Intercept)  -1.24631e-5  3.06696e-6  -4.06    0.0036  -1.95355e-5  -5.39069e-6\n",
       "log_ksi       2.41558e-6  4.98285e-7   4.85    0.0013   1.26653e-6   3.56462e-6\n",
       "───────────────────────────────────────────────────────────────────────────────, StatsModels.TableRegressionModel{LinearModel{GLM.LmResp{Vector{Float64}}, GLM.DensePredChol{Float64, LinearAlgebra.CholeskyPivoted{Float64, Matrix{Float64}, Vector{Int64}}}}, Matrix{Float64}}\n",
       "\n",
       "log_param ~ 1 + log_ksi\n",
       "\n",
       "Coefficients:\n",
       "───────────────────────────────────────────────────────────────────────────────\n",
       "                   Coef.  Std. Error      t  Pr(>|t|)    Lower 95%    Upper 95%\n",
       "───────────────────────────────────────────────────────────────────────────────\n",
       "(Intercept)  -1.24639e-5  3.06773e-6  -4.06    0.0036  -1.95381e-5  -5.38967e-6\n",
       "log_ksi       2.41571e-6  4.98411e-7   4.85    0.0013   1.26637e-6   3.56505e-6\n",
       "───────────────────────────────────────────────────────────────────────────────, StatsModels.TableRegressionModel{LinearModel{GLM.LmResp{Vector{Float64}}, GLM.DensePredChol{Float64, LinearAlgebra.CholeskyPivoted{Float64, Matrix{Float64}, Vector{Int64}}}}, Matrix{Float64}}\n",
       "\n",
       "log_param ~ 1 + log_ksi\n",
       "\n",
       "Coefficients:\n",
       "───────────────────────────────────────────────────────────────────────────────\n",
       "                   Coef.  Std. Error      t  Pr(>|t|)    Lower 95%    Upper 95%\n",
       "───────────────────────────────────────────────────────────────────────────────\n",
       "(Intercept)  -1.24616e-5  3.06594e-6  -4.06    0.0036  -1.95317e-5  -5.39156e-6\n",
       "log_ksi       2.41532e-6  4.9812e-7    4.85    0.0013   1.26665e-6   3.56398e-6\n",
       "───────────────────────────────────────────────────────────────────────────────, StatsModels.TableRegressionModel{LinearModel{GLM.LmResp{Vector{Float64}}, GLM.DensePredChol{Float64, LinearAlgebra.CholeskyPivoted{Float64, Matrix{Float64}, Vector{Int64}}}}, Matrix{Float64}}\n",
       "\n",
       "log_param ~ 1 + log_ksi\n",
       "\n",
       "Coefficients:\n",
       "───────────────────────────────────────────────────────────────────────────────\n",
       "                   Coef.  Std. Error      t  Pr(>|t|)    Lower 95%    Upper 95%\n",
       "───────────────────────────────────────────────────────────────────────────────\n",
       "(Intercept)  -1.24647e-5  3.06745e-6  -4.06    0.0036  -1.95383e-5  -5.39116e-6\n",
       "log_ksi       2.41589e-6  4.98366e-7   4.85    0.0013   1.26666e-6   3.56512e-6\n",
       "───────────────────────────────────────────────────────────────────────────────, StatsModels.TableRegressionModel{LinearModel{GLM.LmResp{Vector{Float64}}, GLM.DensePredChol{Float64, LinearAlgebra.CholeskyPivoted{Float64, Matrix{Float64}, Vector{Int64}}}}, Matrix{Float64}}\n",
       "\n",
       "log_param ~ 1 + log_ksi\n",
       "\n",
       "Coefficients:\n",
       "───────────────────────────────────────────────────────────────────────────────\n",
       "                   Coef.  Std. Error      t  Pr(>|t|)    Lower 95%    Upper 95%\n",
       "───────────────────────────────────────────────────────────────────────────────\n",
       "(Intercept)  -1.24638e-5  3.06714e-6  -4.06    0.0036  -1.95366e-5  -5.39095e-6\n",
       "log_ksi       2.41571e-6  4.98315e-7   4.85    0.0013   1.26659e-6   3.56483e-6\n",
       "───────────────────────────────────────────────────────────────────────────────], Any[1.8120145516573788e-6, -1.9595717025068944, -1.9116199378109524, -1.8608874718742643, -1.8232877174350455, -1.812171175494342, -1.815195566348067, -1.8230298387498114, -1.8311896448498142, -1.840555215616519  …  2.4157211167759465e-6, 2.415598993826348e-6, 2.4152495988083484e-6, 2.4156577249678804e-6, 2.4155424802901405e-6, 2.4155762281432976e-6, 2.415708973830095e-6, 2.415315542044742e-6, 2.4158899397062138e-6, 2.4157105640784346e-6])"
      ]
     },
     "metadata": {},
     "output_type": "display_data"
    }
   ],
   "source": [
    "r2_arr_P_triangular, model_arr_P_triangular, slope_arr_P_triangular = line_fitter(df_P_triangular, ksi_triangular)"
   ]
  },
  {
   "cell_type": "code",
   "execution_count": 24,
   "metadata": {},
   "outputs": [
    {
     "data": {
      "text/plain": [
       "\"c:\\\\Users\\\\jonas\\\\Documents\\\\Codespace\\\\TFY4235\\\\Numerical_Physics\\\\Project_Percolation\\\\figures\\\\FFS_P_R2_triangular.svg\""
      ]
     },
     "metadata": {},
     "output_type": "display_data"
    }
   ],
   "source": [
    "FSS_P_R2_triangular = plot(df_P_triangular.q, r2_arr_P_triangular, xlabel=\"q\", xticks=0:0.1:1, ylabel=L\"$R^2$-coefficient\", color=:green, legend=false)\n",
    "savefig(FSS_P_R2_triangular, \"figures/FFS_P_R2_triangular.svg\")"
   ]
  },
  {
   "cell_type": "code",
   "execution_count": 25,
   "metadata": {},
   "outputs": [
    {
     "name": "stdout",
     "output_type": "stream",
     "text": [
      "3462\n"
     ]
    },
    {
     "data": {
      "text/plain": [
       "\"c:\\\\Users\\\\jonas\\\\Documents\\\\Codespace\\\\TFY4235\\\\Numerical_Physics\\\\Project_Percolation\\\\figures\\\\FFS_P_R2_triangular_zoomed.svg\""
      ]
     },
     "metadata": {},
     "output_type": "display_data"
    }
   ],
   "source": [
    "i_start = 3400\n",
    "i_end = 3800\n",
    "best_index_P_triangular = i_start+argmax(r2_arr_P_triangular[i_start:i_end]) - 1 \n",
    "println(best_index_P_triangular)\n",
    "plot(df_P_triangular.q[i_start:i_end], r2_arr_P_triangular[i_start:i_end], xlabel=\"q\", xticks=0.3:0.005:0.4, yticks=0:0.1:1, ylabel=L\"$R^2$-coefficient\", color=:green, label=L\"Triangular: $R^2$\")\n",
    "vline!([df_P_triangular.q[best_index_P_triangular]], color=:red, linestyle=:dash, label=L\"$p_c$\")\n",
    "savefig(\"figures/FFS_P_R2_triangular_zoomed.svg\")"
   ]
  },
  {
   "cell_type": "code",
   "execution_count": 26,
   "metadata": {},
   "outputs": [
    {
     "name": "stdout",
     "output_type": "stream",
     "text": [
      "p_c: 0.3461346134613461\n"
     ]
    }
   ],
   "source": [
    "p_c_triangular = df_P_triangular.q[best_index_P_triangular]\n",
    "println(\"p_c: \", p_c_triangular)"
   ]
  },
  {
   "cell_type": "code",
   "execution_count": 27,
   "metadata": {},
   "outputs": [
    {
     "data": {
      "text/plain": [
       "StatsModels.TableRegressionModel{LinearModel{GLM.LmResp{Vector{Float64}}, GLM.DensePredChol{Float64, LinearAlgebra.CholeskyPivoted{Float64, Matrix{Float64}, Vector{Int64}}}}, Matrix{Float64}}\n",
       "\n",
       "log_param ~ 1 + log_ksi\n",
       "\n",
       "Coefficients:\n",
       "──────────────────────────────────────────────────────────────────────────\n",
       "                 Coef.  Std. Error       t  Pr(>|t|)  Lower 95%  Upper 95%\n",
       "──────────────────────────────────────────────────────────────────────────\n",
       "(Intercept)   0.374526   0.0745899    5.02    0.0010   0.202521   0.546531\n",
       "log_ksi      -0.196836   0.0121185  -16.24    <1e-06  -0.224781  -0.16889\n",
       "──────────────────────────────────────────────────────────────────────────"
      ]
     },
     "metadata": {},
     "output_type": "display_data"
    }
   ],
   "source": [
    "display(model_arr_P_triangular[best_index_P_triangular])"
   ]
  },
  {
   "cell_type": "code",
   "execution_count": 28,
   "metadata": {},
   "outputs": [
    {
     "data": {
      "text/plain": [
       "\"c:\\\\Users\\\\jonas\\\\Documents\\\\Codespace\\\\TFY4235\\\\Numerical_Physics\\\\Project_Percolation\\\\figures\\\\FSS_s_triangular.svg\""
      ]
     },
     "metadata": {},
     "output_type": "display_data"
    }
   ],
   "source": [
    "# Average cluster size, <s>\n",
    "FSS_s_triangular = plot(df_10_000_triangular.q[3000:3800], df_10_000_triangular.average_cluster_size[3000:3800], xlabel=\"q\", xticks=(0:0.01:1.0), ylabel=L\"\\langle s\\rangle\", label=\"N=10_000\", legend=:topright)\n",
    "plot!(FSS_s_triangular,df_40_000_triangular.q[3000:3800], df_40_000_triangular.average_cluster_size[3000:3800], xlabel=\"q\", xticks=(0:0.01:1.0), ylabel=L\"\\langle s\\rangle\", label=\"N=40_000\")\n",
    "plot!(FSS_s_triangular,df_90_000_triangular.q[3000:3800], df_90_000_triangular.average_cluster_size[3000:3800], xlabel=\"q\", xticks=(0:0.01:1.0), ylabel=L\"\\langle s\\rangle\", label=\"N=90_000\")\n",
    "plot!(FSS_s_triangular,df_160_000_triangular.q[3000:3800], df_160_000_triangular.average_cluster_size[3000:3800], xlabel=\"q\", xticks=(0:0.01:1.0), ylabel=L\"\\langle s\\rangle\", label=\"N=160_000\")\n",
    "plot!(FSS_s_triangular,df_250_000_triangular.q[3000:3800], df_250_000_triangular.average_cluster_size[3000:3800], xlabel=\"q\", xticks=(0:0.01:1.0), ylabel=L\"\\langle s\\rangle\", label=\"N=250_000\")\n",
    "plot!(FSS_s_triangular,df_360_000_triangular.q[3000:3800], df_360_000_triangular.average_cluster_size[3000:3800], xlabel=\"q\", xticks=(0:0.01:1.0), ylabel=L\"\\langle s\\rangle\", label=\"N=360_000\")\n",
    "plot!(FSS_s_triangular,df_490_000_triangular.q[3000:3800], df_490_000_triangular.average_cluster_size[3000:3800], xlabel=\"q\", xticks=(0:0.01:1.0), ylabel=L\"\\langle s\\rangle\", label=\"N=490_000\")\n",
    "plot!(FSS_s_triangular,df_640_000_triangular.q[3000:3800], df_640_000_triangular.average_cluster_size[3000:3800], xlabel=\"q\", xticks=(0:0.01:1.0), ylabel=L\"\\langle s\\rangle\", label=\"N=640_000\")\n",
    "plot!(FSS_s_triangular,df_810_000_triangular.q[3000:3800], df_810_000_triangular.average_cluster_size[3000:3800], xlabel=\"q\", xticks=(0:0.01:1.0), ylabel=L\"\\langle s\\rangle\", label=\"N=810_000\")\n",
    "plot!(FSS_s_triangular,df_1_000_000_triangular.q[3000:3800], df_1_000_000_triangular.average_cluster_size[3000:3800], xlabel=\"q\", xticks=(0:0.01:1.0), ylabel=L\"\\langle s\\rangle\", label=\"N=1_000_000\")\n",
    "savefig(FSS_s_triangular, \"figures/FSS_s_triangular.svg\")"
   ]
  },
  {
   "cell_type": "code",
   "execution_count": 35,
   "metadata": {},
   "outputs": [
    {
     "data": {
      "text/html": [
       "<div><div style = \"float: left;\"><span>10×2 DataFrame</span></div><div style = \"clear: both;\"></div></div><div class = \"data-frame\" style = \"overflow-x: scroll;\"><table class = \"data-frame\" style = \"margin-bottom: 6px;\"><thead><tr class = \"header\"><th class = \"rowNumber\" style = \"font-weight: bold; text-align: right;\">Row</th><th style = \"text-align: left;\">ksi</th><th style = \"text-align: left;\">max_s</th></tr><tr class = \"subheader headerLastRow\"><th class = \"rowNumber\" style = \"font-weight: bold; text-align: right;\"></th><th title = \"Int64\" style = \"text-align: left;\">Int64</th><th title = \"Float64\" style = \"text-align: left;\">Float64</th></tr></thead><tbody><tr><td class = \"rowNumber\" style = \"font-weight: bold; text-align: right;\">1</td><td style = \"text-align: right;\">100</td><td style = \"text-align: right;\">302.113</td></tr><tr><td class = \"rowNumber\" style = \"font-weight: bold; text-align: right;\">2</td><td style = \"text-align: right;\">200</td><td style = \"text-align: right;\">1041.79</td></tr><tr><td class = \"rowNumber\" style = \"font-weight: bold; text-align: right;\">3</td><td style = \"text-align: right;\">300</td><td style = \"text-align: right;\">2272.75</td></tr><tr><td class = \"rowNumber\" style = \"font-weight: bold; text-align: right;\">4</td><td style = \"text-align: right;\">400</td><td style = \"text-align: right;\">3421.93</td></tr><tr><td class = \"rowNumber\" style = \"font-weight: bold; text-align: right;\">5</td><td style = \"text-align: right;\">500</td><td style = \"text-align: right;\">5577.58</td></tr><tr><td class = \"rowNumber\" style = \"font-weight: bold; text-align: right;\">6</td><td style = \"text-align: right;\">600</td><td style = \"text-align: right;\">6668.53</td></tr><tr><td class = \"rowNumber\" style = \"font-weight: bold; text-align: right;\">7</td><td style = \"text-align: right;\">700</td><td style = \"text-align: right;\">9695.59</td></tr><tr><td class = \"rowNumber\" style = \"font-weight: bold; text-align: right;\">8</td><td style = \"text-align: right;\">800</td><td style = \"text-align: right;\">11867.5</td></tr><tr><td class = \"rowNumber\" style = \"font-weight: bold; text-align: right;\">9</td><td style = \"text-align: right;\">900</td><td style = \"text-align: right;\">13868.2</td></tr><tr><td class = \"rowNumber\" style = \"font-weight: bold; text-align: right;\">10</td><td style = \"text-align: right;\">1000</td><td style = \"text-align: right;\">16039.1</td></tr></tbody></table></div>"
      ],
      "text/latex": [
       "\\begin{tabular}{r|cc}\n",
       "\t& ksi & max\\_s\\\\\n",
       "\t\\hline\n",
       "\t& Int64 & Float64\\\\\n",
       "\t\\hline\n",
       "\t1 & 100 & 302.113 \\\\\n",
       "\t2 & 200 & 1041.79 \\\\\n",
       "\t3 & 300 & 2272.75 \\\\\n",
       "\t4 & 400 & 3421.93 \\\\\n",
       "\t5 & 500 & 5577.58 \\\\\n",
       "\t6 & 600 & 6668.53 \\\\\n",
       "\t7 & 700 & 9695.59 \\\\\n",
       "\t8 & 800 & 11867.5 \\\\\n",
       "\t9 & 900 & 13868.2 \\\\\n",
       "\t10 & 1000 & 16039.1 \\\\\n",
       "\\end{tabular}\n"
      ],
      "text/plain": [
       "\u001b[1m10×2 DataFrame\u001b[0m\n",
       "\u001b[1m Row \u001b[0m│\u001b[1m ksi   \u001b[0m\u001b[1m max_s     \u001b[0m\n",
       "     │\u001b[90m Int64 \u001b[0m\u001b[90m Float64   \u001b[0m\n",
       "─────┼──────────────────\n",
       "   1 │   100    302.113\n",
       "   2 │   200   1041.79\n",
       "   3 │   300   2272.75\n",
       "   4 │   400   3421.93\n",
       "   5 │   500   5577.58\n",
       "   6 │   600   6668.53\n",
       "   7 │   700   9695.59\n",
       "   8 │   800  11867.5\n",
       "   9 │   900  13868.2\n",
       "  10 │  1000  16039.1"
      ]
     },
     "metadata": {},
     "output_type": "display_data"
    },
    {
     "name": "stdout",
     "output_type": "stream",
     "text": [
      "[302.1131229509579, 1041.7914603275783, 2272.75163757948, 3421.9318032661417, 5577.575710426174, 6668.526215506095, 9695.59489912522, 11867.523720728574, 13868.170360653847, 16039.143425476692]\n"
     ]
    }
   ],
   "source": [
    "df_s_triangular = DataFrame(q = df_10_000_triangular.q)  # Initialize with q values (common for all N)\n",
    "df_s_triangular[!, \"s_ksi_$(ksi_triangular[1])\"] = df_10_000_triangular.average_cluster_size\n",
    "df_s_triangular[!, \"s_ksi_$(ksi_triangular[2])\"] = df_40_000_triangular.average_cluster_size\n",
    "df_s_triangular[!, \"s_ksi_$(ksi_triangular[3])\"] = df_90_000_triangular.average_cluster_size\n",
    "df_s_triangular[!, \"s_ksi_$(ksi_triangular[4])\"] = df_160_000_triangular.average_cluster_size\n",
    "df_s_triangular[!, \"s_ksi_$(ksi_triangular[5])\"] = df_250_000_triangular.average_cluster_size\n",
    "df_s_triangular[!, \"s_ksi_$(ksi_triangular[6])\"] = df_360_000_triangular.average_cluster_size\n",
    "df_s_triangular[!, \"s_ksi_$(ksi_triangular[7])\"] = df_490_000_triangular.average_cluster_size\n",
    "df_s_triangular[!, \"s_ksi_$(ksi_triangular[8])\"] = df_640_000_triangular.average_cluster_size\n",
    "df_s_triangular[!, \"s_ksi_$(ksi_triangular[9])\"] = df_810_000_triangular.average_cluster_size\n",
    "df_s_triangular[!, \"s_ksi_$(ksi_triangular[10])\"] = df_1_000_000_triangular.average_cluster_size\n",
    "\n",
    "# df_s_triangular = df_s_triangular[2:end-1, :]  # Remove NaN in the first row\n",
    "\n",
    "max_vec = zeros(length(ksi_triangular))\n",
    "for i in 1:length(ksi_triangular)\n",
    "    max_vec[i] = maximum(df_s_triangular[!, \"s_ksi_$(ksi[i])\"])\n",
    "end\n",
    "println(max_vec)\n",
    "df_sm_triangular = DataFrame(ksi=ksi_triangular)  # Initialize with q values (common for all N)\n",
    "df_sm_triangular[!, \"max_s\"] = max_vec\n",
    "\n",
    "display(df_sm_triangular)"
   ]
  },
  {
   "cell_type": "code",
   "execution_count": 36,
   "metadata": {},
   "outputs": [
    {
     "data": {
      "text/plain": [
       "StatsModels.TableRegressionModel{LinearModel{GLM.LmResp{Vector{Float64}}, GLM.DensePredChol{Float64, LinearAlgebra.CholeskyPivoted{Float64, Matrix{Float64}, Vector{Int64}}}}, Matrix{Float64}}\n",
       "\n",
       ":(log(max_s)) ~ 1 + :(log(ksi))\n",
       "\n",
       "Coefficients:\n",
       "─────────────────────────────────────────────────────────────────────────\n",
       "                Coef.  Std. Error       t  Pr(>|t|)  Lower 95%  Upper 95%\n",
       "─────────────────────────────────────────────────────────────────────────\n",
       "(Intercept)  -2.2345    0.156002   -14.32    <1e-06   -2.59424   -1.87476\n",
       "log(ksi)      1.73464   0.0253454   68.44    <1e-11    1.6762     1.79309\n",
       "─────────────────────────────────────────────────────────────────────────"
      ]
     },
     "metadata": {},
     "output_type": "display_data"
    },
    {
     "name": "stdout",
     "output_type": "stream",
     "text": [
      "0.9982949869455814\n"
     ]
    }
   ],
   "source": [
    "model_sm_triangular = lm(@formula(log(max_s) ~ log(ksi) ), df_sm_triangular)\n",
    "println(r2(model_sm_triangular))\n",
    "display(model_sm_triangular)"
   ]
  },
  {
   "cell_type": "code",
   "execution_count": 37,
   "metadata": {},
   "outputs": [
    {
     "data": {
      "text/plain": [
       "\"c:\\\\Users\\\\jonas\\\\Documents\\\\Codespace\\\\TFY4235\\\\Numerical_Physics\\\\Project_Percolation\\\\figures\\\\FSS_sm_triangular.svg\""
      ]
     },
     "metadata": {},
     "output_type": "display_data"
    }
   ],
   "source": [
    "FSS_sm_triangular = scatter(log.(df_sm_triangular.ksi), log.(df_sm_triangular.max_s), xlabel=L\"log(\\xi)\", ylabel=L\"log(max(\\langle s \\rangle))\", color=:green, label=L\"Triangular: $max(\\langle s \\rangle)$\")\n",
    "plot!(FSS_sm_triangular, log.(df_sm_triangular.ksi), predict(model_sm_triangular), color=:red, label=\"Best fit\")\n",
    "annotate!(FSS_sm_triangular, 4.9, 8.95, text(\"R^2: $(round(r2(model_sm_triangular),digits=4))\",8))\n",
    "savefig(FSS_sm_triangular, \"figures/FSS_sm_triangular.svg\")"
   ]
  },
  {
   "cell_type": "code",
   "execution_count": 38,
   "metadata": {},
   "outputs": [],
   "source": [
    "# i_start = 3000\n",
    "# i_end = 4000\n",
    "# best_index_s_triangular = i_start+argmax(r2_arr_s[i_start:i_end])\n",
    "# println(best_index_s_triangular)\n",
    "# plot(df_s_triangular.q[i_start:i_end], r2_arr_s_triangular[i_start:i_end], xlabel=\"q\", xticks=0.3:0.01:0.4, ylabel=L\"$R^2$-coefficient\", color=:green, label=L\"$R^2$\", legend=:topright)\n",
    "# vline!([df_s_triangular.q[best_index_s_triangular]], color=:red, linestyle=:dash, label=L\"$p_c$\")"
   ]
  },
  {
   "cell_type": "code",
   "execution_count": 39,
   "metadata": {},
   "outputs": [],
   "source": [
    "# display(model_arr_s_triangular[best_index_s_triangular])"
   ]
  },
  {
   "cell_type": "code",
   "execution_count": 40,
   "metadata": {},
   "outputs": [
    {
     "data": {
      "text/plain": [
       "\"c:\\\\Users\\\\jonas\\\\Documents\\\\Codespace\\\\TFY4235\\\\Numerical_Physics\\\\Project_Percolation\\\\figures\\\\FSS_chi_triangular.svg\""
      ]
     },
     "metadata": {},
     "output_type": "display_data"
    }
   ],
   "source": [
    "# Susceptibility, chi\n",
    "\n",
    "FSS_chi_triangular = plot(df_10_000_triangular.q[3000:4000], df_10_000_triangular.chi[3000:4000], xlabel=\"q\", xticks=(0:0.01:1.0), ylabel=L\"\\chi\", label=\"N=10_000\", legend=:topright)\n",
    "plot!(FSS_chi_triangular, df_40_000_triangular.q[3000:4000], df_40_000_triangular.chi[3000:4000], xlabel=\"q\", xticks=(0:0.01:1.0), ylabel=L\"\\chi\", label=\"N=40_000\")\n",
    "plot!(FSS_chi_triangular,df_90_000_triangular.q[3000:4000], df_90_000_triangular.chi[3000:4000], xlabel=\"q\", xticks=(0:0.01:1.0), ylabel=L\"\\chi\", label=\"N=90_000\")\n",
    "plot!(FSS_chi_triangular,df_160_000_triangular.q[3000:4000], df_160_000_triangular.chi[3000:4000], xlabel=\"q\", xticks=(0:0.01:1.0), ylabel=L\"\\chi\", label=\"N=160_000\")\n",
    "plot!(FSS_chi_triangular,df_250_000_triangular.q[3000:4000], df_250_000_triangular.chi[3000:4000], xlabel=\"q\", xticks=(0:0.01:1.0), ylabel=L\"\\chi\", label=\"N=250_000\")\n",
    "plot!(FSS_chi_triangular,df_360_000_triangular.q[3000:4000], df_360_000_triangular.chi[3000:4000], xlabel=\"q\", xticks=(0:0.01:1.0), ylabel=L\"\\chi\", label=\"N=360_000\")\n",
    "plot!(FSS_chi_triangular,df_490_000_triangular.q[3000:4000], df_490_000_triangular.chi[3000:4000], xlabel=\"q\", xticks=(0:0.01:1.0), ylabel=L\"\\chi\", label=\"N=490_000\")\n",
    "plot!(FSS_chi_triangular,df_640_000_triangular.q[3000:4000], df_640_000_triangular.chi[3000:4000], xlabel=\"q\", xticks=(0:0.01:1.0), ylabel=L\"\\chi\", label=\"N=640_000\")\n",
    "plot!(FSS_chi_triangular,df_810_000_triangular.q[3000:4000], df_810_000_triangular.chi[3000:4000], xlabel=\"q\", xticks=(0:0.01:1.0), ylabel=L\"\\chi\", label=\"N=810_000\")\n",
    "plot!(FSS_chi_triangular,df_1_000_000_triangular.q[3000:4000], df_1_000_000_triangular.chi[3000:4000], xlabel=\"q\", xticks=(0:0.01:1.0), ylabel=L\"\\chi\", label=\"N=1_000_000\")\n",
    "savefig(FSS_chi_triangular, \"figures/FSS_chi_triangular.svg\")"
   ]
  },
  {
   "cell_type": "code",
   "execution_count": 41,
   "metadata": {},
   "outputs": [
    {
     "data": {
      "text/html": [
       "<div><div style = \"float: left;\"><span>10×2 DataFrame</span></div><div style = \"clear: both;\"></div></div><div class = \"data-frame\" style = \"overflow-x: scroll;\"><table class = \"data-frame\" style = \"margin-bottom: 6px;\"><thead><tr class = \"header\"><th class = \"rowNumber\" style = \"font-weight: bold; text-align: right;\">Row</th><th style = \"text-align: left;\">ksi</th><th style = \"text-align: left;\">q_max</th></tr><tr class = \"subheader headerLastRow\"><th class = \"rowNumber\" style = \"font-weight: bold; text-align: right;\"></th><th title = \"Int64\" style = \"text-align: left;\">Int64</th><th title = \"Float64\" style = \"text-align: left;\">Float64</th></tr></thead><tbody><tr><td class = \"rowNumber\" style = \"font-weight: bold; text-align: right;\">1</td><td style = \"text-align: right;\">100</td><td style = \"text-align: right;\">0.0133013</td></tr><tr><td class = \"rowNumber\" style = \"font-weight: bold; text-align: right;\">2</td><td style = \"text-align: right;\">200</td><td style = \"text-align: right;\">0.00660066</td></tr><tr><td class = \"rowNumber\" style = \"font-weight: bold; text-align: right;\">3</td><td style = \"text-align: right;\">300</td><td style = \"text-align: right;\">0.00370037</td></tr><tr><td class = \"rowNumber\" style = \"font-weight: bold; text-align: right;\">4</td><td style = \"text-align: right;\">400</td><td style = \"text-align: right;\">0.00190019</td></tr><tr><td class = \"rowNumber\" style = \"font-weight: bold; text-align: right;\">5</td><td style = \"text-align: right;\">500</td><td style = \"text-align: right;\">0.00180018</td></tr><tr><td class = \"rowNumber\" style = \"font-weight: bold; text-align: right;\">6</td><td style = \"text-align: right;\">600</td><td style = \"text-align: right;\">0.00130013</td></tr><tr><td class = \"rowNumber\" style = \"font-weight: bold; text-align: right;\">7</td><td style = \"text-align: right;\">700</td><td style = \"text-align: right;\">0.0010001</td></tr><tr><td class = \"rowNumber\" style = \"font-weight: bold; text-align: right;\">8</td><td style = \"text-align: right;\">800</td><td style = \"text-align: right;\">0.00120012</td></tr><tr><td class = \"rowNumber\" style = \"font-weight: bold; text-align: right;\">9</td><td style = \"text-align: right;\">900</td><td style = \"text-align: right;\">0.00210021</td></tr><tr><td class = \"rowNumber\" style = \"font-weight: bold; text-align: right;\">10</td><td style = \"text-align: right;\">1000</td><td style = \"text-align: right;\">0.00070007</td></tr></tbody></table></div>"
      ],
      "text/latex": [
       "\\begin{tabular}{r|cc}\n",
       "\t& ksi & q\\_max\\\\\n",
       "\t\\hline\n",
       "\t& Int64 & Float64\\\\\n",
       "\t\\hline\n",
       "\t1 & 100 & 0.0133013 \\\\\n",
       "\t2 & 200 & 0.00660066 \\\\\n",
       "\t3 & 300 & 0.00370037 \\\\\n",
       "\t4 & 400 & 0.00190019 \\\\\n",
       "\t5 & 500 & 0.00180018 \\\\\n",
       "\t6 & 600 & 0.00130013 \\\\\n",
       "\t7 & 700 & 0.0010001 \\\\\n",
       "\t8 & 800 & 0.00120012 \\\\\n",
       "\t9 & 900 & 0.00210021 \\\\\n",
       "\t10 & 1000 & 0.00070007 \\\\\n",
       "\\end{tabular}\n"
      ],
      "text/plain": [
       "\u001b[1m10×2 DataFrame\u001b[0m\n",
       "\u001b[1m Row \u001b[0m│\u001b[1m ksi   \u001b[0m\u001b[1m q_max      \u001b[0m\n",
       "     │\u001b[90m Int64 \u001b[0m\u001b[90m Float64    \u001b[0m\n",
       "─────┼───────────────────\n",
       "   1 │   100  0.0133013\n",
       "   2 │   200  0.00660066\n",
       "   3 │   300  0.00370037\n",
       "   4 │   400  0.00190019\n",
       "   5 │   500  0.00180018\n",
       "   6 │   600  0.00130013\n",
       "   7 │   700  0.0010001\n",
       "   8 │   800  0.00120012\n",
       "   9 │   900  0.00210021\n",
       "  10 │  1000  0.00070007"
      ]
     },
     "metadata": {},
     "output_type": "display_data"
    },
    {
     "name": "stdout",
     "output_type": "stream",
     "text": [
      "[0.33283328332833284, 0.33953395339533954, 0.3424342434243424, 0.34423442344234423, 0.34433443344334436, 0.34483448344834483, 0.34513451345134516, 0.34493449344934496, 0.344034403440344, 0.34543454345434543]\n"
     ]
    }
   ],
   "source": [
    "q_max = zeros(length(ksi_triangular))\n",
    "for i in 1:length(ksi_triangular)\n",
    "    q_max[i] = df_s_triangular.q[argmax(df_s_triangular[!, \"s_ksi_$(ksi[i])\"])]\n",
    "end\n",
    "println(q_max)\n",
    "\n",
    "\n",
    "df_max_triangular = DataFrame(ksi=ksi_triangular)  # Initialize with q values (common for all N)\n",
    "df_max_triangular[!, \"q_max\"] = abs.(q_max.- p_c_triangular)\n",
    "display(df_max_triangular)\n",
    "# r2_arr_max_triangular, model_arr_max_triangular, slope_arr_max_triangular = line_fitter(df_max_triangular, ksi)\n"
   ]
  },
  {
   "cell_type": "code",
   "execution_count": 42,
   "metadata": {},
   "outputs": [
    {
     "data": {
      "text/plain": [
       "StatsModels.TableRegressionModel{LinearModel{GLM.LmResp{Vector{Float64}}, GLM.DensePredChol{Float64, LinearAlgebra.CholeskyPivoted{Float64, Matrix{Float64}, Vector{Int64}}}}, Matrix{Float64}}\n",
       "\n",
       ":(log(q_max)) ~ 1 + :(log(ksi))\n",
       "\n",
       "Coefficients:\n",
       "─────────────────────────────────────────────────────────────────────────\n",
       "                 Coef.  Std. Error      t  Pr(>|t|)  Lower 95%  Upper 95%\n",
       "─────────────────────────────────────────────────────────────────────────\n",
       "(Intercept)   0.966983    0.915178   1.06    0.3216   -1.14342   3.07739\n",
       "log(ksi)     -1.15939     0.148688  -7.80    <1e-04   -1.50226  -0.816512\n",
       "─────────────────────────────────────────────────────────────────────────"
      ]
     },
     "metadata": {},
     "output_type": "display_data"
    },
    {
     "name": "stdout",
     "output_type": "stream",
     "text": [
      "0.8837212197659398\n"
     ]
    }
   ],
   "source": [
    "model_max_triangular = lm(@formula(log(q_max) ~ log(ksi) ), df_max_triangular)\n",
    "println(r2(model_max_triangular))\n",
    "display(model_max_triangular)"
   ]
  },
  {
   "cell_type": "code",
   "execution_count": 50,
   "metadata": {},
   "outputs": [
    {
     "data": {
      "text/plain": [
       "\"c:\\\\Users\\\\jonas\\\\Documents\\\\Codespace\\\\TFY4235\\\\Numerical_Physics\\\\Project_Percolation\\\\figures\\\\FSS_max_triangular.svg\""
      ]
     },
     "metadata": {},
     "output_type": "display_data"
    }
   ],
   "source": [
    "FSS_max_triangular = scatter(log.(ksi_triangular), log.(df_max_triangular.q_max), xlabel=L\"log(\\xi)\", ylabel=L\"\\left|q_{max}-p_c\\right|\",color=:green, label=\"Triangular: q_max\",legend=:topright)\n",
    "plot!(FSS_max_triangular, log.(ksi_triangular), predict(model_max_triangular), color=:red, label=\"Best fit\")\n",
    "annotate!(FSS_max_triangular, 6.55, -4.73, text(\"R^2: $(round(r2(model_max_triangular),digits=4))\",8))\n",
    "savefig(FSS_max_triangular, \"figures/FSS_max_triangular.svg\")"
   ]
  },
  {
   "cell_type": "code",
   "execution_count": 51,
   "metadata": {},
   "outputs": [
    {
     "name": "stdout",
     "output_type": "stream",
     "text": [
      "-0.2247811460731491 -0.1688903188588484 1.6761953080308374 1.7930885302484738 -1.5022627097425922 -0.8165120371665132\n"
     ]
    }
   ],
   "source": [
    "# Upper and lower bounds\n",
    "# Upper and lower bounds\n",
    "\n",
    "lower_P_triangular = coeftable(model_arr_P_triangular[best_index_P_triangular]).cols[5][2]\n",
    "upper_P_triangular = coeftable(model_arr_P_triangular[best_index_P_triangular]).cols[6][2]\n",
    "\n",
    "lower_s_triangular = coeftable(model_sm_triangular).cols[5][2]\n",
    "upper_s_triangular = coeftable(model_sm_triangular).cols[6][2]\n",
    "\n",
    "lower_max_triangular = coeftable(model_max_triangular).cols[5][2]\n",
    "upper_max_triangular = coeftable(model_max_triangular).cols[6][2]\n",
    "\n",
    "println(lower_P_triangular, \" \", upper_P_triangular, \" \", lower_s_triangular, \" \", upper_s_triangular, \" \", lower_max_triangular, \" \", upper_max_triangular)"
   ]
  },
  {
   "cell_type": "code",
   "execution_count": 52,
   "metadata": {},
   "outputs": [
    {
     "name": "stdout",
     "output_type": "stream",
     "text": [
      "Numerical: nu = 0.8625244874112814, gamma = 1.4961711321480529, beta = 0.1697756392494597\n",
      "Analytical: nu = 1.3333333333333333, gamma = 2.388888888888889, beta = 0.1388888888888889\n"
     ]
    }
   ],
   "source": [
    "nu_triangular = - 1 / coef(model_max_triangular)[2]\n",
    "gamma_triangular = nu_triangular*coef(model_sm_triangular)[2]\n",
    "beta_triangular = -nu_triangular*slope_arr_P_triangular[best_index_P_triangular]\n",
    "println(\"Numerical: nu = $(nu_triangular), gamma = $(gamma_triangular), beta = $(beta_triangular)\")\n",
    "println(\"Analytical: nu = $(4/3), gamma = $(43/18), beta = $(5/36)\")"
   ]
  },
  {
   "cell_type": "code",
   "execution_count": 49,
   "metadata": {},
   "outputs": [
    {
     "name": "stdout",
     "output_type": "stream",
     "text": [
      "nu in [0.6656625326014693, 1.2247216874722786]\n",
      "gamma in [1.1157804138785072, 2.1960344105530987]\n",
      "beta in [0.11242395738345072, 0.27529434453065993]\n"
     ]
    }
   ],
   "source": [
    "nu_upper_triangular = - 1 / upper_max_triangular\n",
    "nu_lower_triangular = - 1 / lower_max_triangular\n",
    "\n",
    "gamma_upper_triangular = nu_upper_triangular*upper_s_triangular\n",
    "gamma_lower_triangular = nu_lower_triangular*lower_s_triangular\n",
    "\n",
    "beta_upper_triangular = -nu_upper_triangular*lower_P_triangular\n",
    "beta_lower_triangular = -nu_lower_triangular*upper_P_triangular\n",
    "\n",
    "println(\"nu in [$(nu_lower_triangular), $(nu_upper_triangular)]\")\n",
    "println(\"gamma in [$(gamma_lower_triangular), $(gamma_upper_triangular)]\")\n",
    "println(\"beta in [$(beta_lower_triangular), $(beta_upper_triangular)]\")"
   ]
  },
  {
   "cell_type": "markdown",
   "metadata": {},
   "source": [
    "### Honeycomb"
   ]
  },
  {
   "cell_type": "code",
   "execution_count": 53,
   "metadata": {},
   "outputs": [
    {
     "data": {
      "text/html": [
       "<div><div style = \"float: left;\"><span>10000×4 DataFrame</span></div><div style = \"float: right;\"><span style = \"font-style: italic;\">9975 rows omitted</span></div><div style = \"clear: both;\"></div></div><div class = \"data-frame\" style = \"overflow-x: scroll;\"><table class = \"data-frame\" style = \"margin-bottom: 6px;\"><thead><tr class = \"header\"><th class = \"rowNumber\" style = \"font-weight: bold; text-align: right;\">Row</th><th style = \"text-align: left;\">q</th><th style = \"text-align: left;\">P</th><th style = \"text-align: left;\">chi</th><th style = \"text-align: left;\">average_cluster_size</th></tr><tr class = \"subheader headerLastRow\"><th class = \"rowNumber\" style = \"font-weight: bold; text-align: right;\"></th><th title = \"Float64\" style = \"text-align: left;\">Float64</th><th title = \"Float64\" style = \"text-align: left;\">Float64</th><th title = \"Float64\" style = \"text-align: left;\">Float64</th><th title = \"Float64\" style = \"text-align: left;\">Float64</th></tr></thead><tbody><tr><td class = \"rowNumber\" style = \"font-weight: bold; text-align: right;\">1</td><td style = \"text-align: right;\">0.0</td><td style = \"text-align: right;\">3.00001e-12</td><td style = \"text-align: right;\">0.00244949</td><td style = \"text-align: right;\">1.0</td></tr><tr><td class = \"rowNumber\" style = \"font-weight: bold; text-align: right;\">2</td><td style = \"text-align: right;\">0.00010001</td><td style = \"text-align: right;\">2.03075e-6</td><td style = \"text-align: right;\">0.172574</td><td style = \"text-align: right;\">1.0003</td></tr><tr><td class = \"rowNumber\" style = \"font-weight: bold; text-align: right;\">3</td><td style = \"text-align: right;\">0.00020002</td><td style = \"text-align: right;\">2.14887e-6</td><td style = \"text-align: right;\">0.355934</td><td style = \"text-align: right;\">1.0006</td></tr><tr><td class = \"rowNumber\" style = \"font-weight: bold; text-align: right;\">4</td><td style = \"text-align: right;\">0.00030003</td><td style = \"text-align: right;\">2.25426e-6</td><td style = \"text-align: right;\">0.435425</td><td style = \"text-align: right;\">1.0009</td></tr><tr><td class = \"rowNumber\" style = \"font-weight: bold; text-align: right;\">5</td><td style = \"text-align: right;\">0.00040004</td><td style = \"text-align: right;\">2.43486e-6</td><td style = \"text-align: right;\">0.495721</td><td style = \"text-align: right;\">1.0012</td></tr><tr><td class = \"rowNumber\" style = \"font-weight: bold; text-align: right;\">6</td><td style = \"text-align: right;\">0.00050005</td><td style = \"text-align: right;\">2.58883e-6</td><td style = \"text-align: right;\">0.492028</td><td style = \"text-align: right;\">1.0015</td></tr><tr><td class = \"rowNumber\" style = \"font-weight: bold; text-align: right;\">7</td><td style = \"text-align: right;\">0.00060006</td><td style = \"text-align: right;\">2.71965e-6</td><td style = \"text-align: right;\">0.467258</td><td style = \"text-align: right;\">1.0018</td></tr><tr><td class = \"rowNumber\" style = \"font-weight: bold; text-align: right;\">8</td><td style = \"text-align: right;\">0.00070007</td><td style = \"text-align: right;\">2.82172e-6</td><td style = \"text-align: right;\">0.408034</td><td style = \"text-align: right;\">1.0021</td></tr><tr><td class = \"rowNumber\" style = \"font-weight: bold; text-align: right;\">9</td><td style = \"text-align: right;\">0.00080008</td><td style = \"text-align: right;\">2.87637e-6</td><td style = \"text-align: right;\">0.3823</td><td style = \"text-align: right;\">1.0024</td></tr><tr><td class = \"rowNumber\" style = \"font-weight: bold; text-align: right;\">10</td><td style = \"text-align: right;\">0.00090009</td><td style = \"text-align: right;\">2.9185e-6</td><td style = \"text-align: right;\">0.338878</td><td style = \"text-align: right;\">1.0027</td></tr><tr><td class = \"rowNumber\" style = \"font-weight: bold; text-align: right;\">11</td><td style = \"text-align: right;\">0.0010001</td><td style = \"text-align: right;\">2.95989e-6</td><td style = \"text-align: right;\">0.280147</td><td style = \"text-align: right;\">1.003</td></tr><tr><td class = \"rowNumber\" style = \"font-weight: bold; text-align: right;\">12</td><td style = \"text-align: right;\">0.00110011</td><td style = \"text-align: right;\">2.98988e-6</td><td style = \"text-align: right;\">0.223781</td><td style = \"text-align: right;\">1.00331</td></tr><tr><td class = \"rowNumber\" style = \"font-weight: bold; text-align: right;\">13</td><td style = \"text-align: right;\">0.00120012</td><td style = \"text-align: right;\">3.00844e-6</td><td style = \"text-align: right;\">0.219314</td><td style = \"text-align: right;\">1.00361</td></tr><tr><td style = \"text-align: right;\">&vellip;</td><td style = \"text-align: right;\">&vellip;</td><td style = \"text-align: right;\">&vellip;</td><td style = \"text-align: right;\">&vellip;</td><td style = \"text-align: right;\">&vellip;</td></tr><tr><td class = \"rowNumber\" style = \"font-weight: bold; text-align: right;\">9989</td><td style = \"text-align: right;\">0.9989</td><td style = \"text-align: right;\">1.0</td><td style = \"text-align: right;\">0.0</td><td style = \"text-align: right;\">0.0</td></tr><tr><td class = \"rowNumber\" style = \"font-weight: bold; text-align: right;\">9990</td><td style = \"text-align: right;\">0.999</td><td style = \"text-align: right;\">1.0</td><td style = \"text-align: right;\">0.0</td><td style = \"text-align: right;\">0.0</td></tr><tr><td class = \"rowNumber\" style = \"font-weight: bold; text-align: right;\">9991</td><td style = \"text-align: right;\">0.9991</td><td style = \"text-align: right;\">1.0</td><td style = \"text-align: right;\">0.0</td><td style = \"text-align: right;\">0.0</td></tr><tr><td class = \"rowNumber\" style = \"font-weight: bold; text-align: right;\">9992</td><td style = \"text-align: right;\">0.9992</td><td style = \"text-align: right;\">1.0</td><td style = \"text-align: right;\">0.0</td><td style = \"text-align: right;\">0.0</td></tr><tr><td class = \"rowNumber\" style = \"font-weight: bold; text-align: right;\">9993</td><td style = \"text-align: right;\">0.9993</td><td style = \"text-align: right;\">1.0</td><td style = \"text-align: right;\">0.0</td><td style = \"text-align: right;\">0.0</td></tr><tr><td class = \"rowNumber\" style = \"font-weight: bold; text-align: right;\">9994</td><td style = \"text-align: right;\">0.9994</td><td style = \"text-align: right;\">1.0</td><td style = \"text-align: right;\">0.0</td><td style = \"text-align: right;\">0.0</td></tr><tr><td class = \"rowNumber\" style = \"font-weight: bold; text-align: right;\">9995</td><td style = \"text-align: right;\">0.9995</td><td style = \"text-align: right;\">1.0</td><td style = \"text-align: right;\">0.0</td><td style = \"text-align: right;\">0.0</td></tr><tr><td class = \"rowNumber\" style = \"font-weight: bold; text-align: right;\">9996</td><td style = \"text-align: right;\">0.9996</td><td style = \"text-align: right;\">1.0</td><td style = \"text-align: right;\">0.0</td><td style = \"text-align: right;\">0.0</td></tr><tr><td class = \"rowNumber\" style = \"font-weight: bold; text-align: right;\">9997</td><td style = \"text-align: right;\">0.9997</td><td style = \"text-align: right;\">1.0</td><td style = \"text-align: right;\">0.0</td><td style = \"text-align: right;\">0.0</td></tr><tr><td class = \"rowNumber\" style = \"font-weight: bold; text-align: right;\">9998</td><td style = \"text-align: right;\">0.9998</td><td style = \"text-align: right;\">1.0</td><td style = \"text-align: right;\">0.0</td><td style = \"text-align: right;\">0.0</td></tr><tr><td class = \"rowNumber\" style = \"font-weight: bold; text-align: right;\">9999</td><td style = \"text-align: right;\">0.9999</td><td style = \"text-align: right;\">1.0</td><td style = \"text-align: right;\">0.0</td><td style = \"text-align: right;\">0.0</td></tr><tr><td class = \"rowNumber\" style = \"font-weight: bold; text-align: right;\">10000</td><td style = \"text-align: right;\">1.0</td><td style = \"text-align: right;\">1.0</td><td style = \"text-align: right;\">0.0</td><td style = \"text-align: right;\">0.0</td></tr></tbody></table></div>"
      ],
      "text/latex": [
       "\\begin{tabular}{r|cccc}\n",
       "\t& q & P & chi & average\\_cluster\\_size\\\\\n",
       "\t\\hline\n",
       "\t& Float64 & Float64 & Float64 & Float64\\\\\n",
       "\t\\hline\n",
       "\t1 & 0.0 & 3.00001e-12 & 0.00244949 & 1.0 \\\\\n",
       "\t2 & 0.00010001 & 2.03075e-6 & 0.172574 & 1.0003 \\\\\n",
       "\t3 & 0.00020002 & 2.14887e-6 & 0.355934 & 1.0006 \\\\\n",
       "\t4 & 0.00030003 & 2.25426e-6 & 0.435425 & 1.0009 \\\\\n",
       "\t5 & 0.00040004 & 2.43486e-6 & 0.495721 & 1.0012 \\\\\n",
       "\t6 & 0.00050005 & 2.58883e-6 & 0.492028 & 1.0015 \\\\\n",
       "\t7 & 0.00060006 & 2.71965e-6 & 0.467258 & 1.0018 \\\\\n",
       "\t8 & 0.00070007 & 2.82172e-6 & 0.408034 & 1.0021 \\\\\n",
       "\t9 & 0.00080008 & 2.87637e-6 & 0.3823 & 1.0024 \\\\\n",
       "\t10 & 0.00090009 & 2.9185e-6 & 0.338878 & 1.0027 \\\\\n",
       "\t11 & 0.0010001 & 2.95989e-6 & 0.280147 & 1.003 \\\\\n",
       "\t12 & 0.00110011 & 2.98988e-6 & 0.223781 & 1.00331 \\\\\n",
       "\t13 & 0.00120012 & 3.00844e-6 & 0.219314 & 1.00361 \\\\\n",
       "\t14 & 0.00130013 & 3.01889e-6 & 0.201819 & 1.00391 \\\\\n",
       "\t15 & 0.00140014 & 3.02197e-6 & 0.193782 & 1.00421 \\\\\n",
       "\t16 & 0.00150015 & 3.0358e-6 & 0.186195 & 1.00451 \\\\\n",
       "\t17 & 0.00160016 & 3.04324e-6 & 0.203312 & 1.00481 \\\\\n",
       "\t18 & 0.00170017 & 3.04996e-6 & 0.21777 & 1.00512 \\\\\n",
       "\t19 & 0.00180018 & 3.05015e-6 & 0.218163 & 1.00542 \\\\\n",
       "\t20 & 0.00190019 & 3.05747e-6 & 0.232666 & 1.00572 \\\\\n",
       "\t21 & 0.0020002 & 3.06556e-6 & 0.24744 & 1.00602 \\\\\n",
       "\t22 & 0.00210021 & 3.06999e-6 & 0.255053 & 1.00632 \\\\\n",
       "\t23 & 0.00220022 & 3.07005e-6 & 0.255156 & 1.00663 \\\\\n",
       "\t24 & 0.00230023 & 3.07742e-6 & 0.267197 & 1.00693 \\\\\n",
       "\t$\\dots$ & $\\dots$ & $\\dots$ & $\\dots$ & $\\dots$ \\\\\n",
       "\\end{tabular}\n"
      ],
      "text/plain": [
       "\u001b[1m10000×4 DataFrame\u001b[0m\n",
       "\u001b[1m   Row \u001b[0m│\u001b[1m q          \u001b[0m\u001b[1m P           \u001b[0m\u001b[1m chi        \u001b[0m\u001b[1m average_cluster_size \u001b[0m\n",
       "       │\u001b[90m Float64    \u001b[0m\u001b[90m Float64     \u001b[0m\u001b[90m Float64    \u001b[0m\u001b[90m Float64              \u001b[0m\n",
       "───────┼───────────────────────────────────────────────────────────\n",
       "     1 │ 0.0         3.00001e-12  0.00244949                1.0\n",
       "     2 │ 0.00010001  2.03075e-6   0.172574                  1.0003\n",
       "     3 │ 0.00020002  2.14887e-6   0.355934                  1.0006\n",
       "     4 │ 0.00030003  2.25426e-6   0.435425                  1.0009\n",
       "     5 │ 0.00040004  2.43486e-6   0.495721                  1.0012\n",
       "     6 │ 0.00050005  2.58883e-6   0.492028                  1.0015\n",
       "     7 │ 0.00060006  2.71965e-6   0.467258                  1.0018\n",
       "     8 │ 0.00070007  2.82172e-6   0.408034                  1.0021\n",
       "   ⋮   │     ⋮            ⋮           ⋮                ⋮\n",
       "  9994 │ 0.9994      1.0          0.0                       0.0\n",
       "  9995 │ 0.9995      1.0          0.0                       0.0\n",
       "  9996 │ 0.9996      1.0          0.0                       0.0\n",
       "  9997 │ 0.9997      1.0          0.0                       0.0\n",
       "  9998 │ 0.9998      1.0          0.0                       0.0\n",
       "  9999 │ 0.9999      1.0          0.0                       0.0\n",
       " 10000 │ 1.0         1.0          0.0                       0.0\n",
       "\u001b[36m                                                  9985 rows omitted\u001b[0m"
      ]
     },
     "metadata": {},
     "output_type": "display_data"
    }
   ],
   "source": [
    "df_10_000_honeycomb = CSV.read(\"DataFrames/N10_000_q10_000_honeycomb.csv\", DataFrame)\n",
    "df_40_000_honeycomb = CSV.read(\"DataFrames/N40_000_q10_000_honeycomb.csv\", DataFrame)\n",
    "df_90_000_honeycomb = CSV.read(\"DataFrames/N90_000_q10_000_honeycomb.csv\", DataFrame)\n",
    "df_160_000_honeycomb = CSV.read(\"DataFrames/N160_000_q10_000_honeycomb.csv\", DataFrame)\n",
    "df_250_000_honeycomb = CSV.read(\"DataFrames/N250_000_q10_000_honeycomb.csv\", DataFrame)\n",
    "df_360_000_honeycomb = CSV.read(\"DataFrames/N360_000_q10_000_honeycomb.csv\", DataFrame)\n",
    "# df_490_000_honeycomb = CSV.read(\"DataFrames/N490_000_q10_000_honeycomb.csv\", DataFrame)\n",
    "df_640_000_honeycomb = CSV.read(\"DataFrames/N640_000_q10_000_honeycomb.csv\", DataFrame)\n",
    "df_810_000_honeycomb = CSV.read(\"DataFrames/N810_000_q10_000_honeycomb.csv\", DataFrame)\n",
    "df_1_000_000_honeycomb = CSV.read(\"DataFrames/N1_000_000_q10_000_honeycomb.csv\", DataFrame)"
   ]
  },
  {
   "cell_type": "code",
   "execution_count": 54,
   "metadata": {},
   "outputs": [
    {
     "name": "stdout",
     "output_type": "stream",
     "text": [
      "0.6527036446661394\n"
     ]
    },
    {
     "data": {
      "text/plain": [
       "\"c:\\\\Users\\\\jonas\\\\Documents\\\\Codespace\\\\TFY4235\\\\Numerical_Physics\\\\Project_Percolation\\\\figures\\\\FSS_P_q_honeycomb.svg\""
      ]
     },
     "metadata": {},
     "output_type": "display_data"
    }
   ],
   "source": [
    "println(1-2*sin(pi/18))\n",
    "FSS_P_q_honeycomb = plot(df_10_000_honeycomb.q[5000:7000], df_10_000_honeycomb.P[5000:7000], xlabel=\"q\", xticks=(0:0.02:1.0), ylabel=L\"\\langle P_\\infty\\rangle\", label=\"N=10_000\", legend=:topleft)\n",
    "plot!(FSS_P_q_honeycomb, df_40_000_honeycomb.q[5000:7000], df_40_000_honeycomb.P[5000:7000], xlabel=\"q\", xticks=(0:0.02:1.0), ylabel=L\"\\langle P_\\infty\\rangle\", label=\"N=40_000\", legend=:topleft)\n",
    "plot!(FSS_P_q_honeycomb,df_90_000_honeycomb.q[5000:7000], df_90_000_honeycomb.P[5000:7000], xlabel=\"q\", xticks=(0:0.02:1.0), ylabel=L\"\\langle P_\\infty\\rangle\", label=\"N=90_000\", legend=:topleft)\n",
    "plot!(FSS_P_q_honeycomb,df_160_000_honeycomb.q[5000:7000], df_160_000_honeycomb.P[5000:7000], xlabel=\"q\", xticks=(0:0.02:1.0), ylabel=L\"\\langle P_\\infty\\rangle\", label=\"N=160_000\", legend=:topleft)\n",
    "plot!(FSS_P_q_honeycomb,df_250_000_honeycomb.q[5000:7000], df_250_000_honeycomb.P[5000:7000], xlabel=\"q\", xticks=(0:0.02:1.0), ylabel=L\"\\langle P_\\infty\\rangle\", label=\"N=250_000\", legend=:topleft)\n",
    "plot!(FSS_P_q_honeycomb,df_360_000_honeycomb.q[5000:7000], df_360_000_honeycomb.P[5000:7000], xlabel=\"q\", xticks=(0:0.02:1.0), ylabel=L\"\\langle P_\\infty\\rangle\", label=\"N=360_000\", legend=:topleft)\n",
    "# plot!(df_490_000_honeycomb.q[5000:7000], df_490_000_honeycomb.P[5000:7000], xlabel=\"q\", xticks=(0:0.02:1.0), ylabel=L\"\\langle P_\\infty\\rangle\", label=\"N=490_000\", legend=:topleft)\n",
    "plot!(FSS_P_q_honeycomb,df_640_000_honeycomb.q[5000:7000], df_640_000_honeycomb.P[5000:7000], xlabel=\"q\", xticks=(0:0.02:1.0), ylabel=L\"\\langle P_\\infty\\rangle\", label=\"N=640_000\", legend=:topleft)\n",
    "plot!(FSS_P_q_honeycomb,df_810_000_honeycomb.q[5000:7000], df_810_000_honeycomb.P[5000:7000], xlabel=\"q\", xticks=(0:0.02:1.0), ylabel=L\"\\langle P_\\infty\\rangle\", label=\"N=810_000\", legend=:topleft)\n",
    "plot!(FSS_P_q_honeycomb,df_1_000_000_honeycomb.q[5000:7000], df_1_000_000_honeycomb.P[5000:7000], xlabel=\"q\", xticks=(0:0.02:1.0), ylabel=L\"\\langle P_\\infty\\rangle\", label=\"N=1_000_000\", legend=:topleft)\n",
    "# vline!(FSS_P_q_honeycomb,[1-2*sin(pi/18)], color=:red, linestyle=:dash, label=L\"$p_c$\")\n",
    "savefig(FSS_P_q_honeycomb, \"figures/FSS_P_q_honeycomb.svg\")"
   ]
  },
  {
   "cell_type": "code",
   "execution_count": 56,
   "metadata": {},
   "outputs": [
    {
     "data": {
      "text/plain": [
       "10000-element Vector{Float64}:\n",
       " 3.000006750003375e-12\n",
       " 2.0307450059200993e-6\n",
       " 2.1488691666980746e-6\n",
       " 2.254262071261972e-6\n",
       " 2.4348605583139113e-6\n",
       " 2.588826967570546e-6\n",
       " 2.719647010677471e-6\n",
       " 2.821716503425301e-6\n",
       " 2.876369811042086e-6\n",
       " 2.918501498375274e-6\n",
       " ⋮\n",
       " 1.0000029996271655\n",
       " 1.0000029985746548\n",
       " 1.0000029989941694\n",
       " 1.0000029986507322\n",
       " 1.0000029992555866\n",
       " 1.0000030000600217\n",
       " 1.0000029987739931\n",
       " 1.0000030000005138\n",
       " 1.0000029995967568"
      ]
     },
     "metadata": {},
     "output_type": "display_data"
    }
   ],
   "source": [
    "ksi_honeycomb = round.(Int, sqrt.([10_000, 40_000, 90_000, 160_000, 250_000, 360_000, 640_000, 810_000, 1_000_000]))\n",
    "df_P_honeycomb = DataFrame(q = df_10_000_honeycomb.q)  # Initialize with q values (common for all N)\n",
    "df_P_honeycomb[!, \"P_ksi_$(ksi_honeycomb[1])\"] = df_10_000_honeycomb.P\n",
    "df_P_honeycomb[!, \"P_ksi_$(ksi_honeycomb[2])\"] = df_40_000_honeycomb.P\n",
    "df_P_honeycomb[!, \"P_ksi_$(ksi_honeycomb[3])\"] = df_90_000_honeycomb.P\n",
    "df_P_honeycomb[!, \"P_ksi_$(ksi_honeycomb[4])\"] = df_160_000_honeycomb.P\n",
    "df_P_honeycomb[!, \"P_ksi_$(ksi_honeycomb[5])\"] = df_250_000_honeycomb.P\n",
    "df_P_honeycomb[!, \"P_ksi_$(ksi_honeycomb[6])\"] = df_360_000_honeycomb.P\n",
    "# df_P_honeycomb[!, \"P_ksi_$(ksi_honeycomb[7])\"] = df_490_000_honeycomb.P\n",
    "df_P_honeycomb[!, \"P_ksi_$(ksi_honeycomb[7])\"] = df_640_000_honeycomb.P\n",
    "df_P_honeycomb[!, \"P_ksi_$(ksi_honeycomb[8])\"] = df_810_000_honeycomb.P\n",
    "df_P_honeycomb[!, \"P_ksi_$(ksi_honeycomb[9])\"] = df_1_000_000_honeycomb.P\n",
    "# display(df_P_honeycomb)\n",
    "# df_P_honeycomb = df_P_honeycomb[2:end-1, :]  # Remove NaN in the first and last row"
   ]
  },
  {
   "cell_type": "code",
   "execution_count": 57,
   "metadata": {},
   "outputs": [
    {
     "data": {
      "text/plain": [
       "([0.7485653147668857, 0.9984507863931583, 0.9999028127134546, 0.9998199276536959, 0.9995470188991626, 0.9992429154565834, 0.9990936688785709, 0.9989894096322807, 0.9990002486866856, 0.9991690824129  …  0.74857134607794, 0.7486087370993857, 0.7486914082998981, 0.7486173656363304, 0.7486414057582895, 0.7486025939075298, 0.7485271812315513, 0.7486725974670028, 0.7485899450642847, 0.7486033315986129], Any[StatsModels.TableRegressionModel{LinearModel{GLM.LmResp{Vector{Float64}}, GLM.DensePredChol{Float64, LinearAlgebra.CholeskyPivoted{Float64, Matrix{Float64}, Vector{Int64}}}}, Matrix{Float64}}\n",
       "\n",
       "log_param ~ 1 + log_ksi\n",
       "\n",
       "Coefficients:\n",
       "─────────────────────────────────────────────────────────────────────────────────────────\n",
       "                    Coef.  Std. Error             t  Pr(>|t|)     Lower 95%     Upper 95%\n",
       "─────────────────────────────────────────────────────────────────────────────────────────\n",
       "(Intercept)  -26.5324      1.23466e-6  -21489671.31    <1e-48  -26.5324      -26.5324\n",
       "log_ksi        9.22566e-7  2.02091e-7          4.57    0.0026    4.44698e-7    1.40043e-6\n",
       "─────────────────────────────────────────────────────────────────────────────────────────, StatsModels.TableRegressionModel{LinearModel{GLM.LmResp{Vector{Float64}}, GLM.DensePredChol{Float64, LinearAlgebra.CholeskyPivoted{Float64, Matrix{Float64}, Vector{Int64}}}}, Matrix{Float64}}\n",
       "\n",
       "log_param ~ 1 + log_ksi\n",
       "\n",
       "Coefficients:\n",
       "──────────────────────────────────────────────────────────────────────────\n",
       "                 Coef.  Std. Error       t  Pr(>|t|)  Lower 95%  Upper 95%\n",
       "──────────────────────────────────────────────────────────────────────────\n",
       "(Intercept)   0.157101   0.174226     0.90    0.3972  -0.254878   0.569081\n",
       "log_ksi      -1.91544    0.0285176  -67.17    <1e-10  -1.98288   -1.84801\n",
       "──────────────────────────────────────────────────────────────────────────, StatsModels.TableRegressionModel{LinearModel{GLM.LmResp{Vector{Float64}}, GLM.DensePredChol{Float64, LinearAlgebra.CholeskyPivoted{Float64, Matrix{Float64}, Vector{Int64}}}}, Matrix{Float64}}\n",
       "\n",
       "log_param ~ 1 + log_ksi\n",
       "\n",
       "Coefficients:\n",
       "───────────────────────────────────────────────────────────────────────────\n",
       "                 Coef.  Std. Error        t  Pr(>|t|)  Lower 95%  Upper 95%\n",
       "───────────────────────────────────────────────────────────────────────────\n",
       "(Intercept)   0.473337  0.0446396     10.60    <1e-04   0.367782   0.578893\n",
       "log_ksi      -1.96084   0.00730667  -268.36    <1e-14  -1.97812   -1.94357\n",
       "───────────────────────────────────────────────────────────────────────────, StatsModels.TableRegressionModel{LinearModel{GLM.LmResp{Vector{Float64}}, GLM.DensePredChol{Float64, LinearAlgebra.CholeskyPivoted{Float64, Matrix{Float64}, Vector{Int64}}}}, Matrix{Float64}}\n",
       "\n",
       "log_param ~ 1 + log_ksi\n",
       "\n",
       "Coefficients:\n",
       "───────────────────────────────────────────────────────────────────────────\n",
       "                 Coef.  Std. Error        t  Pr(>|t|)  Lower 95%  Upper 95%\n",
       "───────────────────────────────────────────────────────────────────────────\n",
       "(Intercept)   0.473127  0.0606396      7.80    0.0001   0.329737   0.616516\n",
       "log_ksi      -1.95678   0.00992558  -197.15    <1e-13  -1.98025   -1.93331\n",
       "───────────────────────────────────────────────────────────────────────────, StatsModels.TableRegressionModel{LinearModel{GLM.LmResp{Vector{Float64}}, GLM.DensePredChol{Float64, LinearAlgebra.CholeskyPivoted{Float64, Matrix{Float64}, Vector{Int64}}}}, Matrix{Float64}}\n",
       "\n",
       "log_param ~ 1 + log_ksi\n",
       "\n",
       "Coefficients:\n",
       "───────────────────────────────────────────────────────────────────────────\n",
       "                 Coef.  Std. Error        t  Pr(>|t|)  Lower 95%  Upper 95%\n",
       "───────────────────────────────────────────────────────────────────────────\n",
       "(Intercept)   0.343566   0.0948785     3.62    0.0085   0.119214   0.567918\n",
       "log_ksi      -1.93009    0.0155298  -124.28    <1e-12  -1.96681   -1.89337\n",
       "───────────────────────────────────────────────────────────────────────────, StatsModels.TableRegressionModel{LinearModel{GLM.LmResp{Vector{Float64}}, GLM.DensePredChol{Float64, LinearAlgebra.CholeskyPivoted{Float64, Matrix{Float64}, Vector{Int64}}}}, Matrix{Float64}}\n",
       "\n",
       "log_param ~ 1 + log_ksi\n",
       "\n",
       "Coefficients:\n",
       "───────────────────────────────────────────────────────────────────────────\n",
       "                 Coef.  Std. Error       t  Pr(>|t|)   Lower 95%  Upper 95%\n",
       "───────────────────────────────────────────────────────────────────────────\n",
       "(Intercept)   0.211646   0.121012     1.75    0.1238  -0.0745016   0.497793\n",
       "log_ksi      -1.90388    0.0198074  -96.12    <1e-11  -1.95072    -1.85704\n",
       "───────────────────────────────────────────────────────────────────────────, StatsModels.TableRegressionModel{LinearModel{GLM.LmResp{Vector{Float64}}, GLM.DensePredChol{Float64, LinearAlgebra.CholeskyPivoted{Float64, Matrix{Float64}, Vector{Int64}}}}, Matrix{Float64}}\n",
       "\n",
       "log_param ~ 1 + log_ksi\n",
       "\n",
       "Coefficients:\n",
       "───────────────────────────────────────────────────────────────────────────\n",
       "                  Coef.  Std. Error       t  Pr(>|t|)  Lower 95%  Upper 95%\n",
       "───────────────────────────────────────────────────────────────────────────\n",
       "(Intercept)   0.0803103   0.130557     0.62    0.5579  -0.228409   0.389029\n",
       "log_ksi      -1.87719     0.0213698  -87.84    <1e-11  -1.92773   -1.82666\n",
       "───────────────────────────────────────────────────────────────────────────, StatsModels.TableRegressionModel{LinearModel{GLM.LmResp{Vector{Float64}}, GLM.DensePredChol{Float64, LinearAlgebra.CholeskyPivoted{Float64, Matrix{Float64}, Vector{Int64}}}}, Matrix{Float64}}\n",
       "\n",
       "log_param ~ 1 + log_ksi\n",
       "\n",
       "Coefficients:\n",
       "───────────────────────────────────────────────────────────────────────────\n",
       "                  Coef.  Std. Error       t  Pr(>|t|)  Lower 95%  Upper 95%\n",
       "───────────────────────────────────────────────────────────────────────────\n",
       "(Intercept)  -0.0289665   0.136188    -0.21    0.8376   -0.351     0.293067\n",
       "log_ksi      -1.8543      0.0222914  -83.18    <1e-11   -1.90701  -1.80159\n",
       "───────────────────────────────────────────────────────────────────────────, StatsModels.TableRegressionModel{LinearModel{GLM.LmResp{Vector{Float64}}, GLM.DensePredChol{Float64, LinearAlgebra.CholeskyPivoted{Float64, Matrix{Float64}, Vector{Int64}}}}, Matrix{Float64}}\n",
       "\n",
       "log_param ~ 1 + log_ksi\n",
       "\n",
       "Coefficients:\n",
       "───────────────────────────────────────────────────────────────────────────\n",
       "                  Coef.  Std. Error       t  Pr(>|t|)  Lower 95%  Upper 95%\n",
       "───────────────────────────────────────────────────────────────────────────\n",
       "(Intercept)  -0.0961616   0.134338    -0.72    0.4973  -0.413821   0.221498\n",
       "log_ksi      -1.83901     0.0219887  -83.63    <1e-11  -1.89101   -1.78702\n",
       "───────────────────────────────────────────────────────────────────────────, StatsModels.TableRegressionModel{LinearModel{GLM.LmResp{Vector{Float64}}, GLM.DensePredChol{Float64, LinearAlgebra.CholeskyPivoted{Float64, Matrix{Float64}, Vector{Int64}}}}, Matrix{Float64}}\n",
       "\n",
       "log_param ~ 1 + log_ksi\n",
       "\n",
       "Coefficients:\n",
       "──────────────────────────────────────────────────────────────────────────\n",
       "                 Coef.  Std. Error       t  Pr(>|t|)  Lower 95%  Upper 95%\n",
       "──────────────────────────────────────────────────────────────────────────\n",
       "(Intercept)  -0.143883   0.121676    -1.18    0.2756  -0.431602   0.143836\n",
       "log_ksi      -1.82724    0.0199162  -91.75    <1e-11  -1.87433   -1.78014\n",
       "──────────────────────────────────────────────────────────────────────────  …  StatsModels.TableRegressionModel{LinearModel{GLM.LmResp{Vector{Float64}}, GLM.DensePredChol{Float64, LinearAlgebra.CholeskyPivoted{Float64, Matrix{Float64}, Vector{Int64}}}}, Matrix{Float64}}\n",
       "\n",
       "log_param ~ 1 + log_ksi\n",
       "\n",
       "Coefficients:\n",
       "───────────────────────────────────────────────────────────────────────────────\n",
       "                   Coef.  Std. Error      t  Pr(>|t|)    Lower 95%    Upper 95%\n",
       "───────────────────────────────────────────────────────────────────────────────\n",
       "(Intercept)  -6.34368e-6  1.6463e-6   -3.85    0.0063  -1.02366e-5  -2.45079e-6\n",
       "log_ksi       1.23018e-6  2.69469e-7   4.57    0.0026   5.92982e-7   1.86737e-6\n",
       "───────────────────────────────────────────────────────────────────────────────, StatsModels.TableRegressionModel{LinearModel{GLM.LmResp{Vector{Float64}}, GLM.DensePredChol{Float64, LinearAlgebra.CholeskyPivoted{Float64, Matrix{Float64}, Vector{Int64}}}}, Matrix{Float64}}\n",
       "\n",
       "log_param ~ 1 + log_ksi\n",
       "\n",
       "Coefficients:\n",
       "───────────────────────────────────────────────────────────────────────────────\n",
       "                   Coef.  Std. Error      t  Pr(>|t|)    Lower 95%    Upper 95%\n",
       "───────────────────────────────────────────────────────────────────────────────\n",
       "(Intercept)  -6.34288e-6  1.64594e-6  -3.85    0.0063  -1.02349e-5  -2.45085e-6\n",
       "log_ksi       1.23003e-6  2.6941e-7    4.57    0.0026   5.92974e-7   1.86708e-6\n",
       "───────────────────────────────────────────────────────────────────────────────, StatsModels.TableRegressionModel{LinearModel{GLM.LmResp{Vector{Float64}}, GLM.DensePredChol{Float64, LinearAlgebra.CholeskyPivoted{Float64, Matrix{Float64}, Vector{Int64}}}}, Matrix{Float64}}\n",
       "\n",
       "log_param ~ 1 + log_ksi\n",
       "\n",
       "Coefficients:\n",
       "───────────────────────────────────────────────────────────────────────────────\n",
       "                   Coef.  Std. Error      t  Pr(>|t|)    Lower 95%    Upper 95%\n",
       "───────────────────────────────────────────────────────────────────────────────\n",
       "(Intercept)  -6.34191e-6  1.64534e-6  -3.85    0.0063  -1.02325e-5  -2.45129e-6\n",
       "log_ksi       1.22985e-6  2.69312e-7   4.57    0.0026   5.93029e-7   1.86667e-6\n",
       "───────────────────────────────────────────────────────────────────────────────, StatsModels.TableRegressionModel{LinearModel{GLM.LmResp{Vector{Float64}}, GLM.DensePredChol{Float64, LinearAlgebra.CholeskyPivoted{Float64, Matrix{Float64}, Vector{Int64}}}}, Matrix{Float64}}\n",
       "\n",
       "log_param ~ 1 + log_ksi\n",
       "\n",
       "Coefficients:\n",
       "───────────────────────────────────────────────────────────────────────────────\n",
       "                   Coef.  Std. Error      t  Pr(>|t|)    Lower 95%    Upper 95%\n",
       "───────────────────────────────────────────────────────────────────────────────\n",
       "(Intercept)  -6.34308e-6  1.64595e-6  -3.85    0.0063  -1.02351e-5  -2.45103e-6\n",
       "log_ksi       1.23006e-6  2.69411e-7   4.57    0.0026   5.93005e-7   1.86712e-6\n",
       "───────────────────────────────────────────────────────────────────────────────, StatsModels.TableRegressionModel{LinearModel{GLM.LmResp{Vector{Float64}}, GLM.DensePredChol{Float64, LinearAlgebra.CholeskyPivoted{Float64, Matrix{Float64}, Vector{Int64}}}}, Matrix{Float64}}\n",
       "\n",
       "log_param ~ 1 + log_ksi\n",
       "\n",
       "Coefficients:\n",
       "───────────────────────────────────────────────────────────────────────────────\n",
       "                   Coef.  Std. Error      t  Pr(>|t|)    Lower 95%    Upper 95%\n",
       "───────────────────────────────────────────────────────────────────────────────\n",
       "(Intercept)  -6.34299e-6  1.64582e-6  -3.85    0.0063  -1.02347e-5  -2.45124e-6\n",
       "log_ksi       1.23005e-6  2.69391e-7   4.57    0.0026   5.93039e-7   1.86706e-6\n",
       "───────────────────────────────────────────────────────────────────────────────, StatsModels.TableRegressionModel{LinearModel{GLM.LmResp{Vector{Float64}}, GLM.DensePredChol{Float64, LinearAlgebra.CholeskyPivoted{Float64, Matrix{Float64}, Vector{Int64}}}}, Matrix{Float64}}\n",
       "\n",
       "log_param ~ 1 + log_ksi\n",
       "\n",
       "Coefficients:\n",
       "───────────────────────────────────────────────────────────────────────────────\n",
       "                   Coef.  Std. Error      t  Pr(>|t|)    Lower 95%    Upper 95%\n",
       "───────────────────────────────────────────────────────────────────────────────\n",
       "(Intercept)  -6.34302e-6  1.646e-6    -3.85    0.0063  -1.02352e-5  -2.45086e-6\n",
       "log_ksi       1.23005e-6  2.69419e-7   4.57    0.0026   5.92975e-7   1.86713e-6\n",
       "───────────────────────────────────────────────────────────────────────────────, StatsModels.TableRegressionModel{LinearModel{GLM.LmResp{Vector{Float64}}, GLM.DensePredChol{Float64, LinearAlgebra.CholeskyPivoted{Float64, Matrix{Float64}, Vector{Int64}}}}, Matrix{Float64}}\n",
       "\n",
       "log_param ~ 1 + log_ksi\n",
       "\n",
       "Coefficients:\n",
       "───────────────────────────────────────────────────────────────────────────────\n",
       "                   Coef.  Std. Error      t  Pr(>|t|)    Lower 95%    Upper 95%\n",
       "───────────────────────────────────────────────────────────────────────────────\n",
       "(Intercept)  -6.34347e-6  1.64643e-6  -3.85    0.0063  -1.02367e-5  -2.45028e-6\n",
       "log_ksi       1.23013e-6  2.6949e-7    4.56    0.0026   5.92885e-7   1.86737e-6\n",
       "───────────────────────────────────────────────────────────────────────────────, StatsModels.TableRegressionModel{LinearModel{GLM.LmResp{Vector{Float64}}, GLM.DensePredChol{Float64, LinearAlgebra.CholeskyPivoted{Float64, Matrix{Float64}, Vector{Int64}}}}, Matrix{Float64}}\n",
       "\n",
       "log_param ~ 1 + log_ksi\n",
       "\n",
       "Coefficients:\n",
       "───────────────────────────────────────────────────────────────────────────────\n",
       "                   Coef.  Std. Error      t  Pr(>|t|)    Lower 95%    Upper 95%\n",
       "───────────────────────────────────────────────────────────────────────────────\n",
       "(Intercept)  -6.34211e-6  1.64547e-6  -3.85    0.0063  -1.0233e-5   -2.45119e-6\n",
       "log_ksi       1.22989e-6  2.69333e-7   4.57    0.0026   5.93014e-7   1.86676e-6\n",
       "───────────────────────────────────────────────────────────────────────────────, StatsModels.TableRegressionModel{LinearModel{GLM.LmResp{Vector{Float64}}, GLM.DensePredChol{Float64, LinearAlgebra.CholeskyPivoted{Float64, Matrix{Float64}, Vector{Int64}}}}, Matrix{Float64}}\n",
       "\n",
       "log_param ~ 1 + log_ksi\n",
       "\n",
       "Coefficients:\n",
       "───────────────────────────────────────────────────────────────────────────────\n",
       "                   Coef.  Std. Error      t  Pr(>|t|)    Lower 95%    Upper 95%\n",
       "───────────────────────────────────────────────────────────────────────────────\n",
       "(Intercept)  -6.34384e-6  1.64626e-6  -3.85    0.0063  -1.02366e-5  -2.45104e-6\n",
       "log_ksi       1.23021e-6  2.69463e-7   4.57    0.0026   5.93029e-7   1.86739e-6\n",
       "───────────────────────────────────────────────────────────────────────────────, StatsModels.TableRegressionModel{LinearModel{GLM.LmResp{Vector{Float64}}, GLM.DensePredChol{Float64, LinearAlgebra.CholeskyPivoted{Float64, Matrix{Float64}, Vector{Int64}}}}, Matrix{Float64}}\n",
       "\n",
       "log_param ~ 1 + log_ksi\n",
       "\n",
       "Coefficients:\n",
       "───────────────────────────────────────────────────────────────────────────────\n",
       "                   Coef.  Std. Error      t  Pr(>|t|)    Lower 95%    Upper 95%\n",
       "───────────────────────────────────────────────────────────────────────────────\n",
       "(Intercept)  -6.34336e-6  1.64608e-6  -3.85    0.0063  -1.02357e-5  -2.45099e-6\n",
       "log_ksi       1.23012e-6  2.69433e-7   4.57    0.0026   5.93009e-7   1.86723e-6\n",
       "───────────────────────────────────────────────────────────────────────────────], Any[9.225661665877719e-7, -1.9154431530951939, -1.9608431611891162, -1.9567804022563653, -1.9300902348226543, -1.9038789522480601, -1.8771939803644055, -1.8542992764085202, -1.8390115508039135, -1.8272382171148058  …  1.2301751997130148e-6, 1.2300271947324519e-6, 1.2298510180775948e-6, 1.2300608656621264e-6, 1.2300472512479516e-6, 1.2300500829767697e-6, 1.2301282090315937e-6, 1.2298857608875792e-6, 1.2302074343612369e-6, 1.230117257300162e-6])"
      ]
     },
     "metadata": {},
     "output_type": "display_data"
    }
   ],
   "source": [
    "r2_arr_P_honeycomb, model_arr_P_honeycomb, slope_arr_P_honeycomb = line_fitter(df_P_honeycomb, ksi_honeycomb)"
   ]
  },
  {
   "cell_type": "code",
   "execution_count": 58,
   "metadata": {},
   "outputs": [
    {
     "data": {
      "text/plain": [
       "\"c:\\\\Users\\\\jonas\\\\Documents\\\\Codespace\\\\TFY4235\\\\Numerical_Physics\\\\Project_Percolation\\\\figures\\\\FFS_P_R2_honeycomb.svg\""
      ]
     },
     "metadata": {},
     "output_type": "display_data"
    }
   ],
   "source": [
    "FSS_P_R2_honeycomb = plot(df_P_honeycomb.q, r2_arr_P_honeycomb, xlabel=\"q\", xticks=0:0.1:1, ylabel=L\"$R^2$-coefficient\", color=:green, legend=false)\n",
    "savefig(FSS_P_R2_honeycomb, \"figures/FFS_P_R2_honeycomb.svg\")"
   ]
  },
  {
   "cell_type": "code",
   "execution_count": 59,
   "metadata": {},
   "outputs": [
    {
     "name": "stdout",
     "output_type": "stream",
     "text": [
      "6519\n"
     ]
    },
    {
     "data": {
      "text/plain": [
       "\"c:\\\\Users\\\\jonas\\\\Documents\\\\Codespace\\\\TFY4235\\\\Numerical_Physics\\\\Project_Percolation\\\\figures\\\\FFS_P_R2_honeycomb_zoomed.svg\""
      ]
     },
     "metadata": {},
     "output_type": "display_data"
    }
   ],
   "source": [
    "i_start = 6440\n",
    "i_end = 7000\n",
    "best_index_P_honeycomb = i_start+argmax(r2_arr_P_honeycomb[i_start:i_end]) - 1\n",
    "println(best_index_P_honeycomb)\n",
    "FSS_P_R2_honeycomb_zoomed = plot(df_P_honeycomb.q[i_start:i_end], r2_arr_P_honeycomb[i_start:i_end], xlabel=\"q\", xticks=0:0.005:1, ylabel=L\"$R^2$-coefficient\", label=L\"Honeycomb: $R^2$\", color=:green)\n",
    "vline!(FSS_P_R2_honeycomb_zoomed, [df_P_honeycomb.q[best_index_P_honeycomb]], color=:red, linestyle=:dash, label=L\"$p_c$\")\n",
    "savefig(FSS_P_R2_honeycomb_zoomed, \"figures/FFS_P_R2_honeycomb_zoomed.svg\")"
   ]
  },
  {
   "cell_type": "code",
   "execution_count": 60,
   "metadata": {},
   "outputs": [
    {
     "name": "stdout",
     "output_type": "stream",
     "text": [
      "p_c: 0.6518651865186519\n"
     ]
    }
   ],
   "source": [
    "p_c_honeycomb = df_P_honeycomb.q[best_index_P_honeycomb]\n",
    "println(\"p_c: \", p_c_honeycomb)"
   ]
  },
  {
   "cell_type": "code",
   "execution_count": 61,
   "metadata": {},
   "outputs": [
    {
     "data": {
      "text/plain": [
       "StatsModels.TableRegressionModel{LinearModel{GLM.LmResp{Vector{Float64}}, GLM.DensePredChol{Float64, LinearAlgebra.CholeskyPivoted{Float64, Matrix{Float64}, Vector{Int64}}}}, Matrix{Float64}}\n",
       "\n",
       "log_param ~ 1 + log_ksi\n",
       "\n",
       "Coefficients:\n",
       "────────────────────────────────────────────────────────────────────────────\n",
       "                 Coef.  Std. Error       t  Pr(>|t|)    Lower 95%  Upper 95%\n",
       "────────────────────────────────────────────────────────────────────────────\n",
       "(Intercept)   0.114872  0.0495562     2.32    0.0536  -0.00230986   0.232054\n",
       "log_ksi      -0.136222  0.00811142  -16.79    <1e-06  -0.155403    -0.117042\n",
       "────────────────────────────────────────────────────────────────────────────"
      ]
     },
     "metadata": {},
     "output_type": "display_data"
    }
   ],
   "source": [
    "display(model_arr_P_honeycomb[best_index_P_honeycomb])"
   ]
  },
  {
   "cell_type": "code",
   "execution_count": 62,
   "metadata": {},
   "outputs": [
    {
     "data": {
      "text/plain": [
       "\"c:\\\\Users\\\\jonas\\\\Documents\\\\Codespace\\\\TFY4235\\\\Numerical_Physics\\\\Project_Percolation\\\\figures\\\\FSS_s_honeycomb.svg\""
      ]
     },
     "metadata": {},
     "output_type": "display_data"
    }
   ],
   "source": [
    "# FSS - s\n",
    "\n",
    "FSS_s_honeycomb = plot(df_10_000_honeycomb.q[6000:6800], df_10_000_honeycomb.average_cluster_size[6000:6800], xlabel=\"q\", xticks=(0:0.01:1.0), ylabel=L\"\\langle s\\rangle\", label=\"N=10_000\", legend=:topright)\n",
    "plot!(FSS_s_honeycomb, df_40_000_honeycomb.q[6000:6800], df_40_000_honeycomb.average_cluster_size[6000:6800], xlabel=\"q\", xticks=(0:0.01:1.0), ylabel=L\"\\langle s\\rangle\", label=\"N=40_000\")\n",
    "plot!(FSS_s_honeycomb,df_90_000_honeycomb.q[6000:6800], df_90_000_honeycomb.average_cluster_size[6000:6800], xlabel=\"q\", xticks=(0:0.01:1.0), ylabel=L\"\\langle s\\rangle\", label=\"N=90_000\")\n",
    "plot!(FSS_s_honeycomb,df_160_000_honeycomb.q[6000:6800], df_160_000_honeycomb.average_cluster_size[6000:6800], xlabel=\"q\", xticks=(0:0.01:1.0), ylabel=L\"\\langle s\\rangle\", label=\"N=160_000\")\n",
    "plot!(FSS_s_honeycomb,df_250_000_honeycomb.q[6000:6800], df_250_000_honeycomb.average_cluster_size[6000:6800], xlabel=\"q\", xticks=(0:0.01:1.0), ylabel=L\"\\langle s\\rangle\", label=\"N=250_000\")\n",
    "plot!(FSS_s_honeycomb,df_360_000_honeycomb.q[6000:6800], df_360_000_honeycomb.average_cluster_size[6000:6800], xlabel=\"q\", xticks=(0:0.01:1.0), ylabel=L\"\\langle s\\rangle\", label=\"N=360_000\")\n",
    "# plot!(df_490_000_honeycomb.q[6000:6800], df_490_000_honeycomb.average_cluster_size[6000:6800], xlabel=\"q\", xticks=(0:0.01:1.0), ylabel=L\"\\langle s\\rangle\", label=\"N=490_000\")\n",
    "plot!(FSS_s_honeycomb,df_640_000_honeycomb.q[6000:6800], df_640_000_honeycomb.average_cluster_size[6000:6800], xlabel=\"q\", xticks=(0:0.01:1.0), ylabel=L\"\\langle s\\rangle\", label=\"N=640_000\")\n",
    "plot!(FSS_s_honeycomb,df_810_000_honeycomb.q[6000:6800], df_810_000_honeycomb.average_cluster_size[6000:6800], xlabel=\"q\", xticks=(0:0.01:1.0), ylabel=L\"\\langle s\\rangle\", label=\"N=810_000\")\n",
    "plot!(FSS_s_honeycomb,df_1_000_000_honeycomb.q[6000:6800], df_1_000_000_honeycomb.average_cluster_size[6000:6800], xlabel=\"q\", xticks=(0:0.01:1.0), ylabel=L\"\\langle s\\rangle\", label=\"N=1_000_000\")\n",
    "savefig(FSS_s_honeycomb, \"figures/FSS_s_honeycomb.svg\")"
   ]
  },
  {
   "cell_type": "code",
   "execution_count": 63,
   "metadata": {},
   "outputs": [
    {
     "data": {
      "text/html": [
       "<div><div style = \"float: left;\"><span>9×2 DataFrame</span></div><div style = \"clear: both;\"></div></div><div class = \"data-frame\" style = \"overflow-x: scroll;\"><table class = \"data-frame\" style = \"margin-bottom: 6px;\"><thead><tr class = \"header\"><th class = \"rowNumber\" style = \"font-weight: bold; text-align: right;\">Row</th><th style = \"text-align: left;\">ksi</th><th style = \"text-align: left;\">max_s</th></tr><tr class = \"subheader headerLastRow\"><th class = \"rowNumber\" style = \"font-weight: bold; text-align: right;\"></th><th title = \"Int64\" style = \"text-align: left;\">Int64</th><th title = \"Float64\" style = \"text-align: left;\">Float64</th></tr></thead><tbody><tr><td class = \"rowNumber\" style = \"font-weight: bold; text-align: right;\">1</td><td style = \"text-align: right;\">100</td><td style = \"text-align: right;\">379.726</td></tr><tr><td class = \"rowNumber\" style = \"font-weight: bold; text-align: right;\">2</td><td style = \"text-align: right;\">200</td><td style = \"text-align: right;\">1286.85</td></tr><tr><td class = \"rowNumber\" style = \"font-weight: bold; text-align: right;\">3</td><td style = \"text-align: right;\">300</td><td style = \"text-align: right;\">2664.06</td></tr><tr><td class = \"rowNumber\" style = \"font-weight: bold; text-align: right;\">4</td><td style = \"text-align: right;\">400</td><td style = \"text-align: right;\">4099.33</td></tr><tr><td class = \"rowNumber\" style = \"font-weight: bold; text-align: right;\">5</td><td style = \"text-align: right;\">500</td><td style = \"text-align: right;\">5758.31</td></tr><tr><td class = \"rowNumber\" style = \"font-weight: bold; text-align: right;\">6</td><td style = \"text-align: right;\">600</td><td style = \"text-align: right;\">8767.9</td></tr><tr><td class = \"rowNumber\" style = \"font-weight: bold; text-align: right;\">7</td><td style = \"text-align: right;\">800</td><td style = \"text-align: right;\">14503.0</td></tr><tr><td class = \"rowNumber\" style = \"font-weight: bold; text-align: right;\">8</td><td style = \"text-align: right;\">900</td><td style = \"text-align: right;\">16951.0</td></tr><tr><td class = \"rowNumber\" style = \"font-weight: bold; text-align: right;\">9</td><td style = \"text-align: right;\">1000</td><td style = \"text-align: right;\">20981.0</td></tr></tbody></table></div>"
      ],
      "text/latex": [
       "\\begin{tabular}{r|cc}\n",
       "\t& ksi & max\\_s\\\\\n",
       "\t\\hline\n",
       "\t& Int64 & Float64\\\\\n",
       "\t\\hline\n",
       "\t1 & 100 & 379.726 \\\\\n",
       "\t2 & 200 & 1286.85 \\\\\n",
       "\t3 & 300 & 2664.06 \\\\\n",
       "\t4 & 400 & 4099.33 \\\\\n",
       "\t5 & 500 & 5758.31 \\\\\n",
       "\t6 & 600 & 8767.9 \\\\\n",
       "\t7 & 800 & 14503.0 \\\\\n",
       "\t8 & 900 & 16951.0 \\\\\n",
       "\t9 & 1000 & 20981.0 \\\\\n",
       "\\end{tabular}\n"
      ],
      "text/plain": [
       "\u001b[1m9×2 DataFrame\u001b[0m\n",
       "\u001b[1m Row \u001b[0m│\u001b[1m ksi   \u001b[0m\u001b[1m max_s     \u001b[0m\n",
       "     │\u001b[90m Int64 \u001b[0m\u001b[90m Float64   \u001b[0m\n",
       "─────┼──────────────────\n",
       "   1 │   100    379.726\n",
       "   2 │   200   1286.85\n",
       "   3 │   300   2664.06\n",
       "   4 │   400   4099.33\n",
       "   5 │   500   5758.31\n",
       "   6 │   600   8767.9\n",
       "   7 │   800  14503.0\n",
       "   8 │   900  16951.0\n",
       "   9 │  1000  20981.0"
      ]
     },
     "metadata": {},
     "output_type": "display_data"
    },
    {
     "name": "stdout",
     "output_type": "stream",
     "text": [
      "[379.7264140806954, 1286.853300175229, 2664.0640287917176, 4099.334860078835, 5758.306710122759, 8767.901771262437, 14503.034783519157, 16950.953773392386, 20980.970405609954]\n"
     ]
    }
   ],
   "source": [
    "df_s_honeycomb = DataFrame(q = df_10_000_honeycomb.q)  # Initialize with q values (common for all N)\n",
    "df_s_honeycomb[!, \"s_ksi_$(ksi_honeycomb[1])\"] = df_10_000_honeycomb.average_cluster_size\n",
    "df_s_honeycomb[!, \"s_ksi_$(ksi_honeycomb[2])\"] = df_40_000_honeycomb.average_cluster_size\n",
    "df_s_honeycomb[!, \"s_ksi_$(ksi_honeycomb[3])\"] = df_90_000_honeycomb.average_cluster_size\n",
    "df_s_honeycomb[!, \"s_ksi_$(ksi_honeycomb[4])\"] = df_160_000_honeycomb.average_cluster_size\n",
    "df_s_honeycomb[!, \"s_ksi_$(ksi_honeycomb[5])\"] = df_250_000_honeycomb.average_cluster_size\n",
    "df_s_honeycomb[!, \"s_ksi_$(ksi_honeycomb[6])\"] = df_360_000_honeycomb.average_cluster_size\n",
    "# df_s_honeycomb[!, \"s_ksi_$(ksi_honeycomb[7])\"] = df_490_000_honeycomb.average_cluster_size\n",
    "df_s_honeycomb[!, \"s_ksi_$(ksi_honeycomb[7])\"] = df_640_000_honeycomb.average_cluster_size\n",
    "df_s_honeycomb[!, \"s_ksi_$(ksi_honeycomb[8])\"] = df_810_000_honeycomb.average_cluster_size\n",
    "df_s_honeycomb[!, \"s_ksi_$(ksi_honeycomb[9])\"] = df_1_000_000_honeycomb.average_cluster_size\n",
    "\n",
    "# df_s_honeycomb = df_s_honeycomb[2:end-1, :]  # Remove NaN in the first row\n",
    "\n",
    "max_vec = zeros(length(ksi_honeycomb))\n",
    "for i in 1:length(ksi_honeycomb)\n",
    "    max_vec[i] = maximum(df_s_honeycomb[!, \"s_ksi_$(ksi_honeycomb[i])\"])\n",
    "end\n",
    "println(max_vec)\n",
    "df_sm_honeycomb = DataFrame(ksi=ksi_honeycomb)  # Initialize with q values (common for all N)\n",
    "df_sm_honeycomb[!, \"max_s\"] = max_vec\n",
    "\n",
    "display(df_sm_honeycomb)"
   ]
  },
  {
   "cell_type": "code",
   "execution_count": 64,
   "metadata": {},
   "outputs": [
    {
     "data": {
      "text/plain": [
       "StatsModels.TableRegressionModel{LinearModel{GLM.LmResp{Vector{Float64}}, GLM.DensePredChol{Float64, LinearAlgebra.CholeskyPivoted{Float64, Matrix{Float64}, Vector{Int64}}}}, Matrix{Float64}}\n",
       "\n",
       ":(log(max_s)) ~ 1 + :(log(ksi))\n",
       "\n",
       "Coefficients:\n",
       "─────────────────────────────────────────────────────────────────────────\n",
       "                Coef.  Std. Error       t  Pr(>|t|)  Lower 95%  Upper 95%\n",
       "─────────────────────────────────────────────────────────────────────────\n",
       "(Intercept)  -2.04464   0.111021   -18.42    <1e-06   -2.30716   -1.78211\n",
       "log(ksi)      1.73457   0.0181721   95.45    <1e-11    1.6916     1.77754\n",
       "─────────────────────────────────────────────────────────────────────────"
      ]
     },
     "metadata": {},
     "output_type": "display_data"
    },
    {
     "name": "stdout",
     "output_type": "stream",
     "text": [
      "0.9992322955623639\n"
     ]
    }
   ],
   "source": [
    "model_sm_honeycomb = lm(@formula(log(max_s) ~ log(ksi) ), df_sm_honeycomb)\n",
    "println(r2(model_sm_honeycomb))\n",
    "display(model_sm_honeycomb)"
   ]
  },
  {
   "cell_type": "code",
   "execution_count": 65,
   "metadata": {},
   "outputs": [
    {
     "name": "stdout",
     "output_type": "stream",
     "text": [
      "R^2: 0.9992322955623639\n"
     ]
    },
    {
     "data": {
      "text/plain": [
       "\"c:\\\\Users\\\\jonas\\\\Documents\\\\Codespace\\\\TFY4235\\\\Numerical_Physics\\\\Project_Percolation\\\\figures\\\\FFS_sm_honeycomb.svg\""
      ]
     },
     "metadata": {},
     "output_type": "display_data"
    }
   ],
   "source": [
    "println(\"R^2: \", r2(model_sm_honeycomb))\n",
    "FFS_sm_honeycomb = scatter(log.(df_sm_honeycomb.ksi), log.(df_sm_honeycomb.max_s), xlabel=L\"log(\\xi)\", ylabel=L\"log(max(\\langle s \\rangle))\", color=:green, label=L\"Honeycomb: $max(\\langle s \\rangle)$\")\n",
    "plot!(FFS_sm_honeycomb, log.(df_sm_honeycomb.ksi), predict(model_sm_honeycomb), color=:red, label=\"Best fit\")\n",
    "annotate!(FFS_sm_honeycomb, 4.85, 9.13, text(\"R^2: $(round(r2(model_sm_honeycomb),digits=4))\",8))\n",
    "savefig(FFS_sm_honeycomb, \"figures/FFS_sm_honeycomb.svg\")"
   ]
  },
  {
   "cell_type": "code",
   "execution_count": 68,
   "metadata": {},
   "outputs": [
    {
     "data": {
      "text/plain": [
       "\"c:\\\\Users\\\\jonas\\\\Documents\\\\Codespace\\\\TFY4235\\\\Numerical_Physics\\\\Project_Percolation\\\\figures\\\\FSS_chi_honeycomb.svg\""
      ]
     },
     "metadata": {},
     "output_type": "display_data"
    }
   ],
   "source": [
    "# FSS - chi\n",
    "\n",
    "FSS_chi_honeycomb = plot(df_10_000_honeycomb.q[6000:7000], df_10_000_honeycomb.chi[6000:7000], xlabel=\"q\", xticks=(0:0.01:1.0), ylabel=L\"\\chi\", label=\"N=10_000\", legend=:topright)\n",
    "plot!(FSS_chi_honeycomb, df_40_000_honeycomb.q[6000:7000], df_40_000_honeycomb.chi[6000:7000], xlabel=\"q\", xticks=(0:0.01:1.0), ylabel=L\"\\chi\", label=\"N=40_000\")\n",
    "plot!(FSS_chi_honeycomb,df_90_000_honeycomb.q[6000:7000], df_90_000_honeycomb.chi[6000:7000], xlabel=\"q\", xticks=(0:0.01:1.0), ylabel=L\"\\chi\", label=\"N=90_000\")\n",
    "plot!(FSS_chi_honeycomb,df_160_000_honeycomb.q[6000:7000], df_160_000_honeycomb.chi[6000:7000], xlabel=\"q\", xticks=(0:0.01:1.0), ylabel=L\"\\chi\", label=\"N=160_000\")\n",
    "plot!(FSS_chi_honeycomb,df_250_000_honeycomb.q[6000:7000], df_250_000_honeycomb.chi[6000:7000], xlabel=\"q\", xticks=(0:0.01:1.0), ylabel=L\"\\chi\", label=\"N=250_000\")\n",
    "plot!(FSS_chi_honeycomb,df_360_000_honeycomb.q[6000:7000], df_360_000_honeycomb.chi[6000:7000], xlabel=\"q\", xticks=(0:0.01:1.0), ylabel=L\"\\chi\", label=\"N=360_000\")\n",
    "# plot!(df_490_000_honeycomb.q[6000:7000], df_490_000_honeycomb.chi[6000:7000], xlabel=\"q\", xticks=(0:0.01:1.0), ylabel=L\"\\chi\", label=\"N=490_000\")\n",
    "plot!(FSS_chi_honeycomb,df_640_000_honeycomb.q[6000:7000], df_640_000_honeycomb.chi[6000:7000], xlabel=\"q\", xticks=(0:0.01:1.0), ylabel=L\"\\chi\", label=\"N=640_000\")\n",
    "plot!(FSS_chi_honeycomb,df_810_000_honeycomb.q[6000:7000], df_810_000_honeycomb.chi[6000:7000], xlabel=\"q\", xticks=(0:0.01:1.0), ylabel=L\"\\chi\", label=\"N=810_000\")\n",
    "plot!(FSS_chi_honeycomb,df_1_000_000_honeycomb.q[6000:7000], df_1_000_000_honeycomb.chi[6000:7000], xlabel=\"q\", xticks=(0:0.01:1.0), ylabel=L\"\\chi\", label=\"N=1_000_000\")\n",
    "savefig(FSS_chi_honeycomb, \"figures/FSS_chi_honeycomb.svg\")"
   ]
  },
  {
   "cell_type": "code",
   "execution_count": 69,
   "metadata": {},
   "outputs": [
    {
     "data": {
      "text/html": [
       "<div><div style = \"float: left;\"><span>9×2 DataFrame</span></div><div style = \"clear: both;\"></div></div><div class = \"data-frame\" style = \"overflow-x: scroll;\"><table class = \"data-frame\" style = \"margin-bottom: 6px;\"><thead><tr class = \"header\"><th class = \"rowNumber\" style = \"font-weight: bold; text-align: right;\">Row</th><th style = \"text-align: left;\">ksi</th><th style = \"text-align: left;\">q_max</th></tr><tr class = \"subheader headerLastRow\"><th class = \"rowNumber\" style = \"font-weight: bold; text-align: right;\"></th><th title = \"Int64\" style = \"text-align: left;\">Int64</th><th title = \"Float64\" style = \"text-align: left;\">Float64</th></tr></thead><tbody><tr><td class = \"rowNumber\" style = \"font-weight: bold; text-align: right;\">1</td><td style = \"text-align: right;\">100</td><td style = \"text-align: right;\">0.0141014</td></tr><tr><td class = \"rowNumber\" style = \"font-weight: bold; text-align: right;\">2</td><td style = \"text-align: right;\">200</td><td style = \"text-align: right;\">0.00610061</td></tr><tr><td class = \"rowNumber\" style = \"font-weight: bold; text-align: right;\">3</td><td style = \"text-align: right;\">300</td><td style = \"text-align: right;\">0.00530053</td></tr><tr><td class = \"rowNumber\" style = \"font-weight: bold; text-align: right;\">4</td><td style = \"text-align: right;\">400</td><td style = \"text-align: right;\">0.0040004</td></tr><tr><td class = \"rowNumber\" style = \"font-weight: bold; text-align: right;\">5</td><td style = \"text-align: right;\">500</td><td style = \"text-align: right;\">0.00420042</td></tr><tr><td class = \"rowNumber\" style = \"font-weight: bold; text-align: right;\">6</td><td style = \"text-align: right;\">600</td><td style = \"text-align: right;\">0.0030003</td></tr><tr><td class = \"rowNumber\" style = \"font-weight: bold; text-align: right;\">7</td><td style = \"text-align: right;\">800</td><td style = \"text-align: right;\">0.00280028</td></tr><tr><td class = \"rowNumber\" style = \"font-weight: bold; text-align: right;\">8</td><td style = \"text-align: right;\">900</td><td style = \"text-align: right;\">0.00220022</td></tr><tr><td class = \"rowNumber\" style = \"font-weight: bold; text-align: right;\">9</td><td style = \"text-align: right;\">1000</td><td style = \"text-align: right;\">0.00230023</td></tr></tbody></table></div>"
      ],
      "text/latex": [
       "\\begin{tabular}{r|cc}\n",
       "\t& ksi & q\\_max\\\\\n",
       "\t\\hline\n",
       "\t& Int64 & Float64\\\\\n",
       "\t\\hline\n",
       "\t1 & 100 & 0.0141014 \\\\\n",
       "\t2 & 200 & 0.00610061 \\\\\n",
       "\t3 & 300 & 0.00530053 \\\\\n",
       "\t4 & 400 & 0.0040004 \\\\\n",
       "\t5 & 500 & 0.00420042 \\\\\n",
       "\t6 & 600 & 0.0030003 \\\\\n",
       "\t7 & 800 & 0.00280028 \\\\\n",
       "\t8 & 900 & 0.00220022 \\\\\n",
       "\t9 & 1000 & 0.00230023 \\\\\n",
       "\\end{tabular}\n"
      ],
      "text/plain": [
       "\u001b[1m9×2 DataFrame\u001b[0m\n",
       "\u001b[1m Row \u001b[0m│\u001b[1m ksi   \u001b[0m\u001b[1m q_max      \u001b[0m\n",
       "     │\u001b[90m Int64 \u001b[0m\u001b[90m Float64    \u001b[0m\n",
       "─────┼───────────────────\n",
       "   1 │   100  0.0141014\n",
       "   2 │   200  0.00610061\n",
       "   3 │   300  0.00530053\n",
       "   4 │   400  0.0040004\n",
       "   5 │   500  0.00420042\n",
       "   6 │   600  0.0030003\n",
       "   7 │   800  0.00280028\n",
       "   8 │   900  0.00220022\n",
       "   9 │  1000  0.00230023"
      ]
     },
     "metadata": {},
     "output_type": "display_data"
    },
    {
     "name": "stdout",
     "output_type": "stream",
     "text": [
      "[0.6377637763776378, 0.6457645764576457, 0.6465646564656465, 0.6478647864786479, 0.6476647664766476, 0.6488648864886488, 0.6490649064906491, 0.6496649664966496, 0.6495649564956496]\n"
     ]
    }
   ],
   "source": [
    "q_max = zeros(length(ksi_honeycomb))\n",
    "for i in 1:length(ksi_honeycomb)\n",
    "    q_max[i] = df_s_honeycomb.q[argmax(df_s_honeycomb[!, \"s_ksi_$(ksi_honeycomb[i])\"])]\n",
    "end\n",
    "println(q_max)\n",
    "\n",
    "\n",
    "df_max_honeycomb = DataFrame(ksi=ksi_honeycomb)  # Initialize with q values (common for all N)\n",
    "df_max_honeycomb[!, \"q_max\"] = abs.(q_max.- p_c_honeycomb)\n",
    "display(df_max_honeycomb)\n",
    "# r2_arr_max_honeycomb, model_arr_max_honeycomb, slope_arr_max_honeycomb = line_fitter(df_max_honeycomb, ksi)\n",
    "\n"
   ]
  },
  {
   "cell_type": "code",
   "execution_count": 70,
   "metadata": {},
   "outputs": [
    {
     "data": {
      "text/plain": [
       "StatsModels.TableRegressionModel{LinearModel{GLM.LmResp{Vector{Float64}}, GLM.DensePredChol{Float64, LinearAlgebra.CholeskyPivoted{Float64, Matrix{Float64}, Vector{Int64}}}}, Matrix{Float64}}\n",
       "\n",
       ":(log(q_max)) ~ 1 + :(log(ksi))\n",
       "\n",
       "Coefficients:\n",
       "──────────────────────────────────────────────────────────────────────────\n",
       "                 Coef.  Std. Error       t  Pr(>|t|)  Lower 95%  Upper 95%\n",
       "──────────────────────────────────────────────────────────────────────────\n",
       "(Intercept)  -0.930657   0.331101    -2.81    0.0261  -1.71359   -0.147727\n",
       "log(ksi)     -0.752675   0.0541951  -13.89    <1e-05  -0.880826  -0.624524\n",
       "──────────────────────────────────────────────────────────────────────────"
      ]
     },
     "metadata": {},
     "output_type": "display_data"
    },
    {
     "name": "stdout",
     "output_type": "stream",
     "text": [
      "0.9649795196129254\n"
     ]
    }
   ],
   "source": [
    "model_max_honeycomb = lm(@formula(log(q_max) ~ log(ksi) ), df_max_honeycomb)\n",
    "println(r2(model_max_honeycomb))\n",
    "display(model_max_honeycomb)\n"
   ]
  },
  {
   "cell_type": "code",
   "execution_count": 71,
   "metadata": {},
   "outputs": [
    {
     "name": "stdout",
     "output_type": "stream",
     "text": [
      "R^2: 0.9649795196129254\n"
     ]
    },
    {
     "data": {
      "text/plain": [
       "\"c:\\\\Users\\\\jonas\\\\Documents\\\\Codespace\\\\TFY4235\\\\Numerical_Physics\\\\Project_Percolation\\\\figures\\\\FSS_max_honeycomb.svg\""
      ]
     },
     "metadata": {},
     "output_type": "display_data"
    }
   ],
   "source": [
    "println(\"R^2: \", r2(model_max_honeycomb))\n",
    "FSS_max_honeycomb = scatter(log.(ksi_honeycomb), log.(df_max_honeycomb.q_max), xlabel=L\"log(\\xi)\", ylabel=L\"log(\\left|q_{max}-p_c\\right|)\",color=:green, label=\"Honeycomb: q_max\",legend=:topright)\n",
    "plot!(FSS_max_honeycomb, log.(ksi_honeycomb), predict(model_max_honeycomb), color=:red, label=\"Best fit\")\n",
    "annotate!(FSS_max_honeycomb, 6.4, -4.55, text(\"R^2: $(round(r2(model_max_honeycomb),digits=4))\",8))\n",
    "savefig(FSS_max_honeycomb, \"figures/FSS_max_honeycomb.svg\")"
   ]
  },
  {
   "cell_type": "code",
   "execution_count": 72,
   "metadata": {},
   "outputs": [
    {
     "name": "stdout",
     "output_type": "stream",
     "text": [
      "-0.1554029583402364 -0.11704202303488329 1.69159774318693 1.7775383165996623 -0.8808259550586748 -0.6245236591650145\n"
     ]
    }
   ],
   "source": [
    "# Upper and lower bounds\n",
    "# Upper and lower bounds\n",
    "\n",
    "lower_P_honeycomb = coeftable(model_arr_P_honeycomb[best_index_P_honeycomb]).cols[5][2]\n",
    "upper_P_honeycomb = coeftable(model_arr_P_honeycomb[best_index_P_honeycomb]).cols[6][2]\n",
    "\n",
    "lower_s_honeycomb = coeftable(model_sm_honeycomb).cols[5][2]\n",
    "upper_s_honeycomb = coeftable(model_sm_honeycomb).cols[6][2]\n",
    "\n",
    "lower_max_honeycomb = coeftable(model_max_honeycomb).cols[5][2]\n",
    "upper_max_honeycomb = coeftable(model_max_honeycomb).cols[6][2]\n",
    "\n",
    "println(lower_P_honeycomb, \" \", upper_P_honeycomb, \" \", lower_s_honeycomb, \" \", upper_s_honeycomb, \" \", lower_max_honeycomb, \" \", upper_max_honeycomb)"
   ]
  },
  {
   "cell_type": "code",
   "execution_count": 75,
   "metadata": {},
   "outputs": [
    {
     "name": "stdout",
     "output_type": "stream",
     "text": [
      "Numerical: nu = 1.3285950194575913, gamma = 2.3045384454265996, beta = 0.1809845226656001\n",
      "Analytical: nu = 1.3333333333333333, gamma = 2.388888888888889, beta = 0.1388888888888889\n"
     ]
    }
   ],
   "source": [
    "nu_honeycomb = - 1 / coef(model_max_honeycomb)[2]\n",
    "gamma_honeycomb = nu_honeycomb*coef(model_sm_honeycomb)[2]\n",
    "beta_honeycomb = -nu_honeycomb*slope_arr_P_honeycomb[best_index_P_honeycomb]\n",
    "println(\"Numerical: nu = $(nu_honeycomb), gamma = $(gamma_honeycomb), beta = $(beta_honeycomb)\")\n",
    "println(\"Analytical: nu = $(4/3), gamma = $(43/18), beta = $(5/36)\")"
   ]
  },
  {
   "cell_type": "code",
   "execution_count": 76,
   "metadata": {},
   "outputs": [
    {
     "name": "stdout",
     "output_type": "stream",
     "text": [
      "nu in [1.135298062298115, 1.6012203626312504]\n",
      "gamma in [1.920467640027986, 2.8462305478966536]\n",
      "beta in [0.13287758195895433, 0.24883438130752245]\n"
     ]
    }
   ],
   "source": [
    "nu_upper_honeycomb = - 1 / upper_max_honeycomb\n",
    "nu_lower_honeycomb = - 1 / lower_max_honeycomb\n",
    "\n",
    "gamma_upper_honeycomb = nu_upper_honeycomb*upper_s_honeycomb\n",
    "gamma_lower_honeycomb = nu_lower_honeycomb*lower_s_honeycomb\n",
    "\n",
    "beta_upper_honeycomb = -nu_upper_honeycomb*lower_P_honeycomb\n",
    "beta_lower_honeycomb = -nu_lower_honeycomb*upper_P_honeycomb\n",
    "\n",
    "println(\"nu in [$(nu_lower_honeycomb), $(nu_upper_honeycomb)]\")\n",
    "println(\"gamma in [$(gamma_lower_honeycomb), $(gamma_upper_honeycomb)]\")\n",
    "println(\"beta in [$(beta_lower_honeycomb), $(beta_upper_honeycomb)]\")"
   ]
  },
  {
   "cell_type": "code",
   "execution_count": 77,
   "metadata": {},
   "outputs": [
    {
     "name": "stdout",
     "output_type": "stream",
     "text": [
      "-0.27262534317365916 0.19329695715947626\n"
     ]
    }
   ],
   "source": [
    "println(nu_honeycomb - nu_upper_honeycomb, \" \", nu_honeycomb - nu_lower_honeycomb)"
   ]
  },
  {
   "cell_type": "code",
   "execution_count": 78,
   "metadata": {},
   "outputs": [
    {
     "name": "stdout",
     "output_type": "stream",
     "text": [
      "0.27952957743540463\n",
      "0.945192110036874\n"
     ]
    }
   ],
   "source": [
    "println((nu_upper_triangular - nu_lower_triangular)/2)\n",
    "println(nu_lower_triangular + (nu_upper_triangular - nu_lower_triangular)/2)\n",
    "# println(5/36)"
   ]
  },
  {
   "cell_type": "code",
   "execution_count": null,
   "metadata": {},
   "outputs": [],
   "source": []
  }
 ],
 "metadata": {
  "kernelspec": {
   "display_name": "Julia 1.11.2",
   "language": "julia",
   "name": "julia-1.11"
  },
  "language_info": {
   "file_extension": ".jl",
   "mimetype": "application/julia",
   "name": "julia",
   "version": "1.11.2"
  }
 },
 "nbformat": 4,
 "nbformat_minor": 2
}
