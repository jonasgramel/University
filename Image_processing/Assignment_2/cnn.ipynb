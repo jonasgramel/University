{
 "cells": [
  {
   "cell_type": "code",
   "execution_count": 76,
   "metadata": {},
   "outputs": [
    {
     "name": "stderr",
     "output_type": "stream",
     "text": [
      "Seed set to 42\n"
     ]
    },
    {
     "name": "stdout",
     "output_type": "stream",
     "text": [
      "The autoreload extension is already loaded. To reload it, use:\n",
      "  %reload_ext autoreload\n"
     ]
    },
    {
     "data": {
      "text/plain": [
       "42"
      ]
     },
     "execution_count": 76,
     "metadata": {},
     "output_type": "execute_result"
    }
   ],
   "source": [
    "\n",
    "%load_ext autoreload\n",
    "%autoreload 2\n",
    "\n",
    "from pl_trainer import LightningModule\n",
    "from data_module import MNISTDataModule\n",
    "from torchvision import transforms\n",
    "import torch.nn as nn\n",
    "import lightning.pytorch as pl\n",
    "import pandas as pd\n",
    "import matplotlib.pyplot as plt\n",
    "import torch\n",
    "\n",
    "pl.seed_everything(42)"
   ]
  },
  {
   "cell_type": "markdown",
   "metadata": {},
   "source": [
    "# Setting up Hyperparameters"
   ]
  },
  {
   "cell_type": "code",
   "execution_count": 77,
   "metadata": {},
   "outputs": [],
   "source": [
    "lr = 0.02 # SGD\n",
    "# lr = 0.001 # Adam\n",
    "\n",
    "batch_size = 64\n",
    "max_epochs = 5"
   ]
  },
  {
   "cell_type": "markdown",
   "metadata": {},
   "source": [
    "# Setting up Optimizer"
   ]
  },
  {
   "cell_type": "code",
   "execution_count": 78,
   "metadata": {},
   "outputs": [],
   "source": [
    "optimizer = torch.optim.SGD # SGD\n",
    "# optimizer = torch.optim.Adam # Adam"
   ]
  },
  {
   "cell_type": "markdown",
   "metadata": {},
   "source": [
    "# Defining Model Architecture "
   ]
  },
  {
   "cell_type": "code",
   "execution_count": 79,
   "metadata": {},
   "outputs": [],
   "source": [
    "def create_model():\n",
    "    \"\"\"\n",
    "        Initializes the model. Edit the code below if you would like to change the model.\n",
    "    \"\"\"\n",
    "    # Replace this placeholder network.\n",
    "    model = nn.Sequential(\n",
    "        # First convolutional layer\n",
    "        nn.Conv2d(in_channels=1, out_channels=32, kernel_size=5, stride=1, padding=2, bias=32),\n",
    "        nn.ReLU(),\n",
    "        nn.MaxPool2d(kernel_size=2, stride=2),\n",
    "        # Second convolutional layer\n",
    "        nn.Conv2d(in_channels=32, out_channels=64, kernel_size=3, stride=1, padding=1, bias=64),\n",
    "        nn.ReLU(),\n",
    "        nn.MaxPool2d(kernel_size=2, stride=2),\n",
    "        # Third convolutional layer\n",
    "        nn.Conv2d(in_channels=64, out_channels=128, kernel_size=3, stride=1, padding=1, bias=128),\n",
    "        nn.ReLU(),\n",
    "        nn.MaxPool2d(kernel_size=2, stride=2),\n",
    "        nn.Flatten(),\n",
    "        # First fully connected layer\n",
    "        nn.Linear(in_features=128*4*4, out_features=64),\n",
    "        nn.ReLU(),\n",
    "        # Second fully connected layer\n",
    "        nn.Linear(in_features=64, out_features=10),\n",
    "    \n",
    "    )\n",
    "    \n",
    "    return model\n",
    "\n",
    "# Initialize the model, data module, and trainer\n",
    "pl_model = LightningModule(model=create_model(), lr=lr, optimizer=optimizer)"
   ]
  },
  {
   "cell_type": "markdown",
   "metadata": {},
   "source": [
    "# Setting up Dataloaders and Transformations"
   ]
  },
  {
   "cell_type": "code",
   "execution_count": 80,
   "metadata": {},
   "outputs": [],
   "source": [
    "my_transforms = transforms.Compose([\n",
    "        transforms.Resize((32, 32)),\n",
    "        transforms.ToTensor(),\n",
    "        transforms.Normalize([0.5], [0.5])])\n",
    "\n",
    "\n",
    "mnist_data = MNISTDataModule(batch_size=batch_size, transforms=my_transforms)"
   ]
  },
  {
   "cell_type": "markdown",
   "metadata": {},
   "source": [
    "# Train Model"
   ]
  },
  {
   "cell_type": "code",
   "execution_count": 81,
   "metadata": {},
   "outputs": [
    {
     "name": "stderr",
     "output_type": "stream",
     "text": [
      "GPU available: False, used: False\n",
      "TPU available: False, using: 0 TPU cores\n",
      "HPU available: False, using: 0 HPUs\n",
      "c:\\Users\\jonas\\anaconda3\\envs\\tdt4195\\lib\\site-packages\\lightning\\fabric\\loggers\\csv_logs.py:268: Experiment logs directory logs/mnist_logs\\version_0 exists and is not empty. Previous log files in this directory will be deleted when the new ones are saved!\n",
      "\n",
      "  | Name    | Type               | Params | Mode \n",
      "-------------------------------------------------------\n",
      "0 | model   | Sequential         | 224 K  | train\n",
      "1 | loss_fn | CrossEntropyLoss   | 0      | train\n",
      "2 | acc_fn  | MulticlassAccuracy | 0      | train\n",
      "-------------------------------------------------------\n",
      "224 K     Trainable params\n",
      "0         Non-trainable params\n",
      "224 K     Total params\n",
      "0.900     Total estimated model params size (MB)\n",
      "16        Modules in train mode\n",
      "0         Modules in eval mode\n"
     ]
    },
    {
     "name": "stdout",
     "output_type": "stream",
     "text": [
      "                                                                           "
     ]
    },
    {
     "name": "stderr",
     "output_type": "stream",
     "text": [
      "c:\\Users\\jonas\\anaconda3\\envs\\tdt4195\\lib\\site-packages\\lightning\\pytorch\\trainer\\connectors\\data_connector.py:424: The 'val_dataloader' does not have many workers which may be a bottleneck. Consider increasing the value of the `num_workers` argument` to `num_workers=15` in the `DataLoader` to improve performance.\n",
      "c:\\Users\\jonas\\anaconda3\\envs\\tdt4195\\lib\\site-packages\\lightning\\pytorch\\trainer\\connectors\\data_connector.py:424: The 'train_dataloader' does not have many workers which may be a bottleneck. Consider increasing the value of the `num_workers` argument` to `num_workers=15` in the `DataLoader` to improve performance.\n"
     ]
    },
    {
     "name": "stdout",
     "output_type": "stream",
     "text": [
      "Epoch 4: 100%|██████████| 937/937 [00:34<00:00, 27.21it/s, v_num=0, val_acc=0.981, val_loss=0.0574]"
     ]
    },
    {
     "name": "stderr",
     "output_type": "stream",
     "text": [
      "`Trainer.fit` stopped: `max_epochs=5` reached.\n"
     ]
    },
    {
     "name": "stdout",
     "output_type": "stream",
     "text": [
      "Epoch 4: 100%|██████████| 937/937 [00:34<00:00, 27.21it/s, v_num=0, val_acc=0.981, val_loss=0.0574]\n"
     ]
    }
   ],
   "source": [
    "# Initialize CSVLogger\n",
    "csv_logger = pl.loggers.CSVLogger(save_dir='logs/', name='mnist_logs', version=0)\n",
    "\n",
    "# Set up the trainer\n",
    "trainer = pl.Trainer(max_epochs=max_epochs, \n",
    "                     logger=csv_logger, \n",
    "                     check_val_every_n_epoch=1, \n",
    "                     enable_checkpointing=False,\n",
    "                     deterministic=True)\n",
    "\n",
    "# Train the model\n",
    "trainer.fit(pl_model, mnist_data)"
   ]
  },
  {
   "cell_type": "markdown",
   "metadata": {},
   "source": [
    "# Plot Results"
   ]
  },
  {
   "cell_type": "code",
   "execution_count": 83,
   "metadata": {},
   "outputs": [
    {
     "data": {
      "image/png": "[encoded data removed]",
      "text/plain": [
       "<Figure size 640x480 with 2 Axes>"
      ]
     },
     "metadata": {},
     "output_type": "display_data"
    },
    {
     "name": "stdout",
     "output_type": "stream",
     "text": [
      "Final validation loss 0.0574\n",
      "Final validation accuracy 0.9807\n"
     ]
    }
   ],
   "source": [
    "df = pd.read_csv('logs/mnist_logs/version_0/metrics.csv')\n",
    "\n",
    "# Create a figure and axes objects\n",
    "fig, ax = plt.subplots(1,2)\n",
    "\n",
    "# Plot 'val_loss' on the axes\n",
    "df.dropna(subset=['val_loss']).plot(x='step', y='val_loss', ax=ax[0], label='Validation Loss (Mean)')\n",
    "# Plot 'train_loss' on the same axes\n",
    "df.dropna(subset=['train_loss']).plot(x='step', y='train_loss', ax=ax[0], label='Training Loss')\n",
    "\n",
    "# Plot 'val_loss' on the axes\n",
    "df.dropna(subset=['val_acc']).plot(x='step', y='val_acc', ax=ax[1], label='Validation Accuracy (Mean)')\n",
    "# Plot 'train_loss' on the same axes\n",
    "df.dropna(subset=['train_acc']).plot(x='step', y='train_acc', ax=ax[1], label='Training Accuracy')\n",
    "\n",
    "ax[0].set_title('Loss')\n",
    "ax[1].set_title('Accuracy')\n",
    "plt.show()\n",
    "\n",
    "print(\"Final validation loss\", round(df['val_loss'].iloc[-1], 4))\n",
    "print(\"Final validation accuracy\", round(df['val_acc'].iloc[-1], 4))"
   ]
  },
  {
   "cell_type": "code",
   "execution_count": null,
   "metadata": {},
   "outputs": [],
   "source": []
  }
 ],
 "metadata": {
  "kernelspec": {
   "display_name": "tdt4195",
   "language": "python",
   "name": "python3"
  },
  "language_info": {
   "codemirror_mode": {
    "name": "ipython",
    "version": 3
   },
   "file_extension": ".py",
   "mimetype": "text/x-python",
   "name": "python",
   "nbconvert_exporter": "python",
   "pygments_lexer": "ipython3",
   "version": "3.10.15"
  }
 },
 "nbformat": 4,
 "nbformat_minor": 2
}
