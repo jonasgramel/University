{
 "cells": [
  {
   "cell_type": "code",
   "execution_count": 6,
   "metadata": {},
   "outputs": [],
   "source": [
    "import numpy as np\n",
    "import skimage\n",
    "import utils\n",
    "import pathlib\n",
    "import matplotlib.pyplot as plt"
   ]
  },
  {
   "cell_type": "code",
   "execution_count": null,
   "metadata": {},
   "outputs": [],
   "source": [
    "def otsu_thresholding(im: np.ndarray) -> int:\n",
    "    \"\"\"\n",
    "        Otsu's thresholding algorithm that segments an image into 1 or 0 (True or False)\n",
    "        The function takes in a grayscale image and outputs a threshold value\n",
    "\n",
    "        args:\n",
    "            im: np.ndarray of shape (H, W) in the range [0, 255] (dtype=np.uint8)\n",
    "        return:\n",
    "            (int) the computed thresholding value\n",
    "    \"\"\"\n",
    "    assert im.dtype == np.uint8\n",
    "\n",
    "    # Normalized histogram\n",
    "    hist = np.histogram(im.flatten(), bins=256, range=(0, 256))[0] / im.size  # One bin per number of possible pixel values\n",
    "    \n",
    "    # Cumulative sum\n",
    "    cum_sum = np.cumsum(hist)\n",
    "\n",
    "    # Cumulative mean\n",
    "    cum_mean = np.cumsum(hist * np.arange(256)) \n",
    "  \n",
    "    # Global mean\n",
    "    global_mean = cum_mean[-1]  # Cumulative mean of i up to k = L-1, which is the last element of cum_mean\n",
    "\n",
    "    # Between class variance\n",
    "    sigma_b = (global_mean * cum_sum - cum_mean)**2 / (cum_sum * (1 - cum_sum))\n",
    "    sigma_b = np.nan_to_num(sigma_b)  # Convert NaNs to 0\n",
    "    \n",
    "    # Find the threshold k*\n",
    "    threshold = np.argmax(sigma_b)\n",
    "   \n",
    "    return threshold\n",
    "    ### END YOUR CODE HERE ### "
   ]
  },
  {
   "cell_type": "code",
   "execution_count": 85,
   "metadata": {},
   "outputs": [
    {
     "name": "stdout",
     "output_type": "stream",
     "text": [
      "Reading image: images\\thumbprint.png\n",
      "Found optimal threshold: 153\n",
      "Saving image to: image_processed\\thumbprint-segmented.png\n",
      "Reading image: images\\rice-shaded.png\n",
      "Found optimal threshold: 134\n",
      "Saving image to: image_processed\\rice-shaded-segmented.png\n"
     ]
    },
    {
     "name": "stderr",
     "output_type": "stream",
     "text": [
      "C:\\Users\\jonas\\AppData\\Local\\Temp\\ipykernel_16860\\2418409559.py:26: RuntimeWarning: invalid value encountered in divide\n",
      "  sigma_b = (global_mean * cum_sum - cum_mean)**2 / (cum_sum * (1 - cum_sum))\n"
     ]
    }
   ],
   "source": [
    "if __name__ == \"__main__\":\n",
    "    # DO NOT CHANGE\n",
    "    impaths_to_segment = [\n",
    "        pathlib.Path(\"thumbprint.png\"),\n",
    "        pathlib.Path(\"rice-shaded.png\")\n",
    "    ]\n",
    "    for impath in impaths_to_segment:\n",
    "        im = utils.read_image(impath)\n",
    "        threshold = otsu_thresholding(im)\n",
    "        print(\"Found optimal threshold:\", threshold)\n",
    "\n",
    "        # Segment the image by threshold\n",
    "        segmented_image = (im >= threshold)\n",
    "        assert im.shape == segmented_image.shape, \"Expected image shape ({}) to be same as thresholded image shape ({})\".format(\n",
    "                im.shape, segmented_image.shape)\n",
    "        assert segmented_image.dtype == bool, \"Expected thresholded image dtype to be bool. Was: {}\".format(\n",
    "                segmented_image.dtype)\n",
    "\n",
    "        segmented_image = utils.to_uint8(segmented_image)\n",
    "\n",
    "        save_path = \"{}-segmented.png\".format(impath.stem)\n",
    "        utils.save_im(save_path, segmented_image)\n",
    "\n",
    "        \n"
   ]
  },
  {
   "cell_type": "code",
   "execution_count": null,
   "metadata": {},
   "outputs": [],
   "source": []
  }
 ],
 "metadata": {
  "kernelspec": {
   "display_name": "tdt4195",
   "language": "python",
   "name": "python3"
  },
  "language_info": {
   "codemirror_mode": {
    "name": "ipython",
    "version": 3
   },
   "file_extension": ".py",
   "mimetype": "text/x-python",
   "name": "python",
   "nbconvert_exporter": "python",
   "pygments_lexer": "ipython3",
   "version": "3.10.15"
  }
 },
 "nbformat": 4,
 "nbformat_minor": 2
}
