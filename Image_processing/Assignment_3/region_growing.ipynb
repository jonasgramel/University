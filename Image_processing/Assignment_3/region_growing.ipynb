{
 "cells": [
  {
   "cell_type": "code",
   "execution_count": 201,
   "metadata": {},
   "outputs": [],
   "source": [
    "import utils\n",
    "import numpy as np"
   ]
  },
  {
   "cell_type": "code",
   "execution_count": 202,
   "metadata": {},
   "outputs": [],
   "source": [
    "# def region_growing(im: np.ndarray, seed_points: list, T: int) -> np.ndarray:\n",
    "#     \"\"\"\n",
    "#         A region growing algorithm that segments an image into 1 or 0 (True or False).\n",
    "#         Finds candidate pixels with a Moore-neighborhood (8-connectedness). \n",
    "#         Uses pixel intensity thresholding with the threshold T as the homogeneity criteria.\n",
    "#         The function takes in a grayscale image and outputs a boolean image\n",
    "\n",
    "#         args:\n",
    "#             im: np.ndarray of shape (H, W) in the range [0, 255] (dtype=np.uint8)\n",
    "#             seed_points: list of list containing seed points (row, col). Ex:\n",
    "#                 [[row1, col1], [row2, col2], ...]\n",
    "#             T: integer value defining the threshold to used for the homogeneity criteria.\n",
    "#         return:\n",
    "#             (np.ndarray) of shape (H, W). dtype=bool\n",
    "#     \"\"\"\n",
    "#     ### START YOUR CODE HERE ### (You can change anything inside this block)\n",
    "\n",
    "#     im = im.astype(float)\n",
    "#     segmented = np.zeros_like(im, dtype=bool)\n",
    "#     H, W = im.shape\n",
    "\n",
    "#     active_front = seed_points.copy()     # Make a queue with the seed points ])  \n",
    "#     for (row, col) in seed_points:\n",
    "#         segmented[row, col] = True\n",
    "        \n",
    "#     while len(active_front) > 0:          # As longs as there are points in the queue\n",
    "#         row, col = active_front.pop(0)    # Pop the first point\n",
    "#         # if segmented[row, col] == -1:      # Check if the point is not already segmented\n",
    "#         #     # Find the indices of the neighbors\n",
    "#         neighbors = [(row + 1, col), (row - 1, col), (row, col + 1), \n",
    "#             (row, col - 1), (row + 1, col + 1), (row + 1, col - 1), \n",
    "#             (row - 1, col + 1), (row - 1, col - 1)]\n",
    "#         neighbors = [(r, c) for r, c in neighbors if 0 <= r < H and 0 <= c < W]\n",
    "        \n",
    "#         for row_cor, col_cor in neighbors:\n",
    "#             if not segmented[row_cor, col_cor] == 0 and abs(im[row, col] - im[row_cor,col_cor]) < T:\n",
    "#                 segmented[row_cor, col_cor] = True\n",
    "#                 active_front.append((row_cor, col_cor))\n",
    "#     print(segmented.sum())\n",
    "#     return segmented.astype(bool)\n",
    "#     ### END YOUR CODE HERE ### "
   ]
  },
  {
   "cell_type": "code",
   "execution_count": 209,
   "metadata": {},
   "outputs": [],
   "source": [
    "def region_growing(im: np.ndarray, seed_points: list, T: int) -> np.ndarray:\n",
    "    \"\"\"\n",
    "        A region growing algorithm that segments an image into 1 or 0 (True or False).\n",
    "        Finds candidate pixels with a Moore-neighborhood (8-connectedness). \n",
    "        Uses pixel intensity thresholding with the threshold T as the homogeneity criteria.\n",
    "        The function takes in a grayscale image and outputs a boolean image.\n",
    "\n",
    "        args:\n",
    "            im: np.ndarray of shape (H, W) in the range [0, 255] (dtype=np.uint8)\n",
    "            seed_points: list of list containing seed points (row, col). Ex:\n",
    "                [[row1, col1], [row2, col2], ...]\n",
    "            T: integer value defining the threshold to be used for the homogeneity criteria.\n",
    "        return:\n",
    "            (np.ndarray) of shape (H, W). dtype=bool\n",
    "    \"\"\"\n",
    "    im = im.astype(float)\n",
    "    segmented = np.zeros_like(im, dtype=bool)  # Segmented image (f_q)\n",
    "    H, W = im.shape                            # Image dimensions\n",
    "\n",
    "    active_front = []                  # Queue for the pixels to be checked\n",
    "    for (row, col) in seed_points:\n",
    "        segmented[row, col] = True     # Mark seed points as segmented\n",
    "        active_front.append((row, col, im[row, col]))  # Include intensity of seed\n",
    "\n",
    "    while len(active_front) > 0:  # While there are points in the queue\n",
    "        p_r, p_c, I_p = active_front.pop() # Pot the first point p and its intensity, I_p\n",
    "                                           # p_r: row of seed, p_c: column of seed\n",
    "        # Define neighbors with 8-connectivity\n",
    "        neighbors = [\n",
    "            (p_r + 1, p_c), (p_r - 1, p_c), (p_r, p_c + 1), (p_r, p_c - 1),\n",
    "            (p_r + 1, p_c + 1), (p_r + 1, p_c - 1), (p_r - 1, p_c + 1), (p_r - 1, p_c - 1)\n",
    "        ]\n",
    "        neighbors = [(row, col) for row, col in neighbors if 0 <= row < H and 0 <= col < W]  # Remove out of bounds indexes\n",
    "\n",
    "        for q_r, q_c in neighbors:   # Iterate over the neighbors, q_r: row of neighbor, q_c: column of neighbor\n",
    "            # Handle only non-handled pixels with intensity difference below the threshold\n",
    "            if not segmented[q_r, q_c] and abs(I_p - im[q_r, q_c]) < T:\n",
    "                segmented[q_r, q_c] = True    # Mark as segmented\n",
    "                active_front.append((q_r, q_c, I_p))  # Add to the active front\n",
    "\n",
    "    return segmented\n"
   ]
  },
  {
   "cell_type": "code",
   "execution_count": 210,
   "metadata": {},
   "outputs": [
    {
     "name": "stdout",
     "output_type": "stream",
     "text": [
      "Reading image: images\\defective-weld.png\n",
      "Saving image to: image_processed\\defective-weld-segmented.png\n"
     ]
    },
    {
     "name": "stderr",
     "output_type": "stream",
     "text": [
      "c:\\Users\\jonas\\Documents\\Codespace\\TDT4195\\Image_Processing\\TDT4195-StarterCode-2024\\Assignment 3\\utils.py:56: UserWarning: C:\\Users\\jonas\\Documents\\Codespace\\TDT4195\\Image_Processing\\TDT4195-StarterCode-2024\\Assignment 3\\image_processed\\defective-weld-segmented.png is a low contrast image\n",
      "  skimage.io.imsave(impath, im)\n"
     ]
    }
   ],
   "source": [
    "if __name__ == \"__main__\":\n",
    "    # DO NOT CHANGE\n",
    "    im = utils.read_image(\"defective-weld.png\")\n",
    "\n",
    "    seed_points = [ # (row, column)\n",
    "        [254, 138], # Seed point 1\n",
    "        [253, 296], # Seed point 2\n",
    "        [233, 436], # Seed point 3\n",
    "        [232, 417], # Seed point 4\n",
    "    ]\n",
    "    intensity_threshold = 50\n",
    "    segmented_image = region_growing(im, seed_points, intensity_threshold)\n",
    "\n",
    "    assert im.shape == segmented_image.shape, \"Expected image shape ({}) to be same as thresholded image shape ({})\".format(\n",
    "        im.shape, segmented_image.shape)\n",
    "    assert segmented_image.dtype == bool, \"Expected thresholded image dtype to be bool. Was: {}\".format(\n",
    "            segmented_image.dtype)\n",
    "\n",
    "    segmented_image = utils.to_uint8(segmented_image)\n",
    "    utils.save_im(\"defective-weld-segmented.png\", segmented_image)\n"
   ]
  },
  {
   "cell_type": "code",
   "execution_count": null,
   "metadata": {},
   "outputs": [],
   "source": []
  }
 ],
 "metadata": {
  "kernelspec": {
   "display_name": "tdt4195",
   "language": "python",
   "name": "python3"
  },
  "language_info": {
   "codemirror_mode": {
    "name": "ipython",
    "version": 3
   },
   "file_extension": ".py",
   "mimetype": "text/x-python",
   "name": "python",
   "nbconvert_exporter": "python",
   "pygments_lexer": "ipython3",
   "version": "3.10.15"
  }
 },
 "nbformat": 4,
 "nbformat_minor": 2
}
